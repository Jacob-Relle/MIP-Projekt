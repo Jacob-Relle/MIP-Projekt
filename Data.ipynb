{
 "cells": [
  {
   "cell_type": "code",
   "execution_count": null,
   "id": "4d3f6a6e",
   "metadata": {},
   "outputs": [],
   "source": [
    "from generate_fragments import generate_fragments\n",
    "from Multi_Nuclei_Segmentation import create_images, optimise_regions, multi_segmentation\n",
    "import matplotlib.pyplot as plt\n",
    "import numpy as np\n",
    "\n",
    "from tqdm import tqdm"
   ]
  },
  {
   "cell_type": "code",
   "execution_count": null,
   "id": "1a222021",
   "metadata": {},
   "outputs": [],
   "source": [
    "lengthS = np.zeros(50)\n",
    "lengthOmega = np.zeros(50)\n",
    "for i in tqdm(range(0,50)):\n",
    "    image = plt.imread('images/dna-images/gnf/dna-' + str(i) + '.png')[...,0]\n",
    "    Omega,S = generate_fragments(image,16,0.01,20,2,100)\n",
    "    \n",
    "    lengthS[i] = len(S)\n",
    "    from skimage.measure import regionprops\n",
    "    lengthOmega[i] = len(regionprops(Omega))\n",
    "    \n",
    "    ListOfCoords = create_images(Omega, S)\n",
    "    theta, f = optimise_regions(image, ListOfCoords, n_jobs=-3)\n",
    "    seg = multi_segmentation(image, Omega, S, theta, f, np.median(f))\n",
    "    \n",
    "    fig, ax = plt.subplots()\n",
    "    ax.imshow(image, cmap=plt.cm.gray)\n",
    "    for ellipse in seg:\n",
    "        for contour in ellipse:\n",
    "            ax.plot(contour[:, 1], contour[:, 0], linewidth=2)\n",
    "    plt.axis('off')\n",
    "    plt.savefig('images/segmented/dna-' + str(i) + '.png', bbox_inches = 'tight')"
   ]
  }
 ],
 "metadata": {
  "kernelspec": {
   "display_name": "Python 3",
   "language": "python",
   "name": "python3"
  },
  "language_info": {
   "codemirror_mode": {
    "name": "ipython",
    "version": 3
   },
   "file_extension": ".py",
   "mimetype": "text/x-python",
   "name": "python",
   "nbconvert_exporter": "python",
   "pygments_lexer": "ipython3",
   "version": "3.9.4"
  }
 },
 "nbformat": 4,
 "nbformat_minor": 5
}
