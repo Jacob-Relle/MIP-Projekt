{
 "cells": [
  {
   "cell_type": "code",
   "execution_count": 1,
   "source": [
    "import numpy as np\n",
    "import matplotlib.pyplot as plt\n",
    "import itertools #used to generate subsets\n",
    "import networkx as nx #easy to check for connectivity\n",
    "from scipy.ndimage import gaussian_filter\n",
    "from skimage.segmentation import watershed\n",
    "from skimage.future.graph import RAG\n",
    "from sknetwork.path import distance\n",
    "from skimage import util\n",
    "\n",
    "# import sknetwork as skn\n",
    "# from scipy import sparse\n"
   ],
   "outputs": [],
   "metadata": {}
  },
  {
   "cell_type": "code",
   "execution_count": 2,
   "source": [
    "#get image and define the image space\n",
    "image = plt.imread('images/dna-images/gnf/dna-0.png')[...,0]\n",
    "image_range = np.array([[i,j]for i in range(image.shape[0]) for j in range(image.shape[1])])"
   ],
   "outputs": [],
   "metadata": {}
  },
  {
   "cell_type": "code",
   "execution_count": null,
   "source": [
    "#To be removed\n",
    "'''\n",
    "def B_delta(p,delta): #rename suggestion: delta ball\n",
    "    B = np.empty_like([p])\n",
    "    for q in image_range:\n",
    "        if sum(abs(p-q)) <= delta:\n",
    "            B = np.append(B,[q],axis=0)\n",
    "    return B\n",
    "'''"
   ],
   "outputs": [],
   "metadata": {}
  },
  {
   "cell_type": "markdown",
   "source": [
    "## Algorithm I"
   ],
   "metadata": {}
  },
  {
   "cell_type": "markdown",
   "source": [
    "### TODO"
   ],
   "metadata": {}
  },
  {
   "cell_type": "markdown",
   "source": [
    "- Alg I takes too long for graph > 10 nodes. Suggestions:\n",
    "    - remove all subgraphs that were already added to the list : DONE\n",
    "    - problem traced back to GenerateConnectedSubgraphs. \n",
    "        - Is there a more efficent way than itertools?\n",
    "        - nx.is_connected takes very long."
   ],
   "metadata": {}
  },
  {
   "cell_type": "code",
   "execution_count": 7,
   "source": [
    "def generate_connected_subgraphs(G):\n",
    "    dim = nx.number_of_nodes(G)\n",
    "    vertices = range(dim)\n",
    "    S = []\n",
    "\n",
    "    for length in range(1,dim+1):\n",
    "        for subs in list(itertools.combinations(vertices, length)):\n",
    "            H = nx.induced_subgraph(G, subs)\n",
    "            if len(subs) == 1:\n",
    "                S.append(H)\n",
    "            elif nx.is_connected(H):\n",
    "                S.append(H)\n",
    "    return S"
   ],
   "outputs": [],
   "metadata": {}
  },
  {
   "cell_type": "code",
   "execution_count": 4,
   "source": [
    "def generate_fragments(img,std_dev,int_threshold,min_seed_dist,max_search_depth,max_frag_dist):\n",
    "    #smooth image with gausian filter\n",
    "    g = gaussian_filter(img,std_dev)\n",
    "    #create empty copy of g to fill watersheed markers\n",
    "    g_markers = np.zeros_like(g)\n",
    "    #create empty copy of g to check for localmax\n",
    "    g_checked = np.copy(g)\n",
    "    \n",
    "    #Fehlerabfangen\n",
    "    \n",
    "    if std_dev < 0:\n",
    "        raise ValueError(\"smoothing strength needs to be positive\")\n",
    "    if int_threshold > 1 or int_threshold < 0:\n",
    "        raise ValueError(\"relative intensity threshold needs to be between 0 and 1\")\n",
    "    if min_seed_dist < 1:\n",
    "        raise ValueError(\"min seed distance needs to be >= 1\")\n",
    "    if max_search_depth < 0:\n",
    "        raise ValueError(\"maximum search error needs to be positive\")\n",
    "    if max_frag_dist < 0:\n",
    "        raise ValueError(\"maximum fragments distance needs zo be positive\")\n",
    "        \n",
    "    #Create array of watershed seeds\n",
    "    PI = []\n",
    "    #Loop while there are still unchecked regions\n",
    "    while np.amax(g_checked) != 0:\n",
    "        #Get indicies of g where g is maximal\n",
    "        glob_max = np.argwhere(g_checked == g_checked.max())\n",
    "        #Loop over all maximum points\n",
    "        for p in glob_max:\n",
    "            #Set boundaries for the local ball B\n",
    "            upper_bound = [max(0,p[0]-min_seed_dist),max(0,p[1]-min_seed_dist)]\n",
    "            lower_bound = [min(p[0]+min_seed_dist+1,g.shape[0]),min(p[1]+min_seed_dist+1,g.shape[1])]\n",
    "            #Create set with local points around p\n",
    "            B = g[upper_bound[0]:lower_bound[0],upper_bound[1]:lower_bound[1]]\n",
    "            #Check if p is strong local maximum\n",
    "            if (g[tuple(p)] == np.amax(B) and (1-int_threshold)*g[tuple(p)] >= np.amin(B)): \n",
    "                #add p to the set of seeds\n",
    "                PI.append(p)\n",
    "                #Set label of the seed\n",
    "                g_markers[tuple(p)] = len(PI)\n",
    "            #Set the Area B = 0\n",
    "            g_checked[upper_bound[0]:lower_bound[0],upper_bound[1]:lower_bound[1]] = 0\n",
    "    \n",
    "    #Create Watershed regions\n",
    "    Omega = watershed(util.invert(g),markers=g_markers)\n",
    "    \n",
    "    #To be removed\n",
    "    '''\n",
    "    #Create array of watershed regions\n",
    "    Omega_ind = []\n",
    "    #loop over all labels\n",
    "    for label in range(1,len(PI)+1):\n",
    "        #Create array of the indices of this label\n",
    "        w = np.argwhere(Omega==label) \n",
    "        #Add the array of indices to Omega_ind\n",
    "        Omega_ind.append(w)\n",
    "    \n",
    "    #Loop over number of all regions except the last\n",
    "    for i in range(len(Omega)-1):\n",
    "        #Loop over number of not used regions\n",
    "        for j in range(i+1, len(Omega)):\n",
    "            #local intensity peaks r(w)??\n",
    "            if not sum(abs(PI[i] - PI[j])) <= max_frag_dist:\n",
    "                Epsilon[i,j] = 0\n",
    "                Epsilon[j,i] = 0   \n",
    "    '''\n",
    "\n",
    "    #Create connectivity matrix\n",
    "    Epsilon = RAG(Omega,connectivity=2)\n",
    "\n",
    "    S = []\n",
    "    subgraphs_set = generate_connected_subgraphs(Epsilon)\n",
    "    #iterate over all graph vertices\n",
    "    for H in subgraphs_set:\n",
    "        if v in nx.nodes(H):\n",
    "            if max(nx.single_source_shortest_path_length(H, v).values()) <= max_search_depth:\n",
    "                Nodes = tuple([w for w in nx.nodes(H)])\n",
    "                S.add(Nodes)\n",
    "                break\n",
    "    S = [set(x) for x in S]\n",
    "\n",
    "    return Omega,S"
   ],
   "outputs": [],
   "metadata": {}
  },
  {
   "cell_type": "markdown",
   "source": [
    "###  Test: Algorithm I"
   ],
   "metadata": {}
  },
  {
   "cell_type": "code",
   "execution_count": 5,
   "source": [
    "adjacency = np.array([[0, 1, 1, 0], [1, 0, 1, 1], [1, 1, 0, 0], [0, 1, 0, 0]])\n",
    "G = nx.Graph(adjacency)\n",
    "nx.draw(G)"
   ],
   "outputs": [
    {
     "output_type": "display_data",
     "data": {
      "image/png": "[encoded data removed]",
      "text/plain": [
       "<Figure size 432x288 with 1 Axes>"
      ]
     },
     "metadata": {}
    }
   ],
   "metadata": {}
  },
  {
   "cell_type": "code",
   "execution_count": 6,
   "source": [
    "#testing ALg I\n",
    "a,b = generate_fragments(image,1,0.1,150,1,1)\n",
    "plt.imshow(a)\n",
    "plt.show()\n",
    "\n",
    "#to use when c = Epsilon\n",
    "#nx.draw(c)\n",
    "#nx.number_of_nodes(c)\n",
    "#print(c)\n",
    "#won't print c, idk why"
   ],
   "outputs": [
    {
     "output_type": "error",
     "ename": "KeyboardInterrupt",
     "evalue": "",
     "traceback": [
      "\u001b[0;31m---------------------------------------------------------------------------\u001b[0m",
      "\u001b[0;31mKeyboardInterrupt\u001b[0m                         Traceback (most recent call last)",
      "\u001b[0;32m<ipython-input-6-9044c9bc093a>\u001b[0m in \u001b[0;36m<module>\u001b[0;34m\u001b[0m\n\u001b[1;32m      1\u001b[0m \u001b[0;31m#testing ALg I\u001b[0m\u001b[0;34m\u001b[0m\u001b[0;34m\u001b[0m\u001b[0;34m\u001b[0m\u001b[0m\n\u001b[0;32m----> 2\u001b[0;31m \u001b[0ma\u001b[0m\u001b[0;34m,\u001b[0m\u001b[0mb\u001b[0m\u001b[0;34m,\u001b[0m\u001b[0mc\u001b[0m \u001b[0;34m=\u001b[0m \u001b[0mgenerate_fragments\u001b[0m\u001b[0;34m(\u001b[0m\u001b[0mimage\u001b[0m\u001b[0;34m,\u001b[0m\u001b[0;36m1\u001b[0m\u001b[0;34m,\u001b[0m\u001b[0;36m0.1\u001b[0m\u001b[0;34m,\u001b[0m\u001b[0;36m150\u001b[0m\u001b[0;34m,\u001b[0m\u001b[0;36m1\u001b[0m\u001b[0;34m,\u001b[0m\u001b[0;36m1\u001b[0m\u001b[0;34m)\u001b[0m\u001b[0;34m\u001b[0m\u001b[0;34m\u001b[0m\u001b[0m\n\u001b[0m\u001b[1;32m      3\u001b[0m \u001b[0mplt\u001b[0m\u001b[0;34m.\u001b[0m\u001b[0mimshow\u001b[0m\u001b[0;34m(\u001b[0m\u001b[0mb\u001b[0m\u001b[0;34m)\u001b[0m\u001b[0;34m\u001b[0m\u001b[0;34m\u001b[0m\u001b[0m\n\u001b[1;32m      4\u001b[0m \u001b[0mplt\u001b[0m\u001b[0;34m.\u001b[0m\u001b[0mshow\u001b[0m\u001b[0;34m(\u001b[0m\u001b[0;34m)\u001b[0m\u001b[0;34m\u001b[0m\u001b[0;34m\u001b[0m\u001b[0m\n\u001b[1;32m      5\u001b[0m \u001b[0;34m\u001b[0m\u001b[0m\n",
      "\u001b[0;32m<ipython-input-4-5957c4dd6916>\u001b[0m in \u001b[0;36mgenerate_fragments\u001b[0;34m(img, std_dev, int_threshold, min_seed_dist, max_search_depth, max_frag_dist)\u001b[0m\n\u001b[1;32m     67\u001b[0m     '''\n\u001b[1;32m     68\u001b[0m     \u001b[0mS\u001b[0m \u001b[0;34m=\u001b[0m \u001b[0;34m[\u001b[0m\u001b[0;34m]\u001b[0m\u001b[0;34m\u001b[0m\u001b[0;34m\u001b[0m\u001b[0m\n\u001b[0;32m---> 69\u001b[0;31m     \u001b[0msubgraphs_set\u001b[0m \u001b[0;34m=\u001b[0m \u001b[0mgenerate_connected_subgraphs\u001b[0m\u001b[0;34m(\u001b[0m\u001b[0mEpsilon\u001b[0m\u001b[0;34m)\u001b[0m\u001b[0;34m\u001b[0m\u001b[0;34m\u001b[0m\u001b[0m\n\u001b[0m\u001b[1;32m     70\u001b[0m     \u001b[0;31m#iterate over all graph vertices\u001b[0m\u001b[0;34m\u001b[0m\u001b[0;34m\u001b[0m\u001b[0;34m\u001b[0m\u001b[0m\n\u001b[1;32m     71\u001b[0m     \u001b[0;32mfor\u001b[0m \u001b[0mH\u001b[0m \u001b[0;32min\u001b[0m \u001b[0msubgraphs_set\u001b[0m\u001b[0;34m:\u001b[0m\u001b[0;34m\u001b[0m\u001b[0;34m\u001b[0m\u001b[0m\n",
      "\u001b[0;32m<ipython-input-3-8bc3aa1d3980>\u001b[0m in \u001b[0;36mgenerate_connected_subgraphs\u001b[0;34m(G)\u001b[0m\n\u001b[1;32m      9\u001b[0m             \u001b[0;32mif\u001b[0m \u001b[0mlen\u001b[0m\u001b[0;34m(\u001b[0m\u001b[0msubs\u001b[0m\u001b[0;34m)\u001b[0m \u001b[0;34m==\u001b[0m \u001b[0;36m1\u001b[0m\u001b[0;34m:\u001b[0m\u001b[0;34m\u001b[0m\u001b[0;34m\u001b[0m\u001b[0m\n\u001b[1;32m     10\u001b[0m                 \u001b[0mS\u001b[0m\u001b[0;34m.\u001b[0m\u001b[0mappend\u001b[0m\u001b[0;34m(\u001b[0m\u001b[0mH\u001b[0m\u001b[0;34m)\u001b[0m\u001b[0;34m\u001b[0m\u001b[0;34m\u001b[0m\u001b[0m\n\u001b[0;32m---> 11\u001b[0;31m             \u001b[0;32melif\u001b[0m \u001b[0mnx\u001b[0m\u001b[0;34m.\u001b[0m\u001b[0mis_connected\u001b[0m\u001b[0;34m(\u001b[0m\u001b[0mH\u001b[0m\u001b[0;34m)\u001b[0m\u001b[0;34m:\u001b[0m\u001b[0;34m\u001b[0m\u001b[0;34m\u001b[0m\u001b[0m\n\u001b[0m\u001b[1;32m     12\u001b[0m                 \u001b[0mS\u001b[0m\u001b[0;34m.\u001b[0m\u001b[0mappend\u001b[0m\u001b[0;34m(\u001b[0m\u001b[0mH\u001b[0m\u001b[0;34m)\u001b[0m\u001b[0;34m\u001b[0m\u001b[0;34m\u001b[0m\u001b[0m\n\u001b[1;32m     13\u001b[0m     \u001b[0;32mreturn\u001b[0m \u001b[0mS\u001b[0m\u001b[0;34m\u001b[0m\u001b[0;34m\u001b[0m\u001b[0m\n",
      "\u001b[0;32m<decorator-gen-296>\u001b[0m in \u001b[0;36mis_connected\u001b[0;34m(G)\u001b[0m\n",
      "\u001b[0;32m~/.local/lib/python3.8/site-packages/networkx/utils/decorators.py\u001b[0m in \u001b[0;36m_not_implemented_for\u001b[0;34m(not_implement_for_func, *args, **kwargs)\u001b[0m\n\u001b[1;32m     76\u001b[0m             \u001b[0;32mraise\u001b[0m \u001b[0mnx\u001b[0m\u001b[0;34m.\u001b[0m\u001b[0mNetworkXNotImplemented\u001b[0m\u001b[0;34m(\u001b[0m\u001b[0mmsg\u001b[0m\u001b[0;34m)\u001b[0m\u001b[0;34m\u001b[0m\u001b[0;34m\u001b[0m\u001b[0m\n\u001b[1;32m     77\u001b[0m         \u001b[0;32melse\u001b[0m\u001b[0;34m:\u001b[0m\u001b[0;34m\u001b[0m\u001b[0;34m\u001b[0m\u001b[0m\n\u001b[0;32m---> 78\u001b[0;31m             \u001b[0;32mreturn\u001b[0m \u001b[0mnot_implement_for_func\u001b[0m\u001b[0;34m(\u001b[0m\u001b[0;34m*\u001b[0m\u001b[0margs\u001b[0m\u001b[0;34m,\u001b[0m \u001b[0;34m**\u001b[0m\u001b[0mkwargs\u001b[0m\u001b[0;34m)\u001b[0m\u001b[0;34m\u001b[0m\u001b[0;34m\u001b[0m\u001b[0m\n\u001b[0m\u001b[1;32m     79\u001b[0m \u001b[0;34m\u001b[0m\u001b[0m\n\u001b[1;32m     80\u001b[0m     \u001b[0;32mreturn\u001b[0m \u001b[0m_not_implemented_for\u001b[0m\u001b[0;34m\u001b[0m\u001b[0;34m\u001b[0m\u001b[0m\n",
      "\u001b[0;32m~/.local/lib/python3.8/site-packages/networkx/algorithms/components/connected.py\u001b[0m in \u001b[0;36mis_connected\u001b[0;34m(G)\u001b[0m\n\u001b[1;32m    136\u001b[0m             \u001b[0;34m\"Connectivity is undefined \"\u001b[0m\u001b[0;34m,\u001b[0m \u001b[0;34m\"for the null graph.\"\u001b[0m\u001b[0;34m\u001b[0m\u001b[0;34m\u001b[0m\u001b[0m\n\u001b[1;32m    137\u001b[0m         )\n\u001b[0;32m--> 138\u001b[0;31m     \u001b[0;32mreturn\u001b[0m \u001b[0msum\u001b[0m\u001b[0;34m(\u001b[0m\u001b[0;36m1\u001b[0m \u001b[0;32mfor\u001b[0m \u001b[0mnode\u001b[0m \u001b[0;32min\u001b[0m \u001b[0m_plain_bfs\u001b[0m\u001b[0;34m(\u001b[0m\u001b[0mG\u001b[0m\u001b[0;34m,\u001b[0m \u001b[0marbitrary_element\u001b[0m\u001b[0;34m(\u001b[0m\u001b[0mG\u001b[0m\u001b[0;34m)\u001b[0m\u001b[0;34m)\u001b[0m\u001b[0;34m)\u001b[0m \u001b[0;34m==\u001b[0m \u001b[0mlen\u001b[0m\u001b[0;34m(\u001b[0m\u001b[0mG\u001b[0m\u001b[0;34m)\u001b[0m\u001b[0;34m\u001b[0m\u001b[0;34m\u001b[0m\u001b[0m\n\u001b[0m\u001b[1;32m    139\u001b[0m \u001b[0;34m\u001b[0m\u001b[0m\n\u001b[1;32m    140\u001b[0m \u001b[0;34m\u001b[0m\u001b[0m\n",
      "\u001b[0;32m~/.local/lib/python3.8/site-packages/networkx/algorithms/components/connected.py\u001b[0m in \u001b[0;36m_plain_bfs\u001b[0;34m(G, source)\u001b[0m\n\u001b[1;32m    184\u001b[0m             \u001b[0;32mif\u001b[0m \u001b[0mv\u001b[0m \u001b[0;32mnot\u001b[0m \u001b[0;32min\u001b[0m \u001b[0mseen\u001b[0m\u001b[0;34m:\u001b[0m\u001b[0;34m\u001b[0m\u001b[0;34m\u001b[0m\u001b[0m\n\u001b[1;32m    185\u001b[0m                 \u001b[0mseen\u001b[0m\u001b[0;34m.\u001b[0m\u001b[0madd\u001b[0m\u001b[0;34m(\u001b[0m\u001b[0mv\u001b[0m\u001b[0;34m)\u001b[0m\u001b[0;34m\u001b[0m\u001b[0;34m\u001b[0m\u001b[0m\n\u001b[0;32m--> 186\u001b[0;31m                 \u001b[0mnextlevel\u001b[0m\u001b[0;34m.\u001b[0m\u001b[0mupdate\u001b[0m\u001b[0;34m(\u001b[0m\u001b[0mG_adj\u001b[0m\u001b[0;34m[\u001b[0m\u001b[0mv\u001b[0m\u001b[0;34m]\u001b[0m\u001b[0;34m)\u001b[0m\u001b[0;34m\u001b[0m\u001b[0;34m\u001b[0m\u001b[0m\n\u001b[0m\u001b[1;32m    187\u001b[0m     \u001b[0;32mreturn\u001b[0m \u001b[0mseen\u001b[0m\u001b[0;34m\u001b[0m\u001b[0;34m\u001b[0m\u001b[0m\n",
      "\u001b[0;32m~/.local/lib/python3.8/site-packages/networkx/classes/coreviews.py\u001b[0m in \u001b[0;36m<genexpr>\u001b[0;34m(.0)\u001b[0m\n\u001b[1;32m    277\u001b[0m         \u001b[0;32mif\u001b[0m \u001b[0mnode_ok_shorter\u001b[0m\u001b[0;34m:\u001b[0m\u001b[0;34m\u001b[0m\u001b[0;34m\u001b[0m\u001b[0m\n\u001b[1;32m    278\u001b[0m             \u001b[0;32mreturn\u001b[0m \u001b[0;34m(\u001b[0m\u001b[0mn\u001b[0m \u001b[0;32mfor\u001b[0m \u001b[0mn\u001b[0m \u001b[0;32min\u001b[0m \u001b[0mself\u001b[0m\u001b[0;34m.\u001b[0m\u001b[0mNODE_OK\u001b[0m\u001b[0;34m.\u001b[0m\u001b[0mnodes\u001b[0m \u001b[0;32mif\u001b[0m \u001b[0mn\u001b[0m \u001b[0;32min\u001b[0m \u001b[0mself\u001b[0m\u001b[0;34m.\u001b[0m\u001b[0m_atlas\u001b[0m\u001b[0;34m)\u001b[0m\u001b[0;34m\u001b[0m\u001b[0;34m\u001b[0m\u001b[0m\n\u001b[0;32m--> 279\u001b[0;31m         \u001b[0;32mreturn\u001b[0m \u001b[0;34m(\u001b[0m\u001b[0mn\u001b[0m \u001b[0;32mfor\u001b[0m \u001b[0mn\u001b[0m \u001b[0;32min\u001b[0m \u001b[0mself\u001b[0m\u001b[0;34m.\u001b[0m\u001b[0m_atlas\u001b[0m \u001b[0;32mif\u001b[0m \u001b[0mself\u001b[0m\u001b[0;34m.\u001b[0m\u001b[0mNODE_OK\u001b[0m\u001b[0;34m(\u001b[0m\u001b[0mn\u001b[0m\u001b[0;34m)\u001b[0m\u001b[0;34m)\u001b[0m\u001b[0;34m\u001b[0m\u001b[0;34m\u001b[0m\u001b[0m\n\u001b[0m\u001b[1;32m    280\u001b[0m \u001b[0;34m\u001b[0m\u001b[0m\n\u001b[1;32m    281\u001b[0m     \u001b[0;32mdef\u001b[0m \u001b[0m__getitem__\u001b[0m\u001b[0;34m(\u001b[0m\u001b[0mself\u001b[0m\u001b[0;34m,\u001b[0m \u001b[0mkey\u001b[0m\u001b[0;34m)\u001b[0m\u001b[0;34m:\u001b[0m\u001b[0;34m\u001b[0m\u001b[0;34m\u001b[0m\u001b[0m\n",
      "\u001b[0;32m~/.local/lib/python3.8/site-packages/networkx/classes/coreviews.py\u001b[0m in \u001b[0;36mnew_node_ok\u001b[0;34m(nbr)\u001b[0m\n\u001b[1;32m    322\u001b[0m \u001b[0;34m\u001b[0m\u001b[0m\n\u001b[1;32m    323\u001b[0m             \u001b[0;32mdef\u001b[0m \u001b[0mnew_node_ok\u001b[0m\u001b[0;34m(\u001b[0m\u001b[0mnbr\u001b[0m\u001b[0;34m)\u001b[0m\u001b[0;34m:\u001b[0m\u001b[0;34m\u001b[0m\u001b[0;34m\u001b[0m\u001b[0m\n\u001b[0;32m--> 324\u001b[0;31m                 \u001b[0;32mreturn\u001b[0m \u001b[0mself\u001b[0m\u001b[0;34m.\u001b[0m\u001b[0mNODE_OK\u001b[0m\u001b[0;34m(\u001b[0m\u001b[0mnbr\u001b[0m\u001b[0;34m)\u001b[0m \u001b[0;32mand\u001b[0m \u001b[0mself\u001b[0m\u001b[0;34m.\u001b[0m\u001b[0mEDGE_OK\u001b[0m\u001b[0;34m(\u001b[0m\u001b[0mnode\u001b[0m\u001b[0;34m,\u001b[0m \u001b[0mnbr\u001b[0m\u001b[0;34m)\u001b[0m\u001b[0;34m\u001b[0m\u001b[0;34m\u001b[0m\u001b[0m\n\u001b[0m\u001b[1;32m    325\u001b[0m \u001b[0;34m\u001b[0m\u001b[0m\n\u001b[1;32m    326\u001b[0m             \u001b[0;32mreturn\u001b[0m \u001b[0mFilterAtlas\u001b[0m\u001b[0;34m(\u001b[0m\u001b[0mself\u001b[0m\u001b[0;34m.\u001b[0m\u001b[0m_atlas\u001b[0m\u001b[0;34m[\u001b[0m\u001b[0mnode\u001b[0m\u001b[0;34m]\u001b[0m\u001b[0;34m,\u001b[0m \u001b[0mnew_node_ok\u001b[0m\u001b[0;34m)\u001b[0m\u001b[0;34m\u001b[0m\u001b[0;34m\u001b[0m\u001b[0m\n",
      "\u001b[0;32m~/.local/lib/python3.8/site-packages/networkx/classes/filters.py\u001b[0m in \u001b[0;36m__call__\u001b[0;34m(self, node)\u001b[0m\n\u001b[1;32m     53\u001b[0m \u001b[0;34m\u001b[0m\u001b[0m\n\u001b[1;32m     54\u001b[0m     \u001b[0;32mdef\u001b[0m \u001b[0m__call__\u001b[0m\u001b[0;34m(\u001b[0m\u001b[0mself\u001b[0m\u001b[0;34m,\u001b[0m \u001b[0mnode\u001b[0m\u001b[0;34m)\u001b[0m\u001b[0;34m:\u001b[0m\u001b[0;34m\u001b[0m\u001b[0;34m\u001b[0m\u001b[0m\n\u001b[0;32m---> 55\u001b[0;31m         \u001b[0;32mreturn\u001b[0m \u001b[0mnode\u001b[0m \u001b[0;32min\u001b[0m \u001b[0mself\u001b[0m\u001b[0;34m.\u001b[0m\u001b[0mnodes\u001b[0m\u001b[0;34m\u001b[0m\u001b[0;34m\u001b[0m\u001b[0m\n\u001b[0m\u001b[1;32m     56\u001b[0m \u001b[0;34m\u001b[0m\u001b[0m\n\u001b[1;32m     57\u001b[0m \u001b[0;34m\u001b[0m\u001b[0m\n",
      "\u001b[0;31mKeyboardInterrupt\u001b[0m: "
     ]
    }
   ],
   "metadata": {}
  },
  {
   "cell_type": "code",
   "execution_count": 15,
   "source": [
    "adjacency = np.array([[0, 1, 1, 0], [1, 0, 1, 1], [1, 1, 0, 0], [0, 1, 0, 0]])\n",
    "G = nx.Graph(adjacency)\n",
    "S = set()\n",
    "subgraphs_set = generate_connected_subgraphs(G)\n",
    "#iterate over all graph vertices\n",
    "for H in subgraphs_set:\n",
    "    #find all subgraphs that have i as a node\n",
    "    for v in nx.nodes(H):\n",
    "        if max(nx.single_source_shortest_path_length(H, v).values()) <= 3:\n",
    "            Nodes = tuple([w for w in nx.nodes(H)])\n",
    "            S.add(Nodes)\n",
    "            break \n",
    "S = [set(x) for x in S]\n",
    "S"
   ],
   "outputs": [
    {
     "output_type": "execute_result",
     "data": {
      "text/plain": [
       "[{0, 1},\n",
       " {1, 3},\n",
       " {2},\n",
       " {1, 2},\n",
       " {0, 1, 2},\n",
       " {0, 1, 3},\n",
       " {1, 2, 3},\n",
       " {1},\n",
       " {0, 2},\n",
       " {0, 1, 2, 3},\n",
       " {0},\n",
       " {3}]"
      ]
     },
     "metadata": {},
     "execution_count": 15
    }
   ],
   "metadata": {}
  },
  {
   "cell_type": "markdown",
   "source": [
    "### Algorithm II"
   ],
   "metadata": {}
  },
  {
   "cell_type": "code",
   "execution_count": 1,
   "source": [
    "def global_solution(f,alpha,Omega,S):\n",
    "    #Set Variables we dont need Z but f_used\n",
    "    n = len(S) \n",
    "    u = np.zeros(n)\n",
    "    V = Omega\n",
    "    f_used = np.copy(f)\n",
    "    #First Loop over copy of Omega\n",
    "    while V != 0:\n",
    "        c = np.empty(n)\n",
    "        #Loop over number of Subgraphs in S\n",
    "        for k in range(n):\n",
    "            #Set intersection length\n",
    "            Zk_V = len(np.intersect1d(Omega,np.array(list(S[k]))))\n",
    "            #Set c if intersection is non empty \n",
    "            if  Zk_V !=0:\n",
    "                c[k] = (f[k] + alpha) / Zk_V\n",
    "            #Else set it to nan to ignore it\n",
    "            else:\n",
    "                c[k] = np.nan\n",
    "        #Get the argmin of c\n",
    "        k_min = np.nanargmin(c)\n",
    "        #Set u of argmin to 1\n",
    "        u[k_min] = 1 \n",
    "        #Loop over all areas in Z_k\n",
    "        for w in S[k]:\n",
    "            #Set V of those areas to 0 to indicate that they have been used already\n",
    "            V[V==w] = 0\n",
    "    \n",
    "    #Second loop over not used elements of f\n",
    "    while f_used != np.empty(n):\n",
    "        #Set current element of interest k_prim\n",
    "        k_prim = np.nanargmin(f_used)\n",
    "        #check if u[_k_prim hasn been used in first loop\n",
    "        if u[k_prim]==0:\n",
    "            #crate subvector v of u\n",
    "            v = np.copy(u)\n",
    "            #loop over all elements of u that are non zero\n",
    "            for ind in np.nonzero(u):\n",
    "                #check if Z_ind is subset of Z_kprim\n",
    "                if S[ind] not in S[k_prim]:\n",
    "                    #if not set v to 0 to ignore it in the union\n",
    "                    v[ind] = 0\n",
    "            #check if union of all left subsets is equal Z_kprim\n",
    "            if S[k_prim] == set().union(S[k] for k in np.nonzero(v)):\n",
    "                #check smth...\n",
    "                if f[k_prim]+alpha < np.dot(v,f + (alpha*np.ones(n))):\n",
    "                    #Set u values of the used subsets to 0 and the union to 1\n",
    "                    u = u-v\n",
    "                    u[k_prim] = 1\n",
    "        #make f equal to nan for the used region\n",
    "        f_used[k_prim]=np.nan\n",
    "    return u"
   ],
   "outputs": [],
   "metadata": {}
  }
 ],
 "metadata": {
  "interpreter": {
   "hash": "916dbcbb3f70747c44a77c7bcd40155683ae19c65e1c03b4aa3499c5328201f1"
  },
  "kernelspec": {
   "name": "python3",
   "display_name": "Python 3.8.10 64-bit"
  },
  "language_info": {
   "name": "python",
   "version": "3.8.10",
   "mimetype": "text/x-python",
   "codemirror_mode": {
    "name": "ipython",
    "version": 3
   },
   "pygments_lexer": "ipython3",
   "nbconvert_exporter": "python",
   "file_extension": ".py"
  }
 },
 "nbformat": 4,
 "nbformat_minor": 5
}