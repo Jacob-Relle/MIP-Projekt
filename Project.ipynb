{
 "cells": [
  {
   "cell_type": "code",
   "execution_count": 2,
   "source": [
    "import numpy as np\n",
    "import matplotlib.pyplot as plt\n",
    "import itertools #used to generate subsets\n",
    "from scipy.ndimage import gaussian_filter\n",
    "from skimage.segmentation import watershed\n",
    "from skimage.future.graph import RAG\n",
    "from sknetwork.path import distance\n",
    "\n",
    "# import sknetwork as skn\n",
    "# from scipy import sparse\n",
    "# import networkx as nx can be used if we need more advanced graphs data structure"
   ],
   "outputs": [],
   "metadata": {}
  },
  {
   "cell_type": "code",
   "execution_count": 45,
   "source": [
    "#get image and define the image space\n",
    "image = plt.imread('images/dna-images/gnf/dna-0.png')[...,0]\n",
    "image_range = np.array([[i,j]for i in range(image.shape[0]) for j in range(image.shape[1])])"
   ],
   "outputs": [],
   "metadata": {}
  },
  {
   "cell_type": "code",
   "execution_count": 29,
   "source": [
    "def B_delta(p,delta): #rename suggestion: delta ball\n",
    "    B = np.empty_like([p])\n",
    "    for q in image_range:\n",
    "        if sum(abs(p-q)) <= delta:\n",
    "            B = np.append(B,[q],axis=0)\n",
    "    return B"
   ],
   "outputs": [],
   "metadata": {}
  },
  {
   "cell_type": "markdown",
   "source": [
    "### Algorithm I"
   ],
   "metadata": {}
  },
  {
   "cell_type": "code",
   "execution_count": 3,
   "source": [
    "def generate_subgraphs(adjacency):\n",
    "    #TODO Fehlerabfangen: adjacency symmetric etc.\n",
    "    dim = adjacency.shape[0]\n",
    "    vertices = range(dim)\n",
    "    S = {}\n",
    "    for length in range(dim+1):\n",
    "        for subs in list(itertools.combinations(vertices, length)):\n",
    "            sub_adj = np.zeros((dim, dim))\n",
    "            if all(adjacency[np.ix_(subs, subs)][k].any(0) > 0 for k in range(len(subs))):\n",
    "                S[subs] = adjacency[np.ix_(subs, subs)]\n",
    "               #use this if we need adjacency matrix with original dim \n",
    "               # for nodes in subs:\n",
    "               #     for neighbours in subs:\n",
    "               #         sub_adj[nodes][neighbours] = adjacency[nodes][neighbours]\n",
    "               #         sub_adj[neighbours][nodes] = adjacency[nodes][neighbours]\n",
    "               # S[subs] = sub_adj\n",
    "    return S\n",
    "#TODO: still doesn't create subgraphs consisting of one isolated vertex bc all rows are still zero."
   ],
   "outputs": [],
   "metadata": {}
  },
  {
   "cell_type": "code",
   "execution_count": null,
   "source": [
    "#TODO\n",
    "def is_connected(adjacency):\n",
    "    #will do when we're sure what simply connected means"
   ],
   "outputs": [],
   "metadata": {}
  },
  {
   "cell_type": "code",
   "execution_count": 3,
   "source": [
    "# Work in Progress to generate all connected subgraphs via a DFS approach.\n",
    "# Current Problem: error that U.pop() wants to pop an empty list, but idk why it's empty\n",
    "\n",
    "def generate_connected_subgraphs(adjacency, node): #adjacency needs to be a numpy array\n",
    "    #TODO: Fehlerabfangen, dass adjacency gültige Form hat\n",
    "    dim = adjacency.shape[0]\n",
    "    if node > dim:\n",
    "        ValueError(\"Nodes are counted starting 0.\")\n",
    "    T = np.ones(dim)    \n",
    "    S = np.zeros(dim)\n",
    "    U = []\n",
    "    U.append(node)\n",
    "    T[node] = 0\n",
    "    \n",
    "    adj_graph = np.zeros((dim, dim))\n",
    "    Matrices = []\n",
    "    \n",
    "    while U != [] or T != np.zeros(dim):\n",
    "        if U != []:\n",
    "            v = U[-1]\n",
    "            for i in np.where(adjacency[v] == 1)[0]:\n",
    "                if T[i] == 1:\n",
    "                    U.append(i)\n",
    "                    T[i] = 0\n",
    "                    adj_graph[v][i] = 1\n",
    "                    adj_graph[i][v] = 1\n",
    "                    Matrices.append(adj_graph)\n",
    "                else:\n",
    "                    S[i] = 1\n",
    "                    U.pop()\n",
    "    return Matrices"
   ],
   "outputs": [],
   "metadata": {}
  },
  {
   "cell_type": "code",
   "execution_count": 48,
   "source": [
    "def generate_fragments(img,std_dev,int_threshold,min_seed_dist,max_search_depth,max_frag_dist):\n",
    "    #smooth image with gausian filter\n",
    "    g = gaussian_filter(img,std_dev)\n",
    "    #create empty copy of g to set watersheed markers\n",
    "    g_copy = np.zeros_like(g)\n",
    "    \n",
    "    #Fehlerabfangen\n",
    "    \n",
    "    if std_dev < 0:\n",
    "        raise ValueError(\"smoothing strength needs to be positive\")\n",
    "    if int_threshold > 1 or int_threshold < 0:\n",
    "        raise ValueError(\"relative intensity threshold needs to be between 0 and 1\")\n",
    "    if min_seed_dist < 1:\n",
    "        raise ValueError(\"min seed distance needs to be >= 1\")\n",
    "    if max_search_depth < 0:\n",
    "        raise ValueError(\"maximum search error needs to be positive\")\n",
    "    if max_frag_dist < 0:\n",
    "        raise ValueError(\"maximum fragments distance needs zo be positive\")\n",
    "        \n",
    "    #Create array of watershed seeds\n",
    "    PI = []\n",
    "    #Loop over every ppixel\n",
    "    for p in image_range:\n",
    "        #Create set with local points around p\n",
    "        B = B_delta(p,min_seed_dist)\n",
    "        #Check if p is strong local maximum\n",
    "        if (g[tuple(p)] == np.amax(g[tuple(q)] for q in B)) and (1-int_threshold)*g[tuple(p)]>=min(g[tuple(q)] for q in B): \n",
    "            #add p to the set of seeds\n",
    "            PI.append(p)\n",
    "            #Set label of the seed\n",
    "            g_copy[p] = len(PI)   \n",
    "    \n",
    "    print(PI)\n",
    "    \n",
    "    #Create array of watershed regions\n",
    "    Omega = []\n",
    "    #Create Watershed regions\n",
    "    Labels = watershed(img,markers=g_copy)\n",
    "    #loop over all labels\n",
    "    for label in range(1,len(PI)+1):\n",
    "        #Create array of the indices of this label\n",
    "        w = np.argwhere(Labels==label) \n",
    "        #Add the array of indices to Omega\n",
    "        Omega.append(w)\n",
    "    \n",
    "    #Create connectivity matrix\n",
    "    Epsilon = RAG(Labels,connectivity=2)\n",
    "    #Loop over number of all regions except the last\n",
    "    for i in range(len(Omega)-1):\n",
    "        #Loop over number of not used regions\n",
    "        for j in range(i+1, len(Omega)):\n",
    "            #local intensity peaks r(w)??\n",
    "            if not np.linalg.norm(PI[i] - PI[j]) <= max_frag_dist:\n",
    "                Epsilon[i][j] = 0\n",
    "                Epsilon[j][i] = 0\n",
    "    '''       \n",
    "    S = set()\n",
    "    subgraphs_set = generate_subgraphs(Epsilon)\n",
    "    #TODO: add simply connected if-Abfrage\n",
    "    for i in range(Epsilon.shape[0]): #iterate over all graph vertices\n",
    "        for subs in subgraphs_set.keys(): \n",
    "            if i in range(len(subs)): #find all subgraphs that have i as a node\n",
    "                dist_matrix = distance(subgraphs_set[subs], method = 'D') #return distance matrix of graph subs\n",
    "                if dist_matrix[i].max(0) <= h:\n",
    "                    S.add(subs)\n",
    "                    #find a way to not iterate over subgraphs we've already worked with\n",
    "    S = list(S) #transform the set into a list; needed for Alg II\n",
    "    '''\n",
    "    return Omega,Labels,Epsilon   # , S     veränderte ausagbe fürs testen" 
   ],
   "outputs": [],
   "metadata": {}
  },
  {
   "cell_type": "markdown",
   "source": [
    "###  testing out graphs"
   ],
   "metadata": {}
  },
  {
   "cell_type": "code",
   "execution_count": 49,
   "source": [
    "#testing watershed\n",
    "a,b,c = generate_fragments(image,1,0.5,20,1,40)\n",
    "print(a)\n",
    "plt.imshow(b,cmap='gray')\n",
    "plt.show()\n",
    "print(c)"
   ],
   "outputs": [],
   "metadata": {}
  },
  {
   "cell_type": "code",
   "execution_count": 22,
   "source": [
    "adjacency = np.array([[0, 1, 1, 0], [1, 0, 1, 1], [1, 1, 0, 0], [0, 1, 0, 0]])\n",
    "#adjacency = sparse.csr_matrix(adjacency)\n",
    "S = set()\n",
    "subgraphs_set = generate_subgraphs(adjacency)\n",
    "for i in range(adjacency.shape[0]): #iterate over all graph vertices\n",
    "    for subs in subgraphs_set.keys(): \n",
    "        if i in subs: #find all subgraphs that have i as a node\n",
    "            dist_matrix = distance(subgraphs_set[subs], method = 'D') #return distance matrix of graph subs\n",
    "            if dist_matrix[subs.index(i)].max(0) <= 3:\n",
    "                S.add(subs)\n",
    "                #del subgraphs_set[subs] #this changes size during itertaion, ungünstig\n",
    "                #find a way to not iterate over subgraphs we've already worked with\n",
    "S = list(S)\n",
    "S"
   ],
   "outputs": [
    {
     "output_type": "execute_result",
     "data": {
      "text/plain": [
       "[(0, 1), (1, 2), (0, 1, 3), (1, 2, 3), (0, 2), (0, 1, 2, 3), (0, 1, 2), (1, 3)]"
      ]
     },
     "metadata": {},
     "execution_count": 22
    }
   ],
   "metadata": {}
  },
  {
   "cell_type": "code",
   "execution_count": 110,
   "source": [
    "for x in generate_subgraphs(adjacency).keys():\n",
    "    if 1 in x:\n",
    "        print(x)"
   ],
   "outputs": [
    {
     "output_type": "stream",
     "name": "stdout",
     "text": [
      "(0, 1)\n",
      "(1, 2)\n",
      "(1, 3)\n",
      "(0, 1, 2)\n",
      "(0, 1, 3)\n",
      "(1, 2, 3)\n",
      "(0, 1, 2, 3)\n"
     ]
    }
   ],
   "metadata": {}
  },
  {
   "cell_type": "markdown",
   "source": [
    "### Algorithm II"
   ],
   "metadata": {}
  },
  {
   "cell_type": "code",
   "execution_count": null,
   "source": [
    "def global_solution(f,alpha,Omega,S):\n",
    "    n = len(S) #stimmt n?\n",
    "    u = np.zeros(n)\n",
    "    V = Omega\n",
    "    Z = S\n",
    "    while V != ():\n",
    "#work in progress\n",
    "        c = np.empty(n)\n",
    "        for k in range(len(S)):\n",
    "            c[k] = (f[k] + alpha) / #abs value?\n",
    "        k_min = argmin(c)\n",
    "        u[k_min],V = 1, #v\\{Z}?\n",
    "    \n",
    "    while Z!= set():\n",
    "        k_prim = "
   ],
   "outputs": [],
   "metadata": {}
  }
 ],
 "metadata": {
  "kernelspec": {
   "name": "python3",
   "display_name": "Python 3.8.10 64-bit"
  },
  "language_info": {
   "codemirror_mode": {
    "name": "ipython",
    "version": 3
   },
   "file_extension": ".py",
   "mimetype": "text/x-python",
   "name": "python",
   "nbconvert_exporter": "python",
   "pygments_lexer": "ipython3",
   "version": "3.8.10"
  },
  "interpreter": {
   "hash": "916dbcbb3f70747c44a77c7bcd40155683ae19c65e1c03b4aa3499c5328201f1"
  }
 },
 "nbformat": 4,
 "nbformat_minor": 5
}
