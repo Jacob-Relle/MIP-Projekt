{
 "cells": [
  {
   "cell_type": "code",
   "execution_count": 182,
   "id": "4d225882",
   "metadata": {},
   "outputs": [],
   "source": [
    "import numpy as np\n",
    "import matplotlib.pyplot as plt\n",
    "import itertools\n",
    "import networkx as nx \n",
    "from scipy.ndimage import gaussian_filter\n",
    "\n",
    "from skimage.segmentation import watershed\n",
    "from skimage.morphology import disk\n",
    "from skimage import img_as_ubyte\n",
    "from skimage.measure import label, regionprops, euler_number\n",
    "from skimage.future.graph import RAG\n",
    "from sknetwork.path import distance\n",
    "from skimage import util\n",
    "from skimage import filters\n",
    "\n",
    "from tqdm import tqdm\n",
    "\n",
    "from cvxopt import solvers, matrix, div, log, exp, mul, spdiag"
   ]
  },
  {
   "cell_type": "code",
   "execution_count": 3,
   "id": "5e98b298",
   "metadata": {},
   "outputs": [],
   "source": [
    "#get image and define the image space\n",
    "image = plt.imread('../images/dna-images/gnf/dna-0.png')[...,0]\n",
    "image_range = np.array([[i,j]for i in range(image.shape[0]) for j in range(image.shape[1])])"
   ]
  },
  {
   "cell_type": "markdown",
   "id": "ffbd215c",
   "metadata": {},
   "source": [
    "## Algorithm I"
   ]
  },
  {
   "cell_type": "code",
   "execution_count": 4,
   "id": "99d6506f",
   "metadata": {},
   "outputs": [],
   "source": [
    "def generate_fragments(img,std_dev,int_threshold,min_seed_dist,max_search_depth,max_frag_dist):\n",
    "    img = img_as_ubyte(img)\n",
    "    #smooth image with gausian filter\n",
    "    g = gaussian_filter(img,std_dev)\n",
    "    \n",
    "    #Fehlerabfangen\n",
    "    \n",
    "    if std_dev < 0:\n",
    "        raise ValueError(\"smoothing strength needs to be positive\")\n",
    "    if int_threshold > 1 or int_threshold < 0:\n",
    "        raise ValueError(\"relative intensity threshold needs to be between 0 and 1\")\n",
    "    if min_seed_dist < 1:\n",
    "        raise ValueError(\"min seed distance needs to be >= 1\")\n",
    "    if max_search_depth < 0:\n",
    "        raise ValueError(\"maximum search error needs to be positive\")\n",
    "    if max_frag_dist < 0:\n",
    "        raise ValueError(\"maximum fragments distance needs zo be positive\")\n",
    "        \n",
    "    #Create Delta Ball\n",
    "    B = disk(min_seed_dist)\n",
    "    #Set the markers in the Image according to the formula (P is an image)\n",
    "    P = (g==filters.rank.maximum(g,B)) & ((1-int_threshold)*g >= filters.rank.minimum(g,B))\n",
    "    #Fuse adjacient markers and label each group of markers\n",
    "    g_markers = label(P)\n",
    "    #Get the regions of the markers to access centroid later\n",
    "    PI = regionprops(g_markers)\n",
    "\n",
    "    #Create Watershed regions\n",
    "    Omega = watershed(util.invert(g),markers=g_markers)\n",
    "    #Create the adjacency graph of the labeled image\n",
    "    G = RAG(Omega,connectivity=2)\n",
    "\n",
    "    #Remove edges if centroids are to far away\n",
    "    for edge in G.edges():\n",
    "        if np.linalg.norm(np.array(PI[edge[0]-1].centroid) - np.array(PI[edge[1]-1].centroid)) > max_frag_dist:\n",
    "            G.remove_edge(edge[0],edge[1])\n",
    "\n",
    "    S = set()\n",
    "    #iterate over all conected components (cc)\n",
    "    for nodes_in_cc in nx.algorithms.connectivity.edge_kcomponents.k_edge_subgraphs(G,1):\n",
    "        #Set the subgraph of curent cc\n",
    "        H = G.subgraph(nodes_in_cc)\n",
    "        #Loop over the nodes of the subgraph\n",
    "        for v in tqdm(nodes_in_cc):\n",
    "            #Add the isolated region of the curent node\n",
    "            S.add(frozenset([v]))\n",
    "            #Loop over the distance from the curent node within the graph\n",
    "            for distance in range(1,max_search_depth+1):\n",
    "                #Get a dictonary containg the distance from curent node\n",
    "                distance_from_origin = nx.single_source_shortest_path_length(H, v,cutoff=distance)\n",
    "                #Loop over the amount of nodes\n",
    "                for node_amount in range(distance,len(distance_from_origin.values())):\n",
    "                    #Loop over all subsets of nodes that contain v and contain node_amount of nodes\n",
    "                    for node_subset in itertools.combinations([node for node in distance_from_origin.keys()], node_amount):\n",
    "                        node_subset = set([v]).union(set(node_subset))\n",
    "                        #Check other requirments and add the node set to S if they are fullfilled\n",
    "                        if frozenset(node_subset) not in S:\n",
    "                            if nx.is_connected(H.subgraph(node_subset)):\n",
    "                                #check that the merge of the regions is simply connected\n",
    "                                sub_img = np.zeros_like(Omega, dtype = bool)\n",
    "                                for region_label in node_subset:\n",
    "                                    sub_img += Omega == region_label\n",
    "                                if euler_number(sub_img) == 1:\n",
    "                                     S.add(frozenset(node_subset))\n",
    "\n",
    "    return Omega,S"
   ]
  },
  {
   "cell_type": "markdown",
   "id": "085999d4",
   "metadata": {},
   "source": [
    "###  Test: Algorithm I"
   ]
  },
  {
   "cell_type": "code",
   "execution_count": 5,
   "id": "ba307b12",
   "metadata": {
    "scrolled": true
   },
   "outputs": [
    {
     "name": "stderr",
     "output_type": "stream",
     "text": [
      "100%|████████████████████████████████████████████████████████████████████████████████████| 2/2 [00:00<00:00, 50.18it/s]\n",
      "100%|████████████████████████████████████████████████████████████████████████████████████| 9/9 [00:05<00:00,  1.51it/s]\n",
      "100%|████████████████████████████████████████████████████████████████████████████████████████████| 1/1 [00:00<?, ?it/s]\n",
      "100%|███████████████████████████████████████████████████████████████████████████████████| 1/1 [00:00<00:00, 993.20it/s]\n",
      "100%|████████████████████████████████████████████████████████████████████████████████████| 9/9 [00:11<00:00,  1.23s/it]\n",
      "100%|████████████████████████████████████████████████████████████████████████████████████████████| 1/1 [00:00<?, ?it/s]\n",
      "100%|██████████████████████████████████████████████████████████████████████████████████| 1/1 [00:00<00:00, 1024.75it/s]\n",
      "100%|████████████████████████████████████████████████████████████████████████████████████████████| 1/1 [00:00<?, ?it/s]\n",
      "100%|███████████████████████████████████████████████████████████████████████████████████| 1/1 [00:00<00:00, 999.36it/s]\n",
      "100%|████████████████████████████████████████████████████████████████████████████████████| 7/7 [00:01<00:00,  6.08it/s]\n",
      "100%|███████████████████████████████████████████████████████████████████████████████████| 1/1 [00:00<00:00, 998.17it/s]\n",
      "100%|████████████████████████████████████████████████████████████████████████████████████████████| 1/1 [00:00<?, ?it/s]\n",
      "100%|████████████████████████████████████████████████████████████████████████████████████████████| 1/1 [00:00<?, ?it/s]\n",
      "100%|████████████████████████████████████████████████████████████████████████████████████| 2/2 [00:00<00:00, 44.44it/s]\n",
      "100%|████████████████████████████████████████████████████████████████████████████████████████████| 1/1 [00:00<?, ?it/s]\n",
      "100%|████████████████████████████████████████████████████████████████████████████████████| 2/2 [00:00<00:00, 43.44it/s]\n",
      "100%|████████████████████████████████████████████████████████████████████████████████████████████| 1/1 [00:00<?, ?it/s]\n",
      "100%|████████████████████████████████████████████████████████████████████████████████████| 3/3 [00:00<00:00, 17.95it/s]\n",
      "100%|████████████████████████████████████████████████████████████████████████████████████| 3/3 [00:00<00:00, 28.39it/s]\n",
      "100%|████████████████████████████████████████████████████████████████████████████████████████████| 1/1 [00:00<?, ?it/s]\n",
      "100%|████████████████████████████████████████████████████████████████████████████████████| 5/5 [00:00<00:00,  7.27it/s]\n",
      "100%|████████████████████████████████████████████████████████████████████████████████████| 5/5 [00:02<00:00,  1.94it/s]\n",
      "100%|██████████████████████████████████████████████████████████████████████████████████| 1/1 [00:00<00:00, 1007.04it/s]\n",
      "100%|████████████████████████████████████████████████████████████████████████████████████████████| 1/1 [00:00<?, ?it/s]\n",
      "100%|████████████████████████████████████████████████████████████████████████████████████████████| 1/1 [00:00<?, ?it/s]\n",
      "100%|████████████████████████████████████████████████████████████████████████████████████| 2/2 [00:00<00:00, 34.99it/s]\n",
      "100%|████████████████████████████████████████████████████████████████████████████████████████████| 1/1 [00:00<?, ?it/s]\n",
      "100%|████████████████████████████████████████████████████████████████████████████████████| 3/3 [00:00<00:00, 19.59it/s]\n",
      "100%|████████████████████████████████████████████████████████████████████████████████████████████| 1/1 [00:00<?, ?it/s]\n",
      "100%|████████████████████████████████████████████████████████████████████████████████████████████| 1/1 [00:00<?, ?it/s]\n",
      "100%|███████████████████████████████████████████████████████████████████████████████████| 1/1 [00:00<00:00, 942.33it/s]\n",
      "100%|████████████████████████████████████████████████████████████████████████████████████| 5/5 [00:00<00:00,  8.19it/s]\n",
      "100%|██████████████████████████████████████████████████████████████████████████████████| 1/1 [00:00<00:00, 1000.55it/s]\n",
      "100%|████████████████████████████████████████████████████████████████████████████████████| 2/2 [00:00<00:00, 52.06it/s]\n",
      "100%|████████████████████████████████████████████████████████████████████████████████████████████| 1/1 [00:00<?, ?it/s]\n",
      "100%|██████████████████████████████████████████████████████████████████████████████████| 1/1 [00:00<00:00, 1014.83it/s]\n",
      "100%|████████████████████████████████████████████████████████████████████████████████████| 5/5 [00:00<00:00,  8.10it/s]\n",
      "100%|████████████████████████████████████████████████████████████████████████████████████| 2/2 [00:00<00:00, 39.21it/s]\n",
      "100%|████████████████████████████████████████████████████████████████████████████████████| 4/4 [00:00<00:00, 13.64it/s]\n",
      "100%|████████████████████████████████████████████████████████████████████████████████████| 2/2 [00:00<00:00, 42.54it/s]\n",
      "100%|██████████████████████████████████████████████████████████████████████████████████| 1/1 [00:00<00:00, 1001.27it/s]\n",
      "100%|████████████████████████████████████████████████████████████████████████████████████| 3/3 [00:00<00:00, 22.46it/s]\n",
      "100%|████████████████████████████████████████████████████████████████████████████████████| 4/4 [00:00<00:00,  4.65it/s]\n",
      "100%|████████████████████████████████████████████████████████████████████████████████████| 4/4 [00:00<00:00, 15.51it/s]\n",
      "100%|████████████████████████████████████████████████████████████████████████████████████| 2/2 [00:00<00:00, 51.91it/s]\n",
      "100%|████████████████████████████████████████████████████████████████████████████████████| 3/3 [00:00<00:00, 24.12it/s]\n",
      "100%|████████████████████████████████████████████████████████████████████████████████████████████| 1/1 [00:00<?, ?it/s]\n",
      "100%|████████████████████████████████████████████████████████████████████████████████████| 3/3 [00:00<00:00, 22.41it/s]\n",
      "100%|████████████████████████████████████████████████████████████████████████████████████████████| 1/1 [00:00<?, ?it/s]\n",
      "100%|██████████████████████████████████████████████████████████████████████████████████| 1/1 [00:00<00:00, 1000.31it/s]\n",
      "100%|████████████████████████████████████████████████████████████████████████████████████| 2/2 [00:00<00:00, 36.87it/s]\n",
      "100%|██████████████████████████████████████████████████████████████████████████████████| 1/1 [00:00<00:00, 1011.41it/s]\n",
      "100%|████████████████████████████████████████████████████████████████████████████████████| 3/3 [00:00<00:00, 20.53it/s]\n",
      "100%|████████████████████████████████████████████████████████████████████████████████████| 2/2 [00:00<00:00, 52.74it/s]\n",
      "100%|████████████████████████████████████████████████████████████████████████████████████████████| 1/1 [00:00<?, ?it/s]\n",
      "100%|███████████████████████████████████████████████████████████████████████████████████| 1/1 [00:00<00:00, 998.17it/s]\n",
      "100%|████████████████████████████████████████████████████████████████████████████████████████████| 1/1 [00:00<?, ?it/s]\n",
      "100%|████████████████████████████████████████████████████████████████████████████████████████████| 1/1 [00:00<?, ?it/s]\n",
      "100%|████████████████████████████████████████████████████████████████████████████████████████████| 1/1 [00:00<?, ?it/s]\n"
     ]
    }
   ],
   "source": [
    "#testing Alg I\n",
    "Omega,S = generate_fragments(image,16,0.01,20,2,100)"
   ]
  },
  {
   "cell_type": "code",
   "execution_count": 6,
   "id": "80ae31b4",
   "metadata": {},
   "outputs": [
    {
     "data": {
      "image/png": "[encoded data removed]",
      "text/plain": [
       "<Figure size 432x288 with 2 Axes>"
      ]
     },
     "metadata": {
      "needs_background": "light"
     },
     "output_type": "display_data"
    }
   ],
   "source": [
    "fig = plt.figure()\n",
    "ax = fig.add_subplot(1, 2, 1)\n",
    "imgplot = plt.imshow(Omega)\n",
    "ax = fig.add_subplot(1, 2, 2)\n",
    "imgplot = plt.imshow(image)"
   ]
  },
  {
   "cell_type": "code",
   "execution_count": 7,
   "id": "15103954",
   "metadata": {},
   "outputs": [
    {
     "name": "stdout",
     "output_type": "stream",
     "text": [
      "{frozenset({4, 24, 41, 26, 15}), frozenset({86}), frozenset({91, 93}), frozenset({24, 40, 26, 13}), frozenset({82, 98}), frozenset({16, 11, 7, 23}), frozenset({89}), frozenset({74, 67}), frozenset({56, 51, 59, 44}), frozenset({40, 24, 26, 35}), frozenset({40, 26, 35}), frozenset({3, 4}), frozenset({33}), frozenset({3, 24, 41, 26, 13}), frozenset({46, 61, 54}), frozenset({16, 10, 14, 23}), frozenset({3, 35, 4, 41, 13, 15, 24, 26}), frozenset({19, 7, 9, 10, 14}), frozenset({4, 24, 26, 13, 15}), frozenset({16, 23, 7, 9, 10, 11, 12}), frozenset({35, 24, 26, 13, 15}), frozenset({49, 50, 52, 45}), frozenset({97}), frozenset({16, 10, 11}), frozenset({16, 9, 10, 11}), frozenset({49, 52, 45}), frozenset({82, 98, 87}), frozenset({16, 23, 9, 10, 11}), frozenset({104}), frozenset({52, 45}), frozenset({88}), frozenset({40, 41, 26, 35}), frozenset({128}), frozenset({3, 35, 4, 40, 41, 13, 24, 26}), frozenset({52, 63}), frozenset({19, 23, 9, 10, 11, 12, 14}), frozenset({61, 54}), frozenset({29, 38}), frozenset({66, 68}), frozenset({25}), frozenset({72, 66, 68}), frozenset({111}), frozenset({113, 100}), frozenset({96}), frozenset({3, 35, 4, 26, 24, 40, 13}), frozenset({3, 4, 26, 24, 40, 13}), frozenset({49, 50, 52, 63}), frozenset({73}), frozenset({16, 7, 23, 10, 11}), frozenset({35, 4, 24, 26, 15}), frozenset({46, 54}), frozenset({49, 52, 63}), frozenset({85}), frozenset({72, 75, 69}), frozenset({40, 41, 26}), frozenset({23, 10, 11, 12, 14}), frozenset({53}), frozenset({26}), frozenset({51}), frozenset({75}), frozenset({50, 52}), frozenset({72, 75}), frozenset({15}), frozenset({87}), frozenset({16, 11, 12, 7}), frozenset({37, 38}), frozenset({72, 75, 68, 69}), frozenset({96, 91, 103}), frozenset({33, 34, 37, 38, 29, 31}), frozenset({3, 35, 24, 26, 13, 15}), frozenset({62}), frozenset({104, 82}), frozenset({24, 41, 26, 35}), frozenset({66, 68, 69, 72, 75}), frozenset({24, 13, 15}), frozenset({116}), frozenset({108}), frozenset({9, 14, 7}), frozenset({96, 103}), frozenset({81, 84, 85, 92}), frozenset({23, 7, 9, 10, 11, 12}), frozenset({92, 85, 94}), frozenset({72, 75, 68}), frozenset({115}), frozenset({69}), frozenset({41}), frozenset({3, 35, 26, 24, 41, 40, 13}), frozenset({101}), frozenset({61}), frozenset({49, 50, 45}), frozenset({17}), frozenset({7, 9, 10, 11, 12}), frozenset({26, 24, 41, 40, 13, 15}), frozenset({107}), frozenset({3, 24, 26, 13, 15}), frozenset({51, 55}), frozenset({37, 38, 39}), frozenset({56, 59, 55}), frozenset({38}), frozenset({112, 100}), frozenset({9, 10}), frozenset({88, 83}), frozenset({129}), frozenset({25, 27}), frozenset({59, 51}), frozenset({57, 58}), frozenset({40}), frozenset({24, 40, 26, 15}), frozenset({57}), frozenset({124, 119}), frozenset({16, 11, 12}), frozenset({16, 19, 9, 10, 14}), frozenset({30}), frozenset({33, 34, 37, 38, 31}), frozenset({34, 37, 29, 38}), frozenset({3, 35, 26, 24, 40, 13, 15}), frozenset({16, 19, 9, 10, 11, 14}), frozenset({14}), frozenset({16, 19, 23, 9, 10, 14}), frozenset({74, 67, 78}), frozenset({16, 19, 10, 11, 12, 14}), frozenset({98, 87}), frozenset({26, 4, 24, 41, 40, 15}), frozenset({16, 23, 9, 10, 12}), frozenset({9}), frozenset({55}), frozenset({80}), frozenset({72, 66, 69}), frozenset({9, 11, 12, 7}), frozenset({3, 15}), frozenset({81, 92, 85, 94}), frozenset({7}), frozenset({16, 9, 10}), frozenset({19}), frozenset({51, 59, 44, 55}), frozenset({19, 9, 11, 12, 14}), frozenset({32}), frozenset({19, 14}), frozenset({49}), frozenset({92, 85, 94, 84}), frozenset({123, 126}), frozenset({26, 35, 24, 40, 13}), frozenset({120}), frozenset({7, 9, 10, 11, 12, 14, 16, 19, 23}), frozenset({94}), frozenset({3, 4, 24, 41, 26, 13}), frozenset({19, 10, 11, 12, 14}), frozenset({3, 35, 24, 41, 26, 13}), frozenset({3, 35, 4, 24, 41, 26, 13}), frozenset({10, 11, 14}), frozenset({23}), frozenset({49, 50, 52, 45, 63}), frozenset({24}), frozenset({7, 9, 10, 11, 12, 14}), frozenset({84, 85, 94}), frozenset({9, 14}), frozenset({105}), frozenset({3, 35, 26, 24, 40, 13}), frozenset({24, 26, 4, 15}), frozenset({16, 9, 11}), frozenset({112, 113, 100}), frozenset({24, 26}), frozenset({16, 7, 23, 11, 12}), frozenset({24, 26, 13, 15}), frozenset({16, 12, 23}), frozenset({9, 10, 19, 14}), frozenset({104, 98, 82}), frozenset({35, 40, 41, 26, 24}), frozenset({35, 4, 26, 24, 40, 15}), frozenset({16, 19, 10, 11, 14}), frozenset({2}), frozenset({16, 23}), frozenset({34}), frozenset({64}), frozenset({102}), frozenset({110}), frozenset({7, 9, 10, 11, 14}), frozenset({35, 4, 26, 24, 41, 40, 15}), frozenset({33, 34, 37, 39, 29}), frozenset({90, 95}), frozenset({56, 51}), frozenset({81, 85, 94}), frozenset({81, 84, 85}), frozenset({16, 9, 10, 11, 12}), frozenset({23, 7, 9, 10, 11, 12, 14}), frozenset({58, 47}), frozenset({49, 45}), frozenset({16, 7, 9, 11, 12}), frozenset({19, 9, 10, 11, 12, 14}), frozenset({120, 118}), frozenset({104, 98, 87}), frozenset({12, 23}), frozenset({16, 10, 23}), frozenset({3, 35, 40, 41, 13, 15, 24, 26}), frozenset({112, 113, 115, 100}), frozenset({3, 35, 4, 24, 26, 13}), frozenset({113, 115}), frozenset({56, 55}), frozenset({24, 41, 26, 13}), frozenset({9, 10, 11}), frozenset({34, 37}), frozenset({3, 4, 26, 24, 41, 40, 13}), frozenset({112, 113}), frozenset({4, 15}), frozenset({24, 41, 26}), frozenset({84}), frozenset({96, 91, 93}), frozenset({24, 13}), frozenset({108, 102}), frozenset({10, 11, 12, 23}), frozenset({24, 4, 13, 15}), frozenset({33, 31}), frozenset({52}), frozenset({11, 12, 7, 23}), frozenset({99}), frozenset({10, 11, 7}), frozenset({16, 9, 10, 14}), frozenset({16, 19, 23, 10, 11, 12, 14}), frozenset({106, 116, 114}), frozenset({29, 39}), frozenset({11, 10, 19, 14}), frozenset({72}), frozenset({16, 23, 10, 11, 12, 14}), frozenset({16, 19, 23, 9, 10, 11, 14}), frozenset({29, 37, 39}), frozenset({35, 24, 41, 26, 15}), frozenset({16, 23, 10, 12, 14}), frozenset({56, 51, 55}), frozenset({112, 115}), frozenset({51, 44, 55}), frozenset({13, 15}), frozenset({113}), frozenset({40, 41, 35}), frozenset({9, 10, 11, 12}), frozenset({70}), frozenset({59}), frozenset({11, 7}), frozenset({3, 4, 24, 26, 13, 15}), frozenset({33, 34, 37, 38, 39, 29}), frozenset({35, 4, 26, 24, 40, 13, 15}), frozenset({3, 35, 4, 40, 41, 13, 15, 24, 26}), frozenset({33, 34, 37}), frozenset({6}), frozenset({35}), frozenset({89, 90, 95}), frozenset({81, 85}), frozenset({28, 36}), frozenset({23, 7, 9, 11, 12, 14}), frozenset({24, 26, 35}), frozenset({36}), frozenset({19, 7, 9, 11, 14}), frozenset({79}), frozenset({81, 92, 85}), frozenset({109}), frozenset({68, 69}), frozenset({16, 23, 7, 10, 11, 12}), frozenset({81, 84, 85, 92, 94}), frozenset({85, 94}), frozenset({9, 19, 14, 7}), frozenset({16, 23, 10, 11, 12}), frozenset({11}), frozenset({26, 24, 41, 40, 15}), frozenset({66, 68, 69}), frozenset({24, 26, 13}), frozenset({7, 9, 10, 11, 12, 14, 16, 19}), frozenset({35, 26, 24, 41, 40, 13}), frozenset({23, 9, 11, 12, 14}), frozenset({3, 35, 24, 26, 13}), frozenset({126}), frozenset({9, 10, 11, 12, 14}), frozenset({10, 19, 14}), frozenset({3, 4, 24, 13, 15}), frozenset({9, 11, 7}), frozenset({124}), frozenset({72, 68}), frozenset({21}), frozenset({40, 26}), frozenset({9, 11, 12}), frozenset({106}), frozenset({10}), frozenset({77}), frozenset({29, 38, 39}), frozenset({9, 10, 14}), frozenset({7, 9, 10, 11, 12, 14, 19, 23}), frozenset({16, 19, 7, 9, 10, 11, 14}), frozenset({29, 37, 38}), frozenset({3, 4, 13}), frozenset({16, 9, 10, 11, 14}), frozenset({16, 19, 9, 10, 11, 12, 14}), frozenset({41, 26, 35}), frozenset({16}), frozenset({58}), frozenset({9, 10, 7}), frozenset({50, 52, 45}), frozenset({54}), frozenset({16, 10, 11, 12}), frozenset({44}), frozenset({112}), frozenset({50, 45}), frozenset({37}), frozenset({112, 113, 115}), frozenset({26, 4, 24, 40, 15}), frozenset({29, 37, 38, 39}), frozenset({89, 90}), frozenset({56, 59}), frozenset({9, 11, 14}), frozenset({51, 55, 56, 59, 44}), frozenset({3}), frozenset({123}), frozenset({3, 4, 13, 15}), frozenset({91}), frozenset({99, 101}), frozenset({127}), frozenset({24, 41, 26, 13, 15}), frozenset({9, 7}), frozenset({26, 24, 40, 13, 15}), frozenset({9, 11}), frozenset({56, 51, 44, 55}), frozenset({3, 4, 24, 26, 13}), frozenset({16, 23, 7, 9, 10, 11, 14}), frozenset({13}), frozenset({84, 94}), frozenset({3, 24, 41, 26, 13, 15}), frozenset({16, 11, 12, 23}), frozenset({9, 10, 14, 7}), frozenset({50, 52, 63}), frozenset({33, 34, 37, 38, 39}), frozenset({122, 123, 126}), frozenset({72, 66, 75, 68}), frozenset({60}), frozenset({5}), frozenset({16, 10, 11, 12, 14}), frozenset({16, 10, 19, 14}), frozenset({16, 23, 9, 10, 11, 12, 14}), frozenset({11, 12, 23}), frozenset({9, 11, 12, 14}), frozenset({24, 26, 35, 13}), frozenset({9, 10, 11, 14}), frozenset({35, 26, 24, 40, 13, 15}), frozenset({11, 12}), frozenset({16, 10, 12, 23}), frozenset({76}), frozenset({9, 11, 14, 7}), frozenset({16, 10, 14}), frozenset({1}), frozenset({81}), frozenset({16, 9, 10, 23}), frozenset({3, 4, 24, 41, 26, 13, 15}), frozenset({24, 4, 15}), frozenset({41, 26}), frozenset({72, 66, 75, 69}), frozenset({39}), frozenset({7, 9, 10, 11, 14, 16, 19, 23}), frozenset({24, 3, 13, 15}), frozenset({31}), frozenset({72, 66, 68, 69}), frozenset({35, 4, 24, 41, 26, 15}), frozenset({48}), frozenset({7, 9, 10, 11, 12, 14, 16, 23}), frozenset({33, 34, 37, 29}), frozenset({16, 7, 9, 10, 11, 12}), frozenset({16, 9, 10, 7}), frozenset({118}), frozenset({16, 10}), frozenset({100}), frozenset({3, 4, 15}), frozenset({104, 98, 82, 87}), frozenset({16, 9, 11, 23}), frozenset({65}), frozenset({24, 26, 35, 15}), frozenset({24, 3, 13}), frozenset({16, 7, 9, 10, 14}), frozenset({19, 7, 9, 10, 11, 12, 14}), frozenset({3, 13, 15}), frozenset({57, 47}), frozenset({16, 23, 9, 10, 12, 14}), frozenset({28}), frozenset({16, 9, 11, 7}), frozenset({10, 11, 12, 14}), frozenset({130}), frozenset({3, 4, 26, 24, 40, 13, 15}), frozenset({26, 4, 24, 41, 40, 13, 15}), frozenset({16, 11}), frozenset({122}), frozenset({27}), frozenset({8}), frozenset({9, 11, 12, 23}), frozenset({35, 24, 41, 26, 13, 15}), frozenset({82}), frozenset({16, 10, 11, 7}), frozenset({35, 4, 40, 41, 13, 15, 24, 26}), frozenset({45}), frozenset({35, 4, 24, 41, 26, 13, 15}), frozenset({16, 23, 7, 9, 11, 12}), frozenset({35, 26, 24, 41, 40, 15}), frozenset({114}), frozenset({16, 19, 23, 10, 12, 14}), frozenset({104, 98}), frozenset({33, 34, 31}), frozenset({24, 3, 4, 13}), frozenset({26, 24, 41, 40, 13}), frozenset({103}), frozenset({26, 4, 24, 40, 13, 15}), frozenset({42}), frozenset({33, 34, 37, 38}), frozenset({125}), frozenset({4}), frozenset({24, 26, 3, 13}), frozenset({40, 24, 26, 41}), frozenset({29}), frozenset({10, 11, 12, 7}), frozenset({96, 91}), frozenset({56, 59, 51, 55}), frozenset({7, 23, 10, 11, 12}), frozenset({40, 41}), frozenset({108, 102, 111}), frozenset({72, 69}), frozenset({18}), frozenset({10, 11, 12}), frozenset({49, 50, 63}), frozenset({121}), frozenset({50, 63}), frozenset({93}), frozenset({23, 9, 10, 11, 12}), frozenset({47}), frozenset({74}), frozenset({68}), frozenset({46}), frozenset({16, 19, 23, 10, 14}), frozenset({51, 59, 44}), frozenset({16, 7, 23, 9, 11}), frozenset({16, 11, 7}), frozenset({34, 37, 38, 39}), frozenset({19, 9, 10, 11, 14}), frozenset({16, 23, 9, 11, 12}), frozenset({35, 26, 24, 41, 40, 13, 15}), frozenset({81, 84}), frozenset({16, 7, 9, 10, 11, 14}), frozenset({3, 26, 24, 41, 40, 13}), frozenset({16, 19, 23, 7, 9, 10, 14}), frozenset({4, 24, 41, 26, 13, 15}), frozenset({81, 84, 85, 94}), frozenset({16, 23, 9, 10, 14}), frozenset({105, 109}), frozenset({66}), frozenset({24, 26, 15}), frozenset({106, 116}), frozenset({10, 11}), frozenset({24, 15}), frozenset({33, 34, 37, 29, 31}), frozenset({9, 10, 11, 7}), frozenset({16, 7, 23, 9, 10}), frozenset({16, 19, 23, 9, 10, 12, 14}), frozenset({40, 35}), frozenset({16, 10, 11, 23}), frozenset({3, 4, 40, 41, 13, 15, 24, 26}), frozenset({16, 7, 10, 11, 12}), frozenset({92}), frozenset({22}), frozenset({74, 78}), frozenset({63}), frozenset({9, 10, 11, 12, 14, 16, 19, 23}), frozenset({7, 9, 11, 12, 14}), frozenset({12}), frozenset({114, 116}), frozenset({50}), frozenset({20}), frozenset({19, 23, 10, 11, 12, 14}), frozenset({9, 19, 14}), frozenset({11, 9, 19, 14}), frozenset({56}), frozenset({43}), frozenset({29, 37}), frozenset({71}), frozenset({35, 4, 24, 26, 13, 15}), frozenset({16, 9, 11, 12}), frozenset({35, 24, 41, 26, 13}), frozenset({23, 9, 10, 11, 12, 14}), frozenset({72, 68, 69}), frozenset({16, 23, 7, 9, 10, 14}), frozenset({67}), frozenset({16, 19, 23, 10, 11, 14}), frozenset({19, 7, 9, 11, 12, 14}), frozenset({16, 23, 7, 9, 10, 11}), frozenset({19, 7, 9, 10, 11, 14}), frozenset({38, 39}), frozenset({3, 35, 4, 24, 26, 13, 15}), frozenset({26, 35}), frozenset({56, 59, 51}), frozenset({3, 35, 4, 40, 13, 15, 24, 26}), frozenset({1, 2}), frozenset({16, 7, 9, 10, 11}), frozenset({34, 29, 37, 39}), frozenset({16, 11, 23}), frozenset({96, 91, 93, 103}), frozenset({81, 84, 94}), frozenset({98}), frozenset({16, 23, 9, 10, 11, 14}), frozenset({3, 26, 24, 41, 40, 13, 15}), frozenset({26, 3, 24, 40, 13}), frozenset({16, 23, 9, 10, 11, 12}), frozenset({16, 10, 11, 14}), frozenset({66, 69}), frozenset({3, 35, 24, 41, 26, 13, 15}), frozenset({33, 34, 37, 31}), frozenset({59, 51, 55}), frozenset({122, 123}), frozenset({26, 35, 24, 40, 15}), frozenset({78}), frozenset({117}), frozenset({24, 41, 26, 15}), frozenset({3, 26, 24, 40, 13, 15}), frozenset({90}), frozenset({34, 37, 29}), frozenset({56, 51, 44}), frozenset({3, 13}), frozenset({34, 37, 38, 39, 29}), frozenset({16, 23, 10, 11, 14}), frozenset({7, 23, 9, 11, 12}), frozenset({83}), frozenset({4, 13, 15}), frozenset({51, 44}), frozenset({40, 24, 26}), frozenset({34, 37, 38}), frozenset({57, 58, 47}), frozenset({80, 79}), frozenset({49, 50}), frozenset({33, 34}), frozenset({92, 85}), frozenset({16, 19, 7, 9, 10, 14}), frozenset({95}), frozenset({11, 12, 7}), frozenset({16, 7, 9, 10, 11, 12, 14}), frozenset({16, 9, 10, 11, 12, 14}), frozenset({49, 63}), frozenset({119}), frozenset({64, 53}), frozenset({10, 14}), frozenset({33, 34, 37, 38, 29}), frozenset({49, 50, 52}), frozenset({108, 111})}\n"
     ]
    }
   ],
   "source": [
    "print(S)"
   ]
  },
  {
   "cell_type": "markdown",
   "id": "915d3295",
   "metadata": {},
   "source": [
    "We check that the subimage created by the merge of the regions are simply connected. We did a random check for the subimage created by {40, 24, 26, 13} and the one created by {81, 84, 94}."
   ]
  },
  {
   "cell_type": "code",
   "execution_count": 8,
   "id": "9682a0f2",
   "metadata": {},
   "outputs": [
    {
     "data": {
      "text/plain": [
       "1"
      ]
     },
     "execution_count": 8,
     "metadata": {},
     "output_type": "execute_result"
    },
    {
     "data": {
      "image/png": "[encoded data removed]",
      "text/plain": [
       "<Figure size 432x288 with 1 Axes>"
      ]
     },
     "metadata": {
      "needs_background": "light"
     },
     "output_type": "display_data"
    }
   ],
   "source": [
    "img_a = Omega == 40\n",
    "img_b = Omega == 24\n",
    "img_c = Omega == 26\n",
    "img_d = Omega == 13\n",
    "\n",
    "plt.imshow(img_a + img_b + img_c + img_d)\n",
    "euler_number(img_a+img_b+img_c+img_d)"
   ]
  },
  {
   "cell_type": "code",
   "execution_count": 9,
   "id": "94a784c7",
   "metadata": {},
   "outputs": [
    {
     "data": {
      "text/plain": [
       "1"
      ]
     },
     "execution_count": 9,
     "metadata": {},
     "output_type": "execute_result"
    },
    {
     "data": {
      "image/png": "[encoded data removed]",
      "text/plain": [
       "<Figure size 432x288 with 1 Axes>"
      ]
     },
     "metadata": {
      "needs_background": "light"
     },
     "output_type": "display_data"
    }
   ],
   "source": [
    "img_a = Omega == 81\n",
    "img_b = Omega == 84\n",
    "img_c = Omega == 94\n",
    "\n",
    "plt.imshow(img_a + img_b + img_c)\n",
    "euler_number(img_a + img_b + img_c)"
   ]
  },
  {
   "cell_type": "markdown",
   "id": "944ec065",
   "metadata": {},
   "source": [
    "### Algorithm II"
   ]
  },
  {
   "cell_type": "code",
   "execution_count": 13,
   "id": "375b93b1",
   "metadata": {},
   "outputs": [],
   "source": [
    "def global_solution(f,alpha,Omega,S):\n",
    "    #Set Variables we dont need Z but f_used\n",
    "    n = len(S) \n",
    "    u = np.zeros(n)\n",
    "    V = Omega\n",
    "    f_used = np.copy(f)\n",
    "    #First Loop over copy of Omega\n",
    "    while V != 0:\n",
    "        c = np.empty(n)\n",
    "        #Loop over number of Subgraphs in S\n",
    "        for k in range(n):\n",
    "            #Set intersection length\n",
    "            Zk_V = len(np.intersect1d(Omega,np.array(list(S[k]))))\n",
    "            #Set c if intersection is non empty \n",
    "            if  Zk_V !=0:\n",
    "                c[k] = (f[k] + alpha) / Zk_V\n",
    "            #Else set it to nan to ignore it\n",
    "            else:\n",
    "                c[k] = np.nan\n",
    "        #Get the argmin of c\n",
    "        k_min = np.nanargmin(c)\n",
    "        #Set u of argmin to 1\n",
    "        u[k_min] = 1 \n",
    "        #Loop over all areas in Z_k\n",
    "        for w in S[k]:\n",
    "            #Set V of those areas to 0 to indicate that they have been used already\n",
    "            V[V==w] = 0\n",
    "    \n",
    "    #Second loop over not used elements of f\n",
    "    while f_used != np.empty(n):\n",
    "        #Set current element of interest k_prim\n",
    "        k_prim = np.nanargmin(f_used)\n",
    "        #check if u[_k_prim hasn been used in first loop\n",
    "        if u[k_prim]==0:\n",
    "            #crate subvector v of u\n",
    "            v = np.copy(u)\n",
    "            #loop over all elements of u that are non zero\n",
    "            for ind in np.nonzero(u):\n",
    "                #check if Z_ind is subset of Z_kprim\n",
    "                if S[ind] not in S[k_prim]:\n",
    "                    #if not set v to 0 to ignore it in the union\n",
    "                    v[ind] = 0\n",
    "            #check if union of all left subsets is equal Z_kprim\n",
    "            if S[k_prim] == set().union(S[k] for k in np.nonzero(v)):\n",
    "                #check smth...\n",
    "                if f[k_prim]+alpha < np.dot(v,f + (alpha*np.ones(n))):\n",
    "                    #Set u values of the used subsets to 0 and the union to 1\n",
    "                    u = u-v\n",
    "                    u[k_prim] = 1\n",
    "        #make f equal to nan for the used region\n",
    "        f_used[k_prim]=np.nan\n",
    "    return u"
   ]
  },
  {
   "cell_type": "markdown",
   "id": "cacf6cb1",
   "metadata": {},
   "source": [
    "## Computation of f"
   ]
  },
  {
   "cell_type": "markdown",
   "id": "f99da704",
   "metadata": {},
   "source": [
    "We use a second-order solver for non-linear unconstrained convex problem. To do so, we define $\\theta^T = [a_1, a_2, a_3, b_1, b_2, c]$ and as such define for a pixel $x \\in R$ (R = region.coords) $\\subset \\mathbb{R}^2$ \n",
    "$$\\begin{align*}\n",
    "s(x, \\theta) &= x^T \\begin{pmatrix} a_1 & a_3 \\\\ a_3 & a_2 \\end{pmatrix} x + \\begin{pmatrix} b_1, b_2 \\end{pmatrix} \\begin{pmatrix} x_1 \\\\ x_2 \\end{pmatrix} + c \\\\\n",
    "&= x^T \\begin{pmatrix} \\theta[0] & \\theta[2] \\\\ \\theta[2] & \\theta[1] \\end{pmatrix} x + \\begin{pmatrix} \\theta[3], \\theta[4] \\end{pmatrix} \\begin{pmatrix} x_1 \\\\ x_2 \\end{pmatrix} + \\theta[5] \\\\\n",
    "&= a_1 x_1^2 + a_2x_2^2 + 2a_3x_1x_2 + b_1x_1 + b_2x_2 + c \\\\\n",
    "&= \\nabla^T s(x) * \\theta \n",
    "\\end{align*}$$\n",
    "for $\\nabla^T s(x) = [x_1^2, x_2^2, 2x_1x_2, x_1, x_2, 1]$\n",
    "\n",
    "The following is a brief explanation of the used data structures and especially their dimensions to help the reader better undertstand the function J_energy:\n",
    "\n",
    "- y has size region.area x 1. Each element corresponds to $g(x) - \\tau$ for $x$ two-dim coordinates of a pixel in region.\n",
    "- delta_s is a region.area x 6 matrix. Each row corresponds to $\\nabla^T s(x)$ for $x$ two-dim coordinates of a pixel in region.\n",
    "$$\\text{delta_s} = \\begin{pmatrix} \\nabla^T s(x_0) \\\\ \\nabla^T s(x_1) \\\\ ... \\\\ \\nabla^T s(x_{region.area}) \\end{pmatrix}$$\n",
    "- s is a region.area x 1 matrix. Each row corresponds to the inner product $s(x, \\theta) = \\nabla^T s(x) * \\theta$ for $x$ two-dim coordinates of a pixel in region.\n",
    "- phi is a region.area x 1 matrix. Each row corresponds to the evaluation of the function $\\phi(y, s(x, \\theta)) = \\log(1+\\exp(-y(x)*s(x, \\theta))).$ Here we remark that the functions MULT, EXP and LOG operate on matricies element-wise.\n",
    "- J is the sum of the vector phi, and as such corresponds to $J(\\theta) = \\sum_{x \\in R} \\phi(y_x; s(x, \\theta))$ and is a scalar.\n",
    "\n",
    "We move on to the definition of the Jacobian of J. To that end we define:\n",
    "- kappa, matrix of size region.area x 1. Each row corresponds to $\\kappa_{x, \\theta} = \\frac{1}{1 + \\exp(y_x s(x; \\theta))}$ for $x$ two-dim coordinates of a pixel in region.\n",
    "- DJ, the Jacobian of J, matrix of size 6x1. It is constructed as follows:\n",
    "    - We multiply y and kappa element-wise. \n",
    "    - To this vector we multiply a 1x6 one-vector. This gives us a region.area x 6 matrix, where each row is identical to y*kappa.\n",
    "    - This Matrix we inturn multiply element-wise with delta_s. As such we obtain a region.area x 6 matrix, where each row consists of the vector $y_x * \\kappa_{x, \\theta} * \\nabla^T s(x)$ for $x$ two-dim coordinates of a pixel in region. \n",
    "    - as I found no function to only sum over rows, we multiply the last matrix from the right with the 1xregion.area vector, which acts as a row-sum operator.\n",
    "    \n",
    "We move on to the Definition of the Hessian Matrix. To that end, we define:\n",
    "     TO BE ADDED LATER"
   ]
  },
  {
   "cell_type": "code",
   "execution_count": 213,
   "id": "c1b31603",
   "metadata": {},
   "outputs": [],
   "source": [
    "def J_energy(image, region):\n",
    "    #define tau\n",
    "    tau = filters.threshold_otsu(image[region.slice])\n",
    "    #define y_x for every element in the region\n",
    "    y = matrix(np.array([image[x[0], x[1]] - tau for x in region.coords], dtype = np.double))\n",
    "    #define nable s(x) for each element\n",
    "    delta_s = matrix(np.array([[x[0]**2, x[1]**2, 2*x[0]*x[1], x[0], x[1], 1] for x in region.coords]), (region.area, 6))\n",
    "    def F(theta = None, z = None):\n",
    "        if theta is None: return 0, matrix(1.0, (6,1))\n",
    "        # s contains region.area many rows, each row contains a scalar.\n",
    "        s = delta_s * theta\n",
    "        phi = log(1 + exp(-mul(y,s)))\n",
    "        J = sum(phi)\n",
    "        kappa = div(1, 1+exp(mul(y,s)))\n",
    "        DJ = matrix(1, (1, region.area)) * (-mul(mul(y, kappa) * matrix(1, (1, 6)), delta_s))\n",
    "        if z is None: return J, DJ\n",
    "        nu = mul(y**2, kappa - kappa**2)\n",
    "        #define matrix to multiply from the right for summation\n",
    "        SumMatrix = matrix(np.tile([[1,0,0,0,0,0], \n",
    "                                    [0,1,0,0,0,0], \n",
    "                                    [0,0,1,0,0,0], \n",
    "                                    [0,0,0,1,0,0], \n",
    "                                    [0,0,0,0,1,0], \n",
    "                                    [0,0,0,0,0,1]], 5605))\n",
    "        eta = matrix([delta_s[i,:].T * delta_s[i,:] * nu[i] for i in range(region.area)])\n",
    "        H = z[0]* SumMatrix * eta\n",
    "        return J, DJ, H\n",
    "    return solvers.cp(F, reltol = 1e-2, abstol = 1e-2, maxiters = 200)['theta']"
   ]
  },
  {
   "cell_type": "code",
   "execution_count": 209,
   "id": "0979e0c7",
   "metadata": {},
   "outputs": [
    {
     "name": "stdout",
     "output_type": "stream",
     "text": [
      "     pcost       dcost       gap    pres   dres\n",
      " 0:  0.0000e+00      inf  1e+00    nan  1e+00\n"
     ]
    },
    {
     "ename": "ValueError",
     "evalue": "domain error",
     "output_type": "error",
     "traceback": [
      "\u001b[1;31m---------------------------------------------------------------------------\u001b[0m",
      "\u001b[1;31mValueError\u001b[0m                                Traceback (most recent call last)",
      "\u001b[1;32m<ipython-input-209-1587e20c91ca>\u001b[0m in \u001b[0;36m<module>\u001b[1;34m\u001b[0m\n\u001b[0;32m      1\u001b[0m \u001b[0mregions\u001b[0m \u001b[1;33m=\u001b[0m \u001b[0mregionprops\u001b[0m\u001b[1;33m(\u001b[0m\u001b[0mOmega\u001b[0m\u001b[1;33m)\u001b[0m\u001b[1;33m\u001b[0m\u001b[1;33m\u001b[0m\u001b[0m\n\u001b[1;32m----> 2\u001b[1;33m \u001b[0mJ_energy\u001b[0m\u001b[1;33m(\u001b[0m\u001b[0mimage\u001b[0m\u001b[1;33m,\u001b[0m \u001b[0mregions\u001b[0m\u001b[1;33m[\u001b[0m\u001b[1;36m0\u001b[0m\u001b[1;33m]\u001b[0m\u001b[1;33m)\u001b[0m\u001b[1;33m\u001b[0m\u001b[1;33m\u001b[0m\u001b[0m\n\u001b[0m",
      "\u001b[1;32m<ipython-input-208-ce5b6f9a3b81>\u001b[0m in \u001b[0;36mJ_energy\u001b[1;34m(image, region)\u001b[0m\n\u001b[0;32m     27\u001b[0m         \u001b[0mH\u001b[0m \u001b[1;33m=\u001b[0m \u001b[0mz\u001b[0m\u001b[1;33m[\u001b[0m\u001b[1;36m0\u001b[0m\u001b[1;33m]\u001b[0m\u001b[1;33m*\u001b[0m \u001b[0mSumMatrix\u001b[0m \u001b[1;33m*\u001b[0m \u001b[0meta\u001b[0m\u001b[1;33m\u001b[0m\u001b[1;33m\u001b[0m\u001b[0m\n\u001b[0;32m     28\u001b[0m         \u001b[1;32mreturn\u001b[0m \u001b[0mJ\u001b[0m\u001b[1;33m,\u001b[0m \u001b[0mDJ\u001b[0m\u001b[1;33m,\u001b[0m \u001b[0mH\u001b[0m\u001b[1;33m\u001b[0m\u001b[1;33m\u001b[0m\u001b[0m\n\u001b[1;32m---> 29\u001b[1;33m     \u001b[1;32mreturn\u001b[0m \u001b[0msolvers\u001b[0m\u001b[1;33m.\u001b[0m\u001b[0mcp\u001b[0m\u001b[1;33m(\u001b[0m\u001b[0mF\u001b[0m\u001b[1;33m,\u001b[0m \u001b[0mreltol\u001b[0m \u001b[1;33m=\u001b[0m \u001b[1;36m1e-2\u001b[0m\u001b[1;33m,\u001b[0m \u001b[0mabstol\u001b[0m \u001b[1;33m=\u001b[0m \u001b[1;36m1e-2\u001b[0m\u001b[1;33m,\u001b[0m \u001b[0mmaxiters\u001b[0m \u001b[1;33m=\u001b[0m \u001b[1;36m200\u001b[0m\u001b[1;33m)\u001b[0m\u001b[1;33m[\u001b[0m\u001b[1;34m'theta'\u001b[0m\u001b[1;33m]\u001b[0m\u001b[1;33m\u001b[0m\u001b[1;33m\u001b[0m\u001b[0m\n\u001b[0m",
      "\u001b[1;32m~\\miniconda3\\envs\\impc\\lib\\site-packages\\cvxopt\\cvxprog.py\u001b[0m in \u001b[0;36mcp\u001b[1;34m(F, G, h, dims, A, b, kktsolver, xnewcopy, xdot, xaxpy, xscal, ynewcopy, ydot, yaxpy, yscal, **kwargs)\u001b[0m\n\u001b[0;32m   1963\u001b[0m         \u001b[0mx\u001b[0m\u001b[1;33m[\u001b[0m\u001b[1;36m1\u001b[0m\u001b[1;33m]\u001b[0m \u001b[1;33m*=\u001b[0m \u001b[0malpha\u001b[0m\u001b[1;33m\u001b[0m\u001b[1;33m\u001b[0m\u001b[0m\n\u001b[0;32m   1964\u001b[0m \u001b[1;33m\u001b[0m\u001b[0m\n\u001b[1;32m-> 1965\u001b[1;33m     sol = cpl(c, F_e, G_e, h, dims, A_e, b, kktsolver_e, xnewcopy_e, \n\u001b[0m\u001b[0;32m   1966\u001b[0m          xdot_e, xaxpy_e, xscal_e, options = options)\n\u001b[0;32m   1967\u001b[0m \u001b[1;33m\u001b[0m\u001b[0m\n",
      "\u001b[1;32m~\\miniconda3\\envs\\impc\\lib\\site-packages\\cvxopt\\cvxprog.py\u001b[0m in \u001b[0;36mcpl\u001b[1;34m(c, F, G, h, dims, A, b, kktsolver, xnewcopy, xdot, xaxpy, xscal, ynewcopy, ydot, yaxpy, yscal, **kwargs)\u001b[0m\n\u001b[0;32m   1054\u001b[0m             \u001b[1;32mwhile\u001b[0m \u001b[0mbacktrack\u001b[0m\u001b[1;33m:\u001b[0m\u001b[1;33m\u001b[0m\u001b[1;33m\u001b[0m\u001b[0m\n\u001b[0;32m   1055\u001b[0m                 \u001b[0mxcopy\u001b[0m\u001b[1;33m(\u001b[0m\u001b[0mx\u001b[0m\u001b[1;33m,\u001b[0m \u001b[0mnewx\u001b[0m\u001b[1;33m)\u001b[0m\u001b[1;33m;\u001b[0m  \u001b[0mxaxpy\u001b[0m\u001b[1;33m(\u001b[0m\u001b[0mdx\u001b[0m\u001b[1;33m,\u001b[0m \u001b[0mnewx\u001b[0m\u001b[1;33m,\u001b[0m \u001b[0malpha\u001b[0m \u001b[1;33m=\u001b[0m \u001b[0mstep\u001b[0m\u001b[1;33m)\u001b[0m\u001b[1;33m\u001b[0m\u001b[1;33m\u001b[0m\u001b[0m\n\u001b[1;32m-> 1056\u001b[1;33m                 \u001b[0mt\u001b[0m \u001b[1;33m=\u001b[0m \u001b[0mF\u001b[0m\u001b[1;33m(\u001b[0m\u001b[0mnewx\u001b[0m\u001b[1;33m)\u001b[0m\u001b[1;33m\u001b[0m\u001b[1;33m\u001b[0m\u001b[0m\n\u001b[0m\u001b[0;32m   1057\u001b[0m                 \u001b[1;32mif\u001b[0m \u001b[0mt\u001b[0m \u001b[1;32mis\u001b[0m \u001b[1;32mNone\u001b[0m\u001b[1;33m:\u001b[0m \u001b[0mnewf\u001b[0m \u001b[1;33m=\u001b[0m \u001b[1;32mNone\u001b[0m\u001b[1;33m\u001b[0m\u001b[1;33m\u001b[0m\u001b[0m\n\u001b[0;32m   1058\u001b[0m                 \u001b[1;32melse\u001b[0m\u001b[1;33m:\u001b[0m \u001b[0mnewf\u001b[0m\u001b[1;33m,\u001b[0m \u001b[0mnewDf\u001b[0m \u001b[1;33m=\u001b[0m \u001b[0mt\u001b[0m\u001b[1;33m[\u001b[0m\u001b[1;36m0\u001b[0m\u001b[1;33m]\u001b[0m\u001b[1;33m,\u001b[0m \u001b[0mt\u001b[0m\u001b[1;33m[\u001b[0m\u001b[1;36m1\u001b[0m\u001b[1;33m]\u001b[0m\u001b[1;33m\u001b[0m\u001b[1;33m\u001b[0m\u001b[0m\n",
      "\u001b[1;32m~\\miniconda3\\envs\\impc\\lib\\site-packages\\cvxopt\\cvxprog.py\u001b[0m in \u001b[0;36mF_e\u001b[1;34m(x, z)\u001b[0m\n\u001b[0;32m   1778\u001b[0m         \u001b[1;32melse\u001b[0m\u001b[1;33m:\u001b[0m\u001b[1;33m\u001b[0m\u001b[1;33m\u001b[0m\u001b[0m\n\u001b[0;32m   1779\u001b[0m             \u001b[1;32mif\u001b[0m \u001b[0mz\u001b[0m \u001b[1;32mis\u001b[0m \u001b[1;32mNone\u001b[0m\u001b[1;33m:\u001b[0m\u001b[1;33m\u001b[0m\u001b[1;33m\u001b[0m\u001b[0m\n\u001b[1;32m-> 1780\u001b[1;33m                 \u001b[0mv\u001b[0m \u001b[1;33m=\u001b[0m \u001b[0mF\u001b[0m\u001b[1;33m(\u001b[0m\u001b[0mx\u001b[0m\u001b[1;33m[\u001b[0m\u001b[1;36m0\u001b[0m\u001b[1;33m]\u001b[0m\u001b[1;33m)\u001b[0m\u001b[1;33m\u001b[0m\u001b[1;33m\u001b[0m\u001b[0m\n\u001b[0m\u001b[0;32m   1781\u001b[0m                 \u001b[1;32mif\u001b[0m \u001b[0mv\u001b[0m \u001b[1;32mis\u001b[0m \u001b[1;32mNone\u001b[0m \u001b[1;32mor\u001b[0m \u001b[0mv\u001b[0m\u001b[1;33m[\u001b[0m\u001b[1;36m0\u001b[0m\u001b[1;33m]\u001b[0m \u001b[1;32mis\u001b[0m \u001b[1;32mNone\u001b[0m\u001b[1;33m:\u001b[0m \u001b[1;32mreturn\u001b[0m \u001b[1;32mNone\u001b[0m\u001b[1;33m,\u001b[0m \u001b[1;32mNone\u001b[0m\u001b[1;33m\u001b[0m\u001b[1;33m\u001b[0m\u001b[0m\n\u001b[0;32m   1782\u001b[0m                 \u001b[0mval\u001b[0m \u001b[1;33m=\u001b[0m \u001b[0mmatrix\u001b[0m\u001b[1;33m(\u001b[0m\u001b[0mv\u001b[0m\u001b[1;33m[\u001b[0m\u001b[1;36m0\u001b[0m\u001b[1;33m]\u001b[0m\u001b[1;33m,\u001b[0m \u001b[0mtc\u001b[0m \u001b[1;33m=\u001b[0m \u001b[1;34m'd'\u001b[0m\u001b[1;33m)\u001b[0m\u001b[1;33m\u001b[0m\u001b[1;33m\u001b[0m\u001b[0m\n",
      "\u001b[1;32m<ipython-input-208-ce5b6f9a3b81>\u001b[0m in \u001b[0;36mF\u001b[1;34m(theta, z)\u001b[0m\n\u001b[0;32m     10\u001b[0m         \u001b[1;31m# s contains region.area many rows, each row contains a scalar.\u001b[0m\u001b[1;33m\u001b[0m\u001b[1;33m\u001b[0m\u001b[1;33m\u001b[0m\u001b[0m\n\u001b[0;32m     11\u001b[0m         \u001b[0ms\u001b[0m \u001b[1;33m=\u001b[0m \u001b[0mdelta_s\u001b[0m \u001b[1;33m*\u001b[0m \u001b[0mtheta\u001b[0m\u001b[1;33m\u001b[0m\u001b[1;33m\u001b[0m\u001b[0m\n\u001b[1;32m---> 12\u001b[1;33m         \u001b[0mphi\u001b[0m \u001b[1;33m=\u001b[0m \u001b[0mlog\u001b[0m\u001b[1;33m(\u001b[0m\u001b[1;36m1\u001b[0m \u001b[1;33m+\u001b[0m \u001b[0mexp\u001b[0m\u001b[1;33m(\u001b[0m\u001b[1;33m-\u001b[0m\u001b[0mmul\u001b[0m\u001b[1;33m(\u001b[0m\u001b[0my\u001b[0m\u001b[1;33m,\u001b[0m\u001b[0ms\u001b[0m\u001b[1;33m)\u001b[0m\u001b[1;33m)\u001b[0m\u001b[1;33m)\u001b[0m\u001b[1;33m\u001b[0m\u001b[1;33m\u001b[0m\u001b[0m\n\u001b[0m\u001b[0;32m     13\u001b[0m         \u001b[0mJ\u001b[0m \u001b[1;33m=\u001b[0m \u001b[0msum\u001b[0m\u001b[1;33m(\u001b[0m\u001b[0mphi\u001b[0m\u001b[1;33m)\u001b[0m\u001b[1;33m\u001b[0m\u001b[1;33m\u001b[0m\u001b[0m\n\u001b[0;32m     14\u001b[0m         \u001b[0mkappa\u001b[0m \u001b[1;33m=\u001b[0m \u001b[0mdiv\u001b[0m\u001b[1;33m(\u001b[0m\u001b[1;36m1\u001b[0m\u001b[1;33m,\u001b[0m \u001b[1;36m1\u001b[0m\u001b[1;33m+\u001b[0m\u001b[0mexp\u001b[0m\u001b[1;33m(\u001b[0m\u001b[0mmul\u001b[0m\u001b[1;33m(\u001b[0m\u001b[0my\u001b[0m\u001b[1;33m,\u001b[0m\u001b[0ms\u001b[0m\u001b[1;33m)\u001b[0m\u001b[1;33m)\u001b[0m\u001b[1;33m)\u001b[0m\u001b[1;33m\u001b[0m\u001b[1;33m\u001b[0m\u001b[0m\n",
      "\u001b[1;31mValueError\u001b[0m: domain error"
     ]
    }
   ],
   "source": [
    "regions = regionprops(Omega)\n",
    "J_energy(image, regions[0])\n",
    "#problem: phi has inf elements! --> domain problem!"
   ]
  },
  {
   "cell_type": "markdown",
   "id": "291b6a99",
   "metadata": {},
   "source": [
    "# Tests for CVXOPT"
   ]
  },
  {
   "cell_type": "code",
   "execution_count": 211,
   "id": "6f66dd95",
   "metadata": {},
   "outputs": [
    {
     "data": {
      "text/plain": [
       "<6x33630 matrix, tc='i'>"
      ]
     },
     "execution_count": 211,
     "metadata": {},
     "output_type": "execute_result"
    }
   ],
   "source": [
    "matrix(np.tile([[1,0,0,0,0,0],[0,1,0,0,0,0], [0,0,1,0,0,0], [0,0,0,1,0,0], [0,0,0,0,1,0], [0,0,0,0,0,1]], 5605))"
   ]
  },
  {
   "cell_type": "code",
   "execution_count": 212,
   "id": "ee881a3b",
   "metadata": {},
   "outputs": [
    {
     "data": {
      "text/plain": [
       "<1x6 matrix, tc='d'>"
      ]
     },
     "execution_count": 212,
     "metadata": {},
     "output_type": "execute_result"
    }
   ],
   "source": [
    "region = regionprops(Omega)[0]\n",
    "tau = filters.threshold_otsu(image[region.slice])\n",
    "y = matrix(np.array([image[x[0], x[1]] - tau for x in region.coords], dtype = np.double))\n",
    "delta_s = matrix(np.array([[x[0]**2, x[1]**2, 2*x[0]*x[1], x[0], x[1], 1] for x in region.coords]), (region.area, 6))\n",
    "\n",
    "theta = matrix(1, (6,1))\n",
    "s = delta_s * theta\n",
    "#problem: phi and as such J have inf elements!\n",
    "phi = log(1 + exp(-mul(y,s)))\n",
    "J = sum(phi)\n",
    "kappa = div(1, 1+exp(mul(y,s)))\n",
    "kappa**2\n",
    "\n",
    "nu = mul(y**2, kappa - kappa**2)\n",
    "#define matrix to multiply from the right for summation\n",
    "SumMatrix = matrix(np.tile([[1, 0, 0, 0, 0, 0],[0,1,0,0,0,0], [0,0,1,0,0,0], [0,0,0,1,0,0], [0,0,0,0,1,0], [0,0,0,0,0,1]], 5605))\n",
    "eta = matrix([delta_s[i,:].T * delta_s[i,:] * nu[i] for i in range(region.area)])\n",
    "H = SumMatrix * eta\n",
    "\n",
    "matrix(1, (1, region.area)) * (-mul(mul(y, kappa) * matrix(1, (1, 6)), delta_s))"
   ]
  },
  {
   "cell_type": "code",
   "execution_count": null,
   "id": "a525b0bb",
   "metadata": {},
   "outputs": [],
   "source": [
    "#TODO Remove\n",
    "#Computation of the intensity threshold\n",
    "def Otsu_thresholding(Z):\n",
    "    #Set Number of bins 256 for 8-bit\n",
    "    L = 256\n",
    "    #Set number of pixel in area Z\n",
    "    N = Z.size\n",
    "    #Get the grayvalue histogramm\n",
    "    hist, _ = np.histogram(Z,bins=L)\n",
    "    #normalize to get probability distribution\n",
    "    hist = hist/N\n",
    "    #function with all variables needed to compute sigma^2_B corresponding to the k-th bin\n",
    "    def get_sigma(k):\n",
    "        w = sum(hist[:k+1])\n",
    "        w_0 = w\n",
    "        w_1 = 1 - w\n",
    "        #ignore certain bins according to restricten\n",
    "        if w_0*w_1 > 0 or 0 < w_0 < 1:\n",
    "            my = lambda k: sum(i*hist[i] for i in range(k+1))\n",
    "            my_0 = my(k)/w\n",
    "            my_1 = (my(L-1)-my(k))/w_1\n",
    "            sigma_B = w_0*w_1*(my_1-my_0)**2\n",
    "            return sigma_B\n",
    "        else:\n",
    "            return 0\n",
    "    #compute sigma for all k\n",
    "    sigma_B_all = np.array([get_sigma(k) for k in range(L)])\n",
    "    #get the bin with wich maximizes sigma \n",
    "    k_max = np.argmax(sigma_B_all)\n",
    "    #rescale the bin number to the value range of the local area to optain intensity threshold\n",
    "    tau = k_max*np.max(Z)/(256)\n",
    "    return tau"
   ]
  },
  {
   "cell_type": "code",
   "execution_count": null,
   "id": "80acc561",
   "metadata": {},
   "outputs": [],
   "source": [
    "S = np.array(list(S))\n",
    "background = np.zeros_like(image,dtype=bool)\n",
    "for Z_k in S:\n",
    "    Z = np.zeros_like(image,dtype=bool)\n",
    "    for label in Z_k:\n",
    "        Z += Omega==label\n",
    "    background[Z] += image[Z] >= filters.threshold_otsu(image[Z]) \n",
    "fig = plt.figure()\n",
    "ax = fig.add_subplot(1, 2, 1)\n",
    "imgplot = plt.imshow(background)\n",
    "ax = fig.add_subplot(1, 2, 2)\n",
    "imgplot = plt.imshow(image)"
   ]
  }
 ],
 "metadata": {
  "interpreter": {
   "hash": "916dbcbb3f70747c44a77c7bcd40155683ae19c65e1c03b4aa3499c5328201f1"
  },
  "kernelspec": {
   "display_name": "Python 3",
   "language": "python",
   "name": "python3"
  },
  "language_info": {
   "codemirror_mode": {
    "name": "ipython",
    "version": 3
   },
   "file_extension": ".py",
   "mimetype": "text/x-python",
   "name": "python",
   "nbconvert_exporter": "python",
   "pygments_lexer": "ipython3",
   "version": "3.9.4"
  }
 },
 "nbformat": 4,
 "nbformat_minor": 5
}
