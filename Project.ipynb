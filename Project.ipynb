{
 "cells": [
  {
   "cell_type": "code",
   "execution_count": 1,
   "source": [
    "import numpy as np\n",
    "import matplotlib.pyplot as plt\n",
    "import itertools #used to generate subsets\n",
    "import networkx as nx #easy to check for connectivity\n",
    "from scipy.ndimage import gaussian_filter\n",
    "from skimage.segmentation import watershed\n",
    "from skimage.future.graph import RAG\n",
    "from sknetwork.path import distance\n",
    "from skimage import util\n",
    "\n",
    "# import sknetwork as skn\n",
    "# from scipy import sparse\n"
   ],
   "outputs": [],
   "metadata": {}
  },
  {
   "cell_type": "code",
   "execution_count": 2,
   "source": [
    "#get image and define the image space\n",
    "image = plt.imread('images/dna-images/gnf/dna-0.png')[...,0]\n",
    "image_range = np.array([[i,j]for i in range(image.shape[0]) for j in range(image.shape[1])])"
   ],
   "outputs": [],
   "metadata": {}
  },
  {
   "cell_type": "code",
   "execution_count": 3,
   "source": [
    "#To be removed\n",
    "'''\n",
    "def B_delta(p,delta): #rename suggestion: delta ball\n",
    "    B = np.empty_like([p])\n",
    "    for q in image_range:\n",
    "        if sum(abs(p-q)) <= delta:\n",
    "            B = np.append(B,[q],axis=0)\n",
    "    return B\n",
    "'''"
   ],
   "outputs": [
    {
     "output_type": "execute_result",
     "data": {
      "text/plain": [
       "'\\ndef B_delta(p,delta): #rename suggestion: delta ball\\n    B = np.empty_like([p])\\n    for q in image_range:\\n        if sum(abs(p-q)) <= delta:\\n            B = np.append(B,[q],axis=0)\\n    return B\\n'"
      ]
     },
     "metadata": {},
     "execution_count": 3
    }
   ],
   "metadata": {}
  },
  {
   "cell_type": "markdown",
   "source": [
    "## Algorithm I"
   ],
   "metadata": {}
  },
  {
   "cell_type": "markdown",
   "source": [
    "### TODO"
   ],
   "metadata": {}
  },
  {
   "cell_type": "markdown",
   "source": [
    "- Alg I takes too long for graph > 10 nodes. Suggestions:\n",
    "    - remove all subgraphs that were already added to the list : DONE\n",
    "    - problem traced back to GenerateConnectedSubgraphs. \n",
    "        - Is there a more efficent way than itertools?\n",
    "        - nx.is_connected takes very long."
   ],
   "metadata": {}
  },
  {
   "cell_type": "code",
   "execution_count": 4,
   "source": [
    "def generate_connected_subgraphs(G):\n",
    "    dim = nx.number_of_nodes(G)\n",
    "    vertices = range(dim)\n",
    "    S = []\n",
    "\n",
    "    for length in range(1,dim+1):\n",
    "        for subs in list(itertools.combinations(vertices, length)):\n",
    "            H = nx.induced_subgraph(G, subs)\n",
    "            if len(subs) == 1:\n",
    "                S.append(H)\n",
    "            elif nx.is_connected(H):\n",
    "                S.append(H)\n",
    "    return S"
   ],
   "outputs": [],
   "metadata": {}
  },
  {
   "cell_type": "code",
   "execution_count": 54,
   "source": [
    "def generate_fragments(img,std_dev,int_threshold,min_seed_dist,max_search_depth,max_frag_dist):\n",
    "    #smooth image with gausian filter\n",
    "    g = gaussian_filter(img,std_dev)\n",
    "    #create empty copy of g to fill watersheed markers\n",
    "    g_markers = np.zeros_like(g)\n",
    "    #create empty copy of g to check for localmax\n",
    "    g_checked = np.copy(g)\n",
    "    \n",
    "    #Fehlerabfangen\n",
    "    \n",
    "    if std_dev < 0:\n",
    "        raise ValueError(\"smoothing strength needs to be positive\")\n",
    "    if int_threshold > 1 or int_threshold < 0:\n",
    "        raise ValueError(\"relative intensity threshold needs to be between 0 and 1\")\n",
    "    if min_seed_dist < 1:\n",
    "        raise ValueError(\"min seed distance needs to be >= 1\")\n",
    "    if max_search_depth < 0:\n",
    "        raise ValueError(\"maximum search error needs to be positive\")\n",
    "    if max_frag_dist < 0:\n",
    "        raise ValueError(\"maximum fragments distance needs zo be positive\")\n",
    "        \n",
    "    #Create array of watershed seeds\n",
    "    PI = []\n",
    "    #Loop while there are still unchecked regions\n",
    "    while np.amax(g_checked) != 0:\n",
    "        #Get indicies of g where g is maximal\n",
    "        glob_max = np.argwhere(g_checked == g_checked.max())\n",
    "        #Loop over all maximum points\n",
    "        for p in glob_max:\n",
    "            #Set boundaries for the local ball B\n",
    "            upper_bound = [max(0,p[0]-min_seed_dist),max(0,p[1]-min_seed_dist)]\n",
    "            lower_bound = [min(p[0]+min_seed_dist+1,g.shape[0]),min(p[1]+min_seed_dist+1,g.shape[1])]\n",
    "            #Create set with local points around p\n",
    "            B = g[upper_bound[0]:lower_bound[0],upper_bound[1]:lower_bound[1]]\n",
    "            #Check if p is strong local maximum\n",
    "            if (g[tuple(p)] == np.amax(B) and (1-int_threshold)*g[tuple(p)] >= np.amin(B)): \n",
    "                #add p to the set of seeds\n",
    "                PI.append(p)\n",
    "                #Set label of the seed\n",
    "                g_markers[tuple(p)] = len(PI)\n",
    "            #Set the Area B = 0\n",
    "            g_checked[upper_bound[0]:lower_bound[0],upper_bound[1]:lower_bound[1]] = 0\n",
    "    \n",
    "    #Create Watershed regions\n",
    "    Omega = watershed(util.invert(g),markers=g_markers)\n",
    "    \n",
    "    #To be removed\n",
    "    '''\n",
    "    #Create array of watershed regions\n",
    "    Omega_ind = []\n",
    "    #loop over all labels\n",
    "    for label in range(1,len(PI)+1):\n",
    "        #Create array of the indices of this label\n",
    "        w = np.argwhere(Omega==label) \n",
    "        #Add the array of indices to Omega_ind\n",
    "        Omega_ind.append(w)\n",
    "    \n",
    "    #Loop over number of all regions except the last\n",
    "    for i in range(len(Omega)-1):\n",
    "        #Loop over number of not used regions\n",
    "        for j in range(i+1, len(Omega)):\n",
    "            #local intensity peaks r(w)??\n",
    "            if not sum(abs(PI[i] - PI[j])) <= max_frag_dist:\n",
    "                Epsilon[i,j] = 0\n",
    "                Epsilon[j,i] = 0   \n",
    "    '''\n",
    "\n",
    "    #Create connectivity matrix\n",
    "    Epsilon = RAG(Omega,connectivity=2)\n",
    "\n",
    "    S = []\n",
    "    subgraphs_set = generate_connected_subgraphs(Epsilon)\n",
    "    #iterate over all graph vertices\n",
    "    for H in subgraphs_set:\n",
    "        for v in nx.nodes(H):\n",
    "            if max(nx.single_source_shortest_path_length(H, v).values()) <= max_search_depth:\n",
    "                Nodes = tuple([w for w in nx.nodes(H)])\n",
    "                S.append(Nodes)\n",
    "                break\n",
    "    S = np.array([set(x)] for x in S)\n",
    "\n",
    "    return Omega,S"
   ],
   "outputs": [],
   "metadata": {}
  },
  {
   "cell_type": "markdown",
   "source": [
    "###  Test: Algorithm I"
   ],
   "metadata": {}
  },
  {
   "cell_type": "code",
   "execution_count": 10,
   "source": [
    "adjacency = np.array([[0, 1, 1, 0], [1, 0, 1, 1], [1, 1, 0, 0], [0, 1, 0, 0]])\n",
    "G = nx.Graph(adjacency)\n",
    "nx.draw(G)"
   ],
   "outputs": [
    {
     "output_type": "display_data",
     "data": {
      "image/png": "[encoded data removed]",
      "text/plain": [
       "<Figure size 432x288 with 1 Axes>"
      ]
     },
     "metadata": {}
    }
   ],
   "metadata": {}
  },
  {
   "cell_type": "code",
   "execution_count": 110,
   "source": [
    "#testing ALg I\n",
    "Omega,S = generate_fragments(image,1,0.1,190,1,1)\n",
    "plt.imshow(Omega)\n",
    "plt.show()\n",
    "\n",
    "#to use when c = Epsilon\n",
    "#nx.draw(c)\n",
    "#nx.number_of_nodes(c)\n",
    "#print(c)\n",
    "#won't print c, idk why"
   ],
   "outputs": [
    {
     "output_type": "display_data",
     "data": {
      "image/png": "[encoded data removed]",
      "text/plain": [
       "<Figure size 432x288 with 1 Axes>"
      ]
     },
     "metadata": {
      "needs_background": "light"
     }
    }
   ],
   "metadata": {}
  },
  {
   "cell_type": "code",
   "execution_count": null,
   "source": [
    "adjacency = np.array([[0, 1, 1, 0], [1, 0, 1, 1], [1, 1, 0, 0], [0, 1, 0, 0]])\n",
    "G = nx.Graph(adjacency)\n",
    "S = set()\n",
    "subgraphs_set = generate_connected_subgraphs(G)\n",
    "#iterate over all graph vertices\n",
    "for H in subgraphs_set:\n",
    "    #find all subgraphs that have i as a node\n",
    "    for v in nx.nodes(H):\n",
    "        if max(nx.single_source_shortest_path_length(H, v).values()) <= 3:\n",
    "            Nodes = tuple([w for w in nx.nodes(H)])\n",
    "            S.add(Nodes)\n",
    "            break \n",
    "S = [set(x) for x in S]\n",
    "S"
   ],
   "outputs": [
    {
     "output_type": "execute_result",
     "data": {
      "text/plain": [
       "[{0, 1},\n",
       " {1, 3},\n",
       " {2},\n",
       " {1, 2},\n",
       " {0, 1, 2},\n",
       " {0, 1, 3},\n",
       " {1, 2, 3},\n",
       " {1},\n",
       " {0, 2},\n",
       " {0, 1, 2, 3},\n",
       " {0},\n",
       " {3}]"
      ]
     },
     "metadata": {},
     "execution_count": 15
    }
   ],
   "metadata": {}
  },
  {
   "cell_type": "markdown",
   "source": [
    "### Algorithm II"
   ],
   "metadata": {}
  },
  {
   "cell_type": "code",
   "execution_count": 111,
   "source": [
    "def global_solution(f,alpha,Omega,S):\n",
    "    #Set Variables we dont need Z but f_used\n",
    "    n = len(S) \n",
    "    u = np.zeros(n)\n",
    "    V = Omega\n",
    "    f_used = np.copy(f)\n",
    "    #First Loop over copy of Omega\n",
    "    while V != 0:\n",
    "        c = np.empty(n)\n",
    "        #Loop over number of Subgraphs in S\n",
    "        for k in range(n):\n",
    "            #Set intersection length\n",
    "            Zk_V = len(np.intersect1d(Omega,np.array(list(S[k]))))\n",
    "            #Set c if intersection is non empty \n",
    "            if  Zk_V !=0:\n",
    "                c[k] = (f[k] + alpha) / Zk_V\n",
    "            #Else set it to nan to ignore it\n",
    "            else:\n",
    "                c[k] = np.nan\n",
    "        #Get the argmin of c\n",
    "        k_min = np.nanargmin(c)\n",
    "        #Set u of argmin to 1\n",
    "        u[k_min] = 1 \n",
    "        #Loop over all areas in Z_k\n",
    "        for w in S[k]:\n",
    "            #Set V of those areas to 0 to indicate that they have been used already\n",
    "            V[V==w] = 0\n",
    "    \n",
    "    #Second loop over not used elements of f\n",
    "    while f_used != np.empty(n):\n",
    "        #Set current element of interest k_prim\n",
    "        k_prim = np.nanargmin(f_used)\n",
    "        #check if u[_k_prim hasn been used in first loop\n",
    "        if u[k_prim]==0:\n",
    "            #crate subvector v of u\n",
    "            v = np.copy(u)\n",
    "            #loop over all elements of u that are non zero\n",
    "            for ind in np.nonzero(u):\n",
    "                #check if Z_ind is subset of Z_kprim\n",
    "                if S[ind] not in S[k_prim]:\n",
    "                    #if not set v to 0 to ignore it in the union\n",
    "                    v[ind] = 0\n",
    "            #check if union of all left subsets is equal Z_kprim\n",
    "            if S[k_prim] == set().union(S[k] for k in np.nonzero(v)):\n",
    "                #check smth...\n",
    "                if f[k_prim]+alpha < np.dot(v,f + (alpha*np.ones(n))):\n",
    "                    #Set u values of the used subsets to 0 and the union to 1\n",
    "                    u = u-v\n",
    "                    u[k_prim] = 1\n",
    "        #make f equal to nan for the used region\n",
    "        f_used[k_prim]=np.nan\n",
    "    return u"
   ],
   "outputs": [],
   "metadata": {}
  },
  {
   "cell_type": "code",
   "execution_count": 109,
   "source": [
    "def Otsu_thresholding(Z):\n",
    "    L = 256\n",
    "    N = Z.size\n",
    "    hist, _ = np.histogram(Z,bins=L)\n",
    "    hist = hist/N\n",
    "    def get_sigma(k):\n",
    "        w = sum(hist[:k+1])\n",
    "        w_0 = w\n",
    "        w_1 = 1 - w\n",
    "        if w_0*w_1 > 0 or 0 < w_0 < 1:\n",
    "            my = lambda k: sum(i*hist[i] for i in range(k+1))\n",
    "            my_0 = my(k)/w\n",
    "            my_1 = (my(L-1)-my(k))/w_1\n",
    "            sigma_B = w_0*w_1*(my_1-my_0)**2\n",
    "            return sigma_B\n",
    "        else:\n",
    "            return 0\n",
    "    sigma_B_all = np.array([get_sigma(k) for k in range(L)])\n",
    "    k_max = np.argmax(sigma_B_all)\n",
    "    tau = k_max*np.max(Z)/(256)\n",
    "    return tau\n",
    "\n",
    "labels = np.unique(Omega)\n",
    "tau = [Otsu_thresholding(image[Omega==label])for label in labels]\n",
    "background = np.copy(image)\n",
    "for i in range(len(tau)):\n",
    "    background[np.multiply(Omega==i+1,background < tau[i])] = 0\n",
    "    background[np.multiply(Omega==i+1,background >= tau[i])] = 1\n",
    "plt.imshow(background)\n",
    "plt.show()\n",
    "\n",
    "#TODO Compute f --> get alpha as median of f"
   ],
   "outputs": [
    {
     "output_type": "display_data",
     "data": {
      "image/png": "[encoded data removed]",
      "text/plain": [
       "<Figure size 432x288 with 1 Axes>"
      ]
     },
     "metadata": {
      "needs_background": "light"
     }
    }
   ],
   "metadata": {}
  }
 ],
 "metadata": {
  "interpreter": {
   "hash": "916dbcbb3f70747c44a77c7bcd40155683ae19c65e1c03b4aa3499c5328201f1"
  },
  "kernelspec": {
   "name": "python3",
   "display_name": "Python 3.8.10 64-bit"
  },
  "language_info": {
   "name": "python",
   "version": "3.8.10",
   "mimetype": "text/x-python",
   "codemirror_mode": {
    "name": "ipython",
    "version": 3
   },
   "pygments_lexer": "ipython3",
   "nbconvert_exporter": "python",
   "file_extension": ".py"
  }
 },
 "nbformat": 4,
 "nbformat_minor": 5
}