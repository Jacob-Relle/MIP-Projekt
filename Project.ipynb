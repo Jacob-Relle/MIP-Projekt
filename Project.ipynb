{
 "cells": [
  {
   "cell_type": "code",
   "execution_count": 1,
   "id": "4d225882",
   "metadata": {},
   "outputs": [],
   "source": [
    "import numpy as np\n",
    "import matplotlib.pyplot as plt\n",
    "import itertools\n",
    "import networkx as nx \n",
    "import multiprocessing as mp\n",
    "\n",
    "\n",
    "from scipy.ndimage import gaussian_filter\n",
    "\n",
    "from skimage.segmentation import watershed\n",
    "from skimage.morphology import disk\n",
    "from skimage import img_as_ubyte\n",
    "from skimage.measure import label, regionprops, euler_number\n",
    "from skimage.future.graph import RAG\n",
    "from sknetwork.path import distance\n",
    "from skimage import util\n",
    "from skimage import filters\n",
    "\n",
    "from tqdm import tqdm\n",
    "\n",
    "from cvxopt import solvers, matrix, div, log, exp, mul"
   ]
  },
  {
   "cell_type": "code",
   "execution_count": 2,
   "id": "5e98b298",
   "metadata": {},
   "outputs": [],
   "source": [
    "#get image and define the image space\n",
    "image = plt.imread('../images/dna-images/gnf/dna-1.png')[...,0]"
   ]
  },
  {
   "cell_type": "markdown",
   "id": "ffbd215c",
   "metadata": {},
   "source": [
    "## Algorithm I"
   ]
  },
  {
   "cell_type": "code",
   "execution_count": 3,
   "id": "99d6506f",
   "metadata": {},
   "outputs": [],
   "source": [
    "def generate_fragments(img,std_dev,int_threshold,min_seed_dist,max_search_depth,max_frag_dist):\n",
    "    img = img_as_ubyte(img)\n",
    "    #smooth image with gausian filter\n",
    "    g = gaussian_filter(img,std_dev)\n",
    "    #flatten the lower 50 percentile of the gaussian filter to 0 (for background)\n",
    "    g[g < np.percentile(g, 50)] = 0\n",
    "    \n",
    "    #Fehlerabfangen\n",
    "    if std_dev < 0:\n",
    "        raise ValueError(\"smoothing strength needs to be positive\")\n",
    "    if int_threshold > 1 or int_threshold < 0:\n",
    "        raise ValueError(\"relative intensity threshold needs to be between 0 and 1\")\n",
    "    if min_seed_dist < 1:\n",
    "        raise ValueError(\"min seed distance needs to be >= 1\")\n",
    "    if max_search_depth < 0:\n",
    "        raise ValueError(\"maximum search error needs to be positive\")\n",
    "    if max_frag_dist < 0:\n",
    "        raise ValueError(\"maximum fragments distance needs zo be positive\")\n",
    "        \n",
    "    #Create Delta Ball\n",
    "    B = disk(min_seed_dist)\n",
    "    #Set the markers in the Image according to the formula (P is an image)\n",
    "    P = (g==filters.rank.maximum(g,B)) & ((1-int_threshold)*g >= filters.rank.minimum(g,B))\n",
    "    #Fuse adjacient markers and label each group of markers\n",
    "    g_markers = label(P)\n",
    "    #Get the regions of the markers to access centroid later\n",
    "    PI = regionprops(g_markers)\n",
    "\n",
    "    #Create Watershed regions\n",
    "    Omega = watershed(util.invert(g),markers=g_markers)\n",
    "    #Create the adjacency graph of the labeled image\n",
    "    G = RAG(Omega,connectivity=2)\n",
    "\n",
    "    #Remove edges if centroids are to far away\n",
    "    for edge in G.edges():\n",
    "        if np.linalg.norm(np.array(PI[edge[0]-1].centroid) - np.array(PI[edge[1]-1].centroid)) > max_frag_dist:\n",
    "            G.remove_edge(edge[0],edge[1])\n",
    "\n",
    "    S = set()\n",
    "    #iterate over all conected components (cc)\n",
    "    for nodes_in_cc in nx.algorithms.connectivity.edge_kcomponents.k_edge_subgraphs(G,1):\n",
    "        #Set the subgraph of curent cc\n",
    "        H = G.subgraph(nodes_in_cc)\n",
    "        #Loop over the nodes of the subgraph\n",
    "        for v in tqdm(nodes_in_cc):\n",
    "            #Add the isolated region of the curent node\n",
    "            if euler_number(Omega == v) == 1:\n",
    "                S.add(frozenset([v]))\n",
    "            #Loop over the distance from the curent node within the graph\n",
    "            for distance in range(1,max_search_depth+1):\n",
    "                #Get a dictonary containg the distance from curent node\n",
    "                distance_from_origin = nx.single_source_shortest_path_length(H, v,cutoff=distance)\n",
    "                #Loop over the amount of nodes\n",
    "                for node_amount in range(distance,len(distance_from_origin.values())):\n",
    "                    #Loop over all subsets of nodes that contain v and contain node_amount of nodes\n",
    "                    for node_subset in itertools.combinations([node for node in distance_from_origin.keys()], node_amount):\n",
    "                        node_subset = set([v]).union(set(node_subset))\n",
    "                        #Check other requirments and add the node set to S if they are fullfilled\n",
    "                        if frozenset(node_subset) not in S:\n",
    "                            if nx.is_connected(H.subgraph(node_subset)):\n",
    "                                #check that the merge of the regions is simply connected\n",
    "                                sub_img = np.zeros_like(Omega, dtype = bool)\n",
    "                                for region_label in node_subset:\n",
    "                                    sub_img += Omega == region_label\n",
    "                                if euler_number(sub_img) == 1:\n",
    "                                     S.add(frozenset(node_subset))\n",
    "\n",
    "    return Omega,S"
   ]
  },
  {
   "cell_type": "markdown",
   "id": "085999d4",
   "metadata": {},
   "source": [
    "###  Test: Algorithm I"
   ]
  },
  {
   "cell_type": "code",
   "execution_count": 4,
   "id": "ba307b12",
   "metadata": {
    "scrolled": true
   },
   "outputs": [
    {
     "name": "stderr",
     "output_type": "stream",
     "text": [
      "100%|████████████████████████████████████████████████████████████████████████████████████| 1/1 [00:00<00:00, 20.43it/s]\n",
      "100%|████████████████████████████████████████████████████████████████████████████████████| 4/4 [00:00<00:00,  8.79it/s]\n",
      "100%|████████████████████████████████████████████████████████████████████████████████████| 1/1 [00:00<00:00, 17.84it/s]\n",
      "100%|████████████████████████████████████████████████████████████████████████████████████| 1/1 [00:00<00:00, 17.84it/s]\n",
      "100%|████████████████████████████████████████████████████████████████████████████████████| 1/1 [00:00<00:00, 19.75it/s]\n",
      "100%|████████████████████████████████████████████████████████████████████████████████████| 7/7 [00:02<00:00,  3.39it/s]\n",
      "100%|████████████████████████████████████████████████████████████████████████████████████| 1/1 [00:00<00:00, 20.83it/s]\n",
      "100%|████████████████████████████████████████████████████████████████████████████████████| 1/1 [00:00<00:00, 17.85it/s]\n",
      "100%|████████████████████████████████████████████████████████████████████████████████████| 1/1 [00:00<00:00, 21.96it/s]\n",
      "100%|████████████████████████████████████████████████████████████████████████████████████| 1/1 [00:00<00:00, 20.81it/s]\n",
      "100%|████████████████████████████████████████████████████████████████████████████████████| 1/1 [00:00<00:00, 20.85it/s]\n",
      "100%|████████████████████████████████████████████████████████████████████████████████████| 1/1 [00:00<00:00, 20.83it/s]\n",
      "100%|████████████████████████████████████████████████████████████████████████████████████| 2/2 [00:00<00:00, 12.88it/s]\n",
      "100%|████████████████████████████████████████████████████████████████████████████████████| 1/1 [00:00<00:00, 17.85it/s]\n",
      "100%|████████████████████████████████████████████████████████████████████████████████████| 1/1 [00:00<00:00, 25.00it/s]\n",
      "100%|████████████████████████████████████████████████████████████████████████████████████| 1/1 [00:00<00:00, 17.84it/s]\n",
      "100%|████████████████████████████████████████████████████████████████████████████████████| 2/2 [00:00<00:00, 11.95it/s]\n",
      "100%|████████████████████████████████████████████████████████████████████████████████████| 3/3 [00:00<00:00, 10.87it/s]\n",
      "100%|████████████████████████████████████████████████████████████████████████████████████| 1/1 [00:00<00:00, 21.72it/s]\n",
      "100%|████████████████████████████████████████████████████████████████████████████████████| 1/1 [00:00<00:00, 21.66it/s]\n",
      "100%|████████████████████████████████████████████████████████████████████████████████████| 1/1 [00:00<00:00, 15.66it/s]\n",
      "100%|████████████████████████████████████████████████████████████████████████████████████| 2/2 [00:00<00:00, 15.23it/s]\n",
      "100%|████████████████████████████████████████████████████████████████████████████████████| 1/1 [00:00<00:00, 25.00it/s]\n",
      "100%|████████████████████████████████████████████████████████████████████████████████████| 1/1 [00:00<00:00, 22.04it/s]\n",
      "100%|████████████████████████████████████████████████████████████████████████████████████| 3/3 [00:00<00:00,  8.57it/s]\n",
      "100%|████████████████████████████████████████████████████████████████████████████████████| 1/1 [00:00<00:00, 22.07it/s]\n",
      "100%|████████████████████████████████████████████████████████████████████████████████████| 1/1 [00:00<00:00, 17.86it/s]\n",
      "100%|████████████████████████████████████████████████████████████████████████████████████| 5/5 [00:00<00:00,  5.97it/s]\n",
      "100%|████████████████████████████████████████████████████████████████████████████████████| 1/1 [00:00<00:00, 18.04it/s]\n",
      "100%|████████████████████████████████████████████████████████████████████████████████████| 6/6 [00:01<00:00,  3.38it/s]\n",
      "100%|████████████████████████████████████████████████████████████████████████████████████| 4/4 [00:00<00:00,  6.33it/s]\n",
      "100%|████████████████████████████████████████████████████████████████████████████████████| 1/1 [00:00<00:00, 17.85it/s]\n",
      "100%|████████████████████████████████████████████████████████████████████████████████████| 1/1 [00:00<00:00, 20.83it/s]\n",
      "100%|████████████████████████████████████████████████████████████████████████████████████| 1/1 [00:00<00:00, 22.72it/s]\n",
      "100%|████████████████████████████████████████████████████████████████████████████████████| 1/1 [00:00<00:00, 20.82it/s]\n",
      "100%|████████████████████████████████████████████████████████████████████████████████████| 1/1 [00:00<00:00, 20.82it/s]\n",
      "100%|████████████████████████████████████████████████████████████████████████████████████| 2/2 [00:00<00:00, 13.34it/s]\n",
      "100%|████████████████████████████████████████████████████████████████████████████████████| 2/2 [00:00<00:00, 14.71it/s]\n",
      "100%|████████████████████████████████████████████████████████████████████████████████████| 1/1 [00:00<00:00, 20.82it/s]\n",
      "100%|████████████████████████████████████████████████████████████████████████████████████| 1/1 [00:00<00:00, 20.85it/s]\n",
      "100%|████████████████████████████████████████████████████████████████████████████████████| 1/1 [00:00<00:00, 17.86it/s]\n"
     ]
    }
   ],
   "source": [
    "#testing Alg I\n",
    "Omega,S = generate_fragments(image,16,0.01,20,2,100)"
   ]
  },
  {
   "cell_type": "code",
   "execution_count": 5,
   "id": "80ae31b4",
   "metadata": {},
   "outputs": [
    {
     "data": {
      "image/png": "[encoded data removed]",
      "text/plain": [
       "<Figure size 432x288 with 2 Axes>"
      ]
     },
     "metadata": {
      "needs_background": "light"
     },
     "output_type": "display_data"
    }
   ],
   "source": [
    "fig = plt.figure()\n",
    "ax = fig.add_subplot(2, 1, 1)\n",
    "imgplot = plt.imshow(Omega)\n",
    "ax = fig.add_subplot(2, 1, 2)\n",
    "imgplot = plt.imshow(image)"
   ]
  },
  {
   "cell_type": "code",
   "execution_count": 6,
   "id": "15103954",
   "metadata": {},
   "outputs": [
    {
     "name": "stdout",
     "output_type": "stream",
     "text": [
      "{frozenset({17, 10, 11, 14}), frozenset({2, 3}), frozenset({17, 18, 11, 14}), frozenset({32}), frozenset({49}), frozenset({17, 10, 14}), frozenset({56, 57, 58, 54}), frozenset({59, 52, 53, 55}), frozenset({10}), frozenset({59, 55}), frozenset({18}), frozenset({67, 68}), frozenset({9, 2}), frozenset({9, 2, 3, 4}), frozenset({3, 4}), frozenset({18, 11, 14}), frozenset({10, 11, 14}), frozenset({23}), frozenset({33}), frozenset({24}), frozenset({33, 28, 36}), frozenset({17, 20, 14}), frozenset({17, 19, 20, 10, 14}), frozenset({56, 49, 58, 57}), frozenset({17, 10, 19, 14}), frozenset({17, 18, 19, 20, 11, 14}), frozenset({11, 14}), frozenset({16}), frozenset({56, 49, 54, 57}), frozenset({58}), frozenset({17, 19, 20}), frozenset({54}), frozenset({44}), frozenset({47}), frozenset({68}), frozenset({37}), frozenset({46}), frozenset({49, 54, 56, 57, 58, 47}), frozenset({56, 54}), frozenset({40, 39}), frozenset({50, 44, 45, 60}), frozenset({17, 18, 19, 10, 11, 14}), frozenset({2}), frozenset({34}), frozenset({17, 18, 19, 20, 10, 11, 14}), frozenset({17, 19}), frozenset({49, 47}), frozenset({64}), frozenset({3}), frozenset({56, 49, 54}), frozenset({17, 19, 20, 11, 14}), frozenset({50, 44}), frozenset({2, 3, 4}), frozenset({52, 53}), frozenset({17, 19, 10, 11, 14}), frozenset({17, 18, 19, 11, 14}), frozenset({66}), frozenset({25}), frozenset({33, 28}), frozenset({10, 11}), frozenset({56, 49, 54, 47}), frozenset({17, 18, 10, 11, 14}), frozenset({9, 2, 3}), frozenset({40, 42}), frozenset({40, 42, 39}), frozenset({59, 52, 53}), frozenset({13}), frozenset({17, 14}), frozenset({22}), frozenset({49, 54, 57, 58, 47}), frozenset({48, 44, 45}), frozenset({17, 19, 20, 14}), frozenset({49, 56, 57, 58, 47}), frozenset({53}), frozenset({26}), frozenset({51}), frozenset({63}), frozenset({60}), frozenset({5}), frozenset({15}), frozenset({12}), frozenset({59, 52}), frozenset({44, 45}), frozenset({50}), frozenset({20}), frozenset({49, 54}), frozenset({17, 11, 20, 14}), frozenset({34, 35}), frozenset({49, 54, 56, 57, 58}), frozenset({62}), frozenset({57, 54}), frozenset({50, 60}), frozenset({52}), frozenset({56}), frozenset({43}), frozenset({1}), frozenset({26, 31}), frozenset({17, 19, 14}), frozenset({39}), frozenset({71}), frozenset({27, 22}), frozenset({11, 10, 18, 14}), frozenset({69}), frozenset({31}), frozenset({41}), frozenset({61}), frozenset({48}), frozenset({17}), frozenset({67}), frozenset({53, 55}), frozenset({48, 44}), frozenset({49, 58, 57}), frozenset({17, 18, 20, 10, 11, 14}), frozenset({59, 52, 55}), frozenset({70}), frozenset({17, 11, 14}), frozenset({59}), frozenset({19, 20}), frozenset({33, 36}), frozenset({56, 49, 57}), frozenset({38}), frozenset({49, 54, 57}), frozenset({50, 44, 45}), frozenset({18, 11}), frozenset({48, 50, 44, 60}), frozenset({17, 19, 20, 10, 11, 14}), frozenset({49, 58, 54, 57}), frozenset({65}), frozenset({6}), frozenset({17, 20}), frozenset({66, 69}), frozenset({35}), frozenset({57, 58}), frozenset({59, 53, 55}), frozenset({49, 57, 54, 47}), frozenset({40}), frozenset({52, 55}), frozenset({48, 50, 44, 45}), frozenset({56, 49, 47, 57}), frozenset({56, 57, 58}), frozenset({28}), frozenset({57}), frozenset({36}), frozenset({17, 20, 10, 11, 14}), frozenset({30}), frozenset({17, 18, 20, 11, 14}), frozenset({57, 58, 54}), frozenset({49, 57, 47}), frozenset({14}), frozenset({27}), frozenset({17, 10, 20, 14}), frozenset({8}), frozenset({52, 53, 55}), frozenset({49, 57}), frozenset({45}), frozenset({11, 10, 18}), frozenset({49, 54, 47}), frozenset({11}), frozenset({9}), frozenset({48, 50, 44, 45, 60}), frozenset({56, 57}), frozenset({42, 39}), frozenset({55}), frozenset({42}), frozenset({48, 45}), frozenset({4}), frozenset({56, 57, 54}), frozenset({11, 17, 19, 14}), frozenset({49, 54, 56, 57, 47}), frozenset({7}), frozenset({10, 14}), frozenset({48, 50, 44}), frozenset({29}), frozenset({50, 44, 60}), frozenset({49, 58, 47, 57}), frozenset({19}), frozenset({21})}\n"
     ]
    }
   ],
   "source": [
    "print(S)"
   ]
  },
  {
   "cell_type": "code",
   "execution_count": 7,
   "id": "303ea7a3",
   "metadata": {},
   "outputs": [
    {
     "data": {
      "text/plain": [
       "177"
      ]
     },
     "execution_count": 7,
     "metadata": {},
     "output_type": "execute_result"
    }
   ],
   "source": [
    "len(S)"
   ]
  },
  {
   "cell_type": "markdown",
   "id": "cacf6cb1",
   "metadata": {},
   "source": [
    "## Computation of f"
   ]
  },
  {
   "cell_type": "markdown",
   "id": "f99da704",
   "metadata": {},
   "source": [
    "We use a second-order solver for non-linear unconstrained convex problem. To do so, we define $\\theta^T = [a_1, a_2, a_3, b_1, b_2, c]$ and as such define for a pixel $x \\in R$ (R = region.coords) $\\subset \\mathbb{R}^2$ \n",
    "$$\\begin{align*}\n",
    "s(x, \\theta) &= x^T \\begin{pmatrix} a_1 & a_3 \\\\ a_3 & a_2 \\end{pmatrix} x + \\begin{pmatrix} b_1, b_2 \\end{pmatrix} \\begin{pmatrix} x_1 \\\\ x_2 \\end{pmatrix} + c \\\\\n",
    "&= x^T \\begin{pmatrix} \\theta[0] & \\theta[2] \\\\ \\theta[2] & \\theta[1] \\end{pmatrix} x + \\begin{pmatrix} \\theta[3], \\theta[4] \\end{pmatrix} \\begin{pmatrix} x_1 \\\\ x_2 \\end{pmatrix} + \\theta[5] \\\\\n",
    "&= a_1 x_1^2 + a_2x_2^2 + 2a_3x_1x_2 + b_1x_1 + b_2x_2 + c \\\\\n",
    "&= \\nabla^T s(x) * \\theta \n",
    "\\end{align*}$$\n",
    "for $\\nabla^T s(x) = [x_1^2, x_2^2, 2x_1x_2, x_1, x_2, 1]$\n",
    "\n",
    "The following is a brief explanation of the used data structures and especially their dimensions to help the reader better undertstand the function J_energy:\n",
    "\n",
    "- y has size region.area x 1. Each element corresponds to $g(x) - \\tau$ for $x$ two-dim coordinates of a pixel in region.\n",
    "- delta_s is a region.area x 6 matrix. Each row corresponds to $\\nabla^T s(x)$ for $x$ two-dim coordinates of a pixel in region.\n",
    "$$\\text{delta_s} = \\begin{pmatrix} \\nabla^T s(x_0) \\\\ \\nabla^T s(x_1) \\\\ ... \\\\ \\nabla^T s(x_{region.area}) \\end{pmatrix}$$\n",
    "- s is a [region.area x 1] matrix. Each row corresponds to the inner product $s(x, \\theta) = \\nabla^T s(x) * \\theta$ for $x$ two-dim coordinates of a pixel in region.\n",
    "- phi is a [region.area x 1] matrix. Each row corresponds to the evaluation of the function $\\phi(y, s(x, \\theta)) = \\log(1+\\exp(-y(x)*s(x, \\theta))).$ Here we remark that the functions MULT, EXP and LOG operate on matricies element-wise.\n",
    "- J is the sum of the vector phi, and as such corresponds to $J(\\theta) = \\sum_{x \\in R} \\phi(y_x; s(x, \\theta))$ and is a scalar.\n",
    "\n",
    "We move on to the definition of the Jacobian of J. To that end we define:\n",
    "- kappa, matrix of size [region.area x 1]. Each row corresponds to $\\kappa_{x, \\theta} = \\frac{1}{1 + \\exp(y_x s(x; \\theta))}$ for $x$ two-dim coordinates of a pixel in region.\n",
    "- DJ, the Jacobian of J, matrix of size [6x1]. It is constructed as follows:\n",
    "    - We multiply y and kappa element-wise. \n",
    "    - To this vector we multiply a [1x6] one-vector. This gives us a [region.area x 6] matrix, where each row is identical to y*kappa.\n",
    "    - This Matrix we inturn multiply element-wise with delta_s. As such we obtain a [region.area x 6] matrix, where each row consists of the vector $y_x * \\kappa_{x, \\theta} * \\nabla^T s(x)$ for $x$ two-dim coordinates of a pixel in region. \n",
    "    - as I found no function to only sum over rows, we multiply the last matrix from the right with the [1xregion.area] vector, which acts as a row-sum operator.\n",
    "    \n",
    "We move on to the Definition of the Hessian Matrix. To that end, we define:\n",
    "- nu, matrix of size [region.area x 1], as the element-wise multiplication of y^2 * (kappa - kappa^2).\n",
    "- eta, matrix of size [region.area x 6 X 6] (interpreted as a matrix of size [(region.area * 6) x 6] as matrix only accepts one- or two-dim arrays), each 6x6 matrix is the outer product of $\\nabla ^T s(x)$ and $\\nabla s(x)$ multiplied with the corresponding scalar $\\nu_x$ for $x$ two-dim coordinates of a pixel in region.\n",
    "- SumMatrix, a [(region.area*6) x 6] matrix, pasting the 6-Identitymatrix region.area-times under each other. When multiplied to the left of a eta, it acts as a sum operator for region.area many 6x6 matricies."
   ]
  },
  {
   "cell_type": "code",
   "execution_count": 8,
   "id": "c1b31603",
   "metadata": {},
   "outputs": [],
   "source": [
    "def J_energy(Omega, image, regions):\n",
    "    \n",
    "    #coords = [(i,j) for i in range(image.shape[0]) for j in range(image.shape[1])]\n",
    "    #area = image.size\n",
    "    \n",
    "    #regions is a list of skimage.measure regions out of regionprops\n",
    "    n = len(regions)\n",
    "    area = 0\n",
    "    sub_img = np.zeros_like(Omega, dtype = bool)\n",
    "    for reg in regions:\n",
    "        area += reg.area\n",
    "        sub_img += Omega == reg.label\n",
    "    coords = regions[0].coords\n",
    "    for i in range(1, n):\n",
    "        coords = np.append(coords, regions[i].coords, axis = 0)\n",
    "    \n",
    "    #define tau\n",
    "    tau = filters.threshold_otsu(image[sub_img])\n",
    "    #define y_x for every element in the region\n",
    "    y = matrix(np.array([image[x[0], x[1]] - tau for x in coords], dtype = np.double))\n",
    "    #define nable s(x) for each element\n",
    "    delta_s = matrix(np.array([[x[0]**2, x[1]**2, 2*x[0]*x[1], x[0], x[1], 1] for x in coords]), (area, 6))\n",
    "    def F(theta = None, z = None):\n",
    "        # choose starting point and as such define dimension of theta\n",
    "        if theta is None: return 0, matrix(0.0, (6,1))\n",
    "        # s contains region.area many rows, each row contains a scalar.\n",
    "        s = delta_s * theta\n",
    "        #print(max(s))\n",
    "        phi = log(1 + exp(-mul(y,s)))\n",
    "        #print(max(phi))\n",
    "        J = sum(phi)\n",
    "        kappa = div(1, 1+exp(mul(y,s)))\n",
    "        DJ = matrix(1, (1, area)) * (-mul(mul(y, kappa) * matrix(1, (1, 6)), delta_s))\n",
    "        if z is None: return J, DJ\n",
    "        nu = mul(y**2, kappa - kappa**2)\n",
    "        #define matrix to multiply from the right for summation\n",
    "        SumMatrix = matrix(np.tile([[1,0,0,0,0,0], \n",
    "                                    [0,1,0,0,0,0], \n",
    "                                    [0,0,1,0,0,0], \n",
    "                                    [0,0,0,1,0,0], \n",
    "                                    [0,0,0,0,1,0], \n",
    "                                    [0,0,0,0,0,1]], area))\n",
    "        eta = matrix([delta_s[i,:].T * delta_s[i,:] * nu[i] for i in range(area)])\n",
    "        H = z[0]* SumMatrix * eta\n",
    "        return J, DJ, H\n",
    "    solv = solvers.cp(F)\n",
    "    return solv['primal objective'], solv['x'].T"
   ]
  },
  {
   "cell_type": "code",
   "execution_count": 9,
   "id": "955f47c5",
   "metadata": {},
   "outputs": [
    {
     "name": "stdout",
     "output_type": "stream",
     "text": [
      "     pcost       dcost       gap    pres   dres\n",
      " 0:  0.0000e+00  8.2193e+03  1e+00  1e+00  1e+00\n",
      " 1: -4.0201e+02  3.2084e+03  1e-02  4e-01  2e-01\n",
      " 2:  1.1838e+03  1.9133e+03  1e-04  9e-02  7e-02\n",
      " 3:  8.7029e+02  1.2315e+03  1e-06  4e-02  3e-02\n",
      " 4:  6.3622e+02  8.4059e+02  1e-08  2e-02  1e-02\n",
      " 5:  4.8953e+02  6.0951e+02  1e-10  1e-02  5e-03\n",
      " 6:  3.9623e+02  4.6841e+02  1e-12  9e-03  2e-03\n",
      "Optimal solution found.\n"
     ]
    },
    {
     "data": {
      "text/plain": [
       "(396.2301212253594, <1x6 matrix, tc='d'>)"
      ]
     },
     "execution_count": 9,
     "metadata": {},
     "output_type": "execute_result"
    }
   ],
   "source": [
    "solvers.options['show_progress'] = True\n",
    "solvers.options['maxiters'] = 100\n",
    "solvers.options['feastol'] = 1e-2\n",
    "#solvers.options['abstol'] = 20\n",
    "#solvers.options['reltol'] = 30\n",
    "#use for a single region\n",
    "#J_energy(Omega, image, [regionprops(Omega)[0]])\n",
    "\n",
    "#test for a single element from S\n",
    "Z = list(S)\n",
    "regions = []\n",
    "for i in list(Z[45]):\n",
    "    regions.append(regionprops(Omega)[i-1]) #beware: region labeling starts at 1!\n",
    "J_energy(Omega, image, regions)"
   ]
  },
  {
   "cell_type": "code",
   "execution_count": 10,
   "id": "c4cb6f00",
   "metadata": {},
   "outputs": [
    {
     "name": "stderr",
     "output_type": "stream",
     "text": [
      "100%|████████████████████████████████████████████████████████████████████████████████| 177/177 [10:20<00:00,  3.51s/it]\n"
     ]
    }
   ],
   "source": [
    "solvers.options['show_progress'] = False\n",
    "solvers.options['feastol'] = 1e-2\n",
    "Z = list(S)\n",
    "f = np.zeros(len(Z))\n",
    "theta = matrix(np.zeros((len(Z),6)),(len(Z),6))\n",
    "\n",
    "for k in tqdm(range(len(Z))):\n",
    "    regions = []\n",
    "    for i in list(Z[k]):\n",
    "        regions.append(regionprops(Omega)[i-1]) #beware: region labeling starts at 1!\n",
    "    try:\n",
    "        solvers.options['feastol'] = 1e-7\n",
    "        f[k],theta[k,:] = J_energy(Omega, image, regions)\n",
    "    except:\n",
    "        solvers.options['feastol'] = 1e-2\n",
    "        f[k],theta[k,:] = J_energy(Omega, image, regions)"
   ]
  },
  {
   "cell_type": "code",
   "execution_count": 11,
   "id": "d7b0bcae",
   "metadata": {},
   "outputs": [],
   "source": [
    "alpha = np.median(f)"
   ]
  },
  {
   "cell_type": "markdown",
   "id": "0a116f20",
   "metadata": {},
   "source": [
    "## Algorithm II"
   ]
  },
  {
   "cell_type": "code",
   "execution_count": 12,
   "id": "375b93b1",
   "metadata": {},
   "outputs": [],
   "source": [
    "def global_solution(f,alpha,Omega,S):\n",
    "    #Set Variables we dont need Z but f_used\n",
    "    n = len(S) \n",
    "    u = np.zeros(n)\n",
    "    V = set()\n",
    "    Z = set(S)\n",
    "    f_used = np.copy(f)\n",
    "    #First Loop over copy of Omega\n",
    "    for Zk in S:\n",
    "        V = V.union(Zk)\n",
    "    while V != set():\n",
    "        c = np.zeros(n)\n",
    "        #Loop over number of Subgraphs in S\n",
    "        for k in range(n):\n",
    "            #Set intersection length\n",
    "            Zk_V = len(V.intersection(set(S[k])))\n",
    "            #Set c if intersection is non empty \n",
    "            if  Zk_V !=0:\n",
    "                c[k] = (f[k] + alpha) / Zk_V\n",
    "            #Else set it to nan to ignore it\n",
    "            else:\n",
    "                c[k] = np.nan\n",
    "        #Get the argmin of c\n",
    "        k_min = np.nanargmin(c)\n",
    "        #Set u of argmin to 1\n",
    "        u[k_min] = 1 \n",
    "        #Remove the nodes of Z_k\n",
    "        V -= S[k_min]\n",
    "    \n",
    "    #Second loop over not used elements of f\n",
    "    while Z != set():\n",
    "        #Set current element of interest k_prim\n",
    "        k_prim = np.nanargmin(f_used)\n",
    "        #check if u[_k_prim hasnt been used in first loop\n",
    "        if u[k_prim]==0:\n",
    "            #crate subvector v of u\n",
    "            v = np.copy(u)\n",
    "            #loop over all elements of u that are non zero\n",
    "            for ind in np.nonzero(u)[0]:\n",
    "                #check if Z_ind is subset of Z_kprim\n",
    "                if not S[ind].issubset(S[k_prim]):\n",
    "                    #if not set v to 0 to ignore it in the union\n",
    "                    v[ind] = 0\n",
    "            #check if union of all left subsets is equal to Z_kprim\n",
    "            union = set()\n",
    "            for k in np.nonzero(v)[0]:\n",
    "                for label in S[k]:\n",
    "                    union.add(label)\n",
    "            if set(S[k_prim]) == union:\n",
    "                #check smth...\n",
    "                if f[k_prim]+alpha < np.dot(v,f + (alpha*np.ones(n))):\n",
    "                    #Set u values of the used subsets to 0 and the union to 1\n",
    "                    u -= v\n",
    "                    u[k_prim] = 1\n",
    "        #make f equal to nan for the used region\n",
    "        f_used[k_prim]=np.nan\n",
    "        Z -= {S[k_prim]}\n",
    "    return u"
   ]
  },
  {
   "cell_type": "code",
   "execution_count": 13,
   "id": "15d95dff",
   "metadata": {},
   "outputs": [
    {
     "data": {
      "image/png": "[encoded data removed]",
      "text/plain": [
       "<Figure size 432x288 with 2 Axes>"
      ]
     },
     "metadata": {
      "needs_background": "light"
     },
     "output_type": "display_data"
    }
   ],
   "source": [
    "u = global_solution(f, alpha, Omega, Z)\n",
    "segmentation = np.zeros_like(image)\n",
    "for k in range(len(u)):\n",
    "    if u[k]==1:\n",
    "        regions = []\n",
    "        for i in Z[k]:\n",
    "            regions.append(regionprops(Omega)[i-1]) \n",
    "        n = len(regions)\n",
    "        area = 0\n",
    "        sub_img = np.zeros_like(Omega, dtype = bool)\n",
    "        for reg in regions:\n",
    "            area += reg.area\n",
    "            sub_img += Omega == reg.label\n",
    "        coords = regions[0].coords\n",
    "        for i in range(1, n):\n",
    "            coords = np.append(coords, regions[i].coords, axis = 0)\n",
    "        delta_s = matrix(np.array([[x[0]**2, x[1]**2, 2*x[0]*x[1], x[0], x[1], 1] for x in coords]), (area, 6))\n",
    "        s = delta_s * theta[k,:].T\n",
    "        for i,pixel in enumerate(coords ,start= 0):\n",
    "            if s[i]>=0:\n",
    "                segmentation[pixel[0],pixel[1]] = 1\n",
    "\n",
    "fig = plt.figure()\n",
    "ax = fig.add_subplot(2, 1, 1)\n",
    "imgplot = plt.imshow(segmentation)\n",
    "ax = fig.add_subplot(2, 1, 2)\n",
    "imgplot = plt.imshow(image)"
   ]
  }
 ],
 "metadata": {
  "interpreter": {
   "hash": "916dbcbb3f70747c44a77c7bcd40155683ae19c65e1c03b4aa3499c5328201f1"
  },
  "kernelspec": {
   "display_name": "Python 3",
   "language": "python",
   "name": "python3"
  },
  "language_info": {
   "codemirror_mode": {
    "name": "ipython",
    "version": 3
   },
   "file_extension": ".py",
   "mimetype": "text/x-python",
   "name": "python",
   "nbconvert_exporter": "python",
   "pygments_lexer": "ipython3",
   "version": "3.9.4"
  }
 },
 "nbformat": 4,
 "nbformat_minor": 5
}
