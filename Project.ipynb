{
 "cells": [
  {
   "cell_type": "code",
   "execution_count": 12,
   "source": [
    "import numpy as np\n",
    "import matplotlib.pyplot as plt\n",
    "import sknetwork as skn\n",
    "from scipy import sparse\n",
    "from scipy.ndimage import gaussian_filter\n",
    "from skimage.segmentation import watershed\n",
    "from sknetwork.path import distance\n",
    "from sknetwork.topology import get_connected_components"
   ],
   "outputs": [],
   "metadata": {}
  },
  {
   "cell_type": "code",
   "execution_count": null,
   "source": [
    "#get image and define the image space\n",
    "g = #image_here\n",
    "image_range = zip(range(image.shape[0]),range(image.shape[1]))"
   ],
   "outputs": [],
   "metadata": {}
  },
  {
   "cell_type": "code",
   "execution_count": 2,
   "source": [
    "def B_delta(p,delta): #rename suggestion: delta ball\n",
    "    B = set()\n",
    "    for q in image_range:\n",
    "        if np.linalg.norm(p-q)<= delta:\n",
    "            B.add(q)\n",
    "    return B"
   ],
   "outputs": [],
   "metadata": {}
  },
  {
   "cell_type": "markdown",
   "source": [
    "### Algorithm I"
   ],
   "metadata": {}
  },
  {
   "cell_type": "code",
   "execution_count": null,
   "source": [
    "def generate_fragments(img,std_dev,int_treshold,min_seed_dist,max_search_depth,max_frag_dist):\n",
    "    g = gaussian_filter(img,std_dev)\n",
    "    g_copy = np.copy(g)\n",
    "    \n",
    "    #Fehlerabfangen\n",
    "    \n",
    "    if std_dev < 0:\n",
    "        raise ValueError(\"smoothing strength needs to be positive\")\n",
    "    if int_threshold > 1 or int_threshold < 0:\n",
    "        raise ValueError(\"relative intensity threshold needs to be between 0 and 1\")\n",
    "    if min_seed_dist < 1:\n",
    "        raise ValueError(\"min seed distance needs to be >= 1\")\n",
    "    if max_search_depth < 0:\n",
    "        raise ValueError(\"maximum search error needs to be positive\")\n",
    "    if max_frag_dist < 0:\n",
    "        raise ValueError(\"maximum fragments distance needs to be positive\")\n",
    "        \n",
    "    \n",
    "    PI = []\n",
    "    for p in image_range:\n",
    "        B = B_delta(p,min_seed_dist)\n",
    "        if (g[p]== max(g[q] for q in B)) and (1-int_treshold)*g[p]>=min(g[q] for q in B): \n",
    "            PI.append(p) \n",
    "            g_copy[p] = len(PI) \n",
    "        else:\n",
    "            g_copy[p]=0   \n",
    "    \n",
    "    Omega = []\n",
    "    Labels = watershed(img,markers=g_copy)\n",
    "    for label in range(1,len(PI)+1):\n",
    "        w = np.argwhere(Labels==label) #Das sind nur die indizies der Region\n",
    "        Omega.append(w)\n",
    "        \n",
    "    Epsilon = np.zeros((len(Omega), len(Omega)))\n",
    "    for i,_ in enumerate(Omega[:-1]):\n",
    "        for j,_ in enumerate(Omega[i+1:]):\n",
    "            #adjacency\n",
    "            #local intensity peaks r(w)??\n",
    "            if np.linalg.norm(PI[i] - PI[j]) <= max_frag_dist:\n",
    "                Epsilon[i][j] = 1\n",
    "                Epsilon[j][i] = 1\n",
    "    Epsilon = sparse.csr_matrix(Epsilon) #needed to work with sknetwork pacakge\n",
    "             \n",
    "    \n",
    "   # Epsilon = set()\n",
    "   # for i,w in enumerate(Omega[:-1]):\n",
    "   #     for j,v in enumerate(Omega[i+1:],start=i+1):\n",
    "   #         #What is adjacency?\n",
    "   #         if (x+(e,0) in v or x+(0,e) in v for x in w for e in (1,-1)) and np.linalg.norm(PI[i] - PI[j]) <= max_frag_dist:\n",
    "   #             Epsilon.add({w,v})\n",
    "            \n",
    "    S = []\n",
    "    #unsure what simply connected is supposed to indicate here\n",
    "    for i in range(Omega):\n",
    "        for #enter iteration of connected subgraphs:\n",
    "            dis_matrix = distance(Epsilon, method = 'D') #return distance matrix\n",
    "            if dis_matrix[i] <= h:\n",
    "                #add set Z to S\n",
    "    \n",
    "    return Omega, S"
   ],
   "outputs": [],
   "metadata": {}
  },
  {
   "cell_type": "markdown",
   "source": [
    "###  testing out graphs"
   ],
   "metadata": {}
  },
  {
   "cell_type": "code",
   "execution_count": 20,
   "source": [
    "adjacency = np.array([[0, 1, 1, 0], [1, 0, 1, 1], [1, 1, 0, 0], [0, 1, 0, 0]])\n",
    "adjacency = sparse.csr_matrix(adjacency)\n",
    "\n",
    "dist = distance(adjacency, method = 'D')\n",
    "dist\n",
    "dist[1].max()"
   ],
   "outputs": [
    {
     "output_type": "execute_result",
     "data": {
      "text/plain": [
       "1.0"
      ]
     },
     "metadata": {},
     "execution_count": 20
    }
   ],
   "metadata": {}
  },
  {
   "cell_type": "markdown",
   "source": [
    "### Algorithm II"
   ],
   "metadata": {}
  },
  {
   "cell_type": "code",
   "execution_count": null,
   "source": [
    "def global_solution(f,alpha,Omega,S):\n",
    "    n = len(S) #stimmt n?\n",
    "    u = np.zeros(n)\n",
    "    V = Omega\n",
    "    Z = S\n",
    "    while V != ():\n",
    "#work in progress\n",
    "        c = np.empty(n)\n",
    "        for k in range(len(S)):\n",
    "            c[k] = (f[k] + alpha) / #abs value?\n",
    "        k_min = argmin(c)\n",
    "        u[k_min],V = 1, #v\\{Z}?\n",
    "    \n",
    "    while Z!= set():\n",
    "        k_prim = "
   ],
   "outputs": [],
   "metadata": {}
  }
 ],
 "metadata": {
  "kernelspec": {
   "display_name": "Python 3",
   "language": "python",
   "name": "python3"
  },
  "language_info": {
   "codemirror_mode": {
    "name": "ipython",
    "version": 3
   },
   "file_extension": ".py",
   "mimetype": "text/x-python",
   "name": "python",
   "nbconvert_exporter": "python",
   "pygments_lexer": "ipython3",
   "version": "3.9.4"
  }
 },
 "nbformat": 4,
 "nbformat_minor": 5
}
