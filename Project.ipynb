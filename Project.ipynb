{
 "cells": [
  {
   "cell_type": "code",
   "execution_count": 1,
   "id": "4d225882",
   "metadata": {},
   "outputs": [],
   "source": [
    "import numpy as np\n",
    "import matplotlib.pyplot as plt\n",
    "import itertools\n",
    "import networkx as nx \n",
    "\n",
    "from skimage import img_as_ubyte, util, filters\n",
    "from scipy.ndimage import gaussian_filter\n",
    "from skimage.segmentation import watershed\n",
    "from skimage.morphology import disk\n",
    "from skimage.measure import label, regionprops, euler_number\n",
    "from skimage.future.graph import RAG\n",
    "\n",
    "from tqdm import tqdm\n",
    "\n",
    "from cvxopt import solvers, matrix, div, log, exp, mul"
   ]
  },
  {
   "cell_type": "markdown",
   "id": "ffbd215c",
   "metadata": {},
   "source": [
    "## Algorithm I"
   ]
  },
  {
   "cell_type": "code",
   "execution_count": 2,
   "id": "99d6506f",
   "metadata": {},
   "outputs": [],
   "source": [
    "def generate_fragments(img,std_dev,int_threshold,min_seed_dist,max_search_depth,max_frag_dist, background = 60):\n",
    "    img = img_as_ubyte(img)\n",
    "    #smooth image with gausian filter\n",
    "    g = gaussian_filter(img,std_dev)\n",
    "    #flatten the lower 50 percentile of the gaussian filter to 0 (for background)\n",
    "    g[g < np.percentile(g, background)] = 0\n",
    "    \n",
    "    #Fehlerabfangen\n",
    "    if std_dev < 0:\n",
    "        raise ValueError(\"smoothing strength needs to be positive\")\n",
    "    if int_threshold > 1 or int_threshold < 0:\n",
    "        raise ValueError(\"relative intensity threshold needs to be between 0 and 1\")\n",
    "    if min_seed_dist < 1:\n",
    "        raise ValueError(\"min seed distance needs to be >= 1\")\n",
    "    if max_search_depth < 0:\n",
    "        raise ValueError(\"maximum search error needs to be positive\")\n",
    "    if max_frag_dist < 0:\n",
    "        raise ValueError(\"maximum fragments distance needs zo be positive\")\n",
    "    if background > 100 or background < 0:\n",
    "        raise ValueError('background is a percentage value between 0 and 100')\n",
    "        \n",
    "    #Create Delta Ball\n",
    "    B = disk(min_seed_dist)\n",
    "    #Set the markers in the Image according to the formula (P is an image)\n",
    "    P = (g==filters.rank.maximum(g,B)) & ((1-int_threshold)*g >= filters.rank.minimum(g,B))\n",
    "    #Fuse adjacient markers and label each group of markers\n",
    "    g_markers = label(P)\n",
    "    #Get the regions of the markers to access centroid later\n",
    "    PI = regionprops(g_markers)\n",
    "\n",
    "    #Create Watershed regions\n",
    "    Omega = watershed(util.invert(g),markers=g_markers)\n",
    "    #Create the adjacency graph of the labeled image\n",
    "    G = RAG(Omega,connectivity=2)\n",
    "\n",
    "    #Remove edges if centroids are to far away\n",
    "    for edge in G.edges():\n",
    "        if np.linalg.norm(np.array(PI[edge[0]-1].centroid) - np.array(PI[edge[1]-1].centroid)) > max_frag_dist:\n",
    "            G.remove_edge(edge[0],edge[1])\n",
    "\n",
    "    S = set()\n",
    "    #iterate over all conected components (cc)\n",
    "    for nodes_in_cc in nx.algorithms.connectivity.edge_kcomponents.k_edge_subgraphs(G,1):\n",
    "        #Set the subgraph of curent cc\n",
    "        H = G.subgraph(nodes_in_cc)\n",
    "        #Loop over the nodes of the subgraph\n",
    "        for v in tqdm(nodes_in_cc):\n",
    "            #Add the isolated region of the curent node\n",
    "            if euler_number(Omega == v) == 1:\n",
    "                S.add(frozenset([v]))\n",
    "            #Loop over the distance from the curent node within the graph\n",
    "            for distance in range(1,max_search_depth+1):\n",
    "                #Get a dictonary containg the distance from curent node\n",
    "                distance_from_origin = nx.single_source_shortest_path_length(H, v,cutoff=distance)\n",
    "                #Loop over the amount of nodes\n",
    "                for node_amount in range(distance,len(distance_from_origin.values())):\n",
    "                    #Loop over all subsets of nodes that contain v and contain node_amount of nodes\n",
    "                    for node_subset in itertools.combinations([node for node in distance_from_origin.keys()], node_amount):\n",
    "                        node_subset = set([v]).union(set(node_subset))\n",
    "                        #Check other requirments and add the node set to S if they are fullfilled\n",
    "                        if frozenset(node_subset) not in S:\n",
    "                            if nx.is_connected(H.subgraph(node_subset)):\n",
    "                                #check that the merge of the regions is simply connected\n",
    "                                sub_img = np.zeros_like(Omega, dtype = bool)\n",
    "                                for region_label in node_subset:\n",
    "                                    sub_img += Omega == region_label\n",
    "                                if euler_number(sub_img) == 1:\n",
    "                                     S.add(frozenset(node_subset))\n",
    "\n",
    "    return Omega,S"
   ]
  },
  {
   "cell_type": "markdown",
   "id": "cacf6cb1",
   "metadata": {},
   "source": [
    "## Computation of f"
   ]
  },
  {
   "cell_type": "markdown",
   "id": "f99da704",
   "metadata": {},
   "source": [
    "We use a second-order solver for non-linear unconstrained convex problem. To do so, we define $\\theta^T = [a_1, a_2, a_3, b_1, b_2, c]$ and as such define for a pixel $x \\in R$ (R = region.coords) $\\subset \\mathbb{R}^2$ \n",
    "$$\\begin{align*}\n",
    "s(x, \\theta) &= x^T \\begin{pmatrix} a_1 & a_3 \\\\ a_3 & a_2 \\end{pmatrix} x + \\begin{pmatrix} b_1, b_2 \\end{pmatrix} \\begin{pmatrix} x_1 \\\\ x_2 \\end{pmatrix} + c \\\\\n",
    "&= x^T \\begin{pmatrix} \\theta[0] & \\theta[2] \\\\ \\theta[2] & \\theta[1] \\end{pmatrix} x + \\begin{pmatrix} \\theta[3], \\theta[4] \\end{pmatrix} \\begin{pmatrix} x_1 \\\\ x_2 \\end{pmatrix} + \\theta[5] \\\\\n",
    "&= a_1 x_1^2 + a_2x_2^2 + 2a_3x_1x_2 + b_1x_1 + b_2x_2 + c \\\\\n",
    "&= \\nabla^T s(x) * \\theta \n",
    "\\end{align*}$$\n",
    "for $\\nabla^T s(x) = [x_1^2, x_2^2, 2x_1x_2, x_1, x_2, 1]$\n",
    "\n",
    "The following is a brief explanation of the used data structures and especially their dimensions to help the reader better undertstand the function J_energy:\n",
    "\n",
    "- y has size region.area x 1. Each element corresponds to $g(x) - \\tau$ for $x$ two-dim coordinates of a pixel in region.\n",
    "- delta_s is a region.area x 6 matrix. Each row corresponds to $\\nabla^T s(x)$ for $x$ two-dim coordinates of a pixel in region.\n",
    "$$\\text{delta_s} = \\begin{pmatrix} \\nabla^T s(x_0) \\\\ \\nabla^T s(x_1) \\\\ ... \\\\ \\nabla^T s(x_{region.area}) \\end{pmatrix}$$\n",
    "- s is a [region.area x 1] matrix. Each row corresponds to the inner product $s(x, \\theta) = \\nabla^T s(x) * \\theta$ for $x$ two-dim coordinates of a pixel in region.\n",
    "- phi is a [region.area x 1] matrix. Each row corresponds to the evaluation of the function $\\phi(y, s(x, \\theta)) = \\log(1+\\exp(-y(x)*s(x, \\theta))).$ Here we remark that the functions MULT, EXP and LOG operate on matricies element-wise.\n",
    "- J is the sum of the vector phi, and as such corresponds to $J(\\theta) = \\sum_{x \\in R} \\phi(y_x; s(x, \\theta))$ and is a scalar.\n",
    "\n",
    "We move on to the definition of the Jacobian of J. To that end we define:\n",
    "- kappa, matrix of size [region.area x 1]. Each row corresponds to $\\kappa_{x, \\theta} = \\frac{1}{1 + \\exp(y_x s(x; \\theta))}$ for $x$ two-dim coordinates of a pixel in region.\n",
    "- DJ, the Jacobian of J, matrix of size [6x1]. It is constructed as follows:\n",
    "    - We multiply y and kappa element-wise. \n",
    "    - To this vector we multiply a [1x6] one-vector. This gives us a [region.area x 6] matrix, where each row is identical to y*kappa.\n",
    "    - This Matrix we inturn multiply element-wise with delta_s. As such we obtain a [region.area x 6] matrix, where each row consists of the vector $y_x * \\kappa_{x, \\theta} * \\nabla^T s(x)$ for $x$ two-dim coordinates of a pixel in region. \n",
    "    - as I found no function to only sum over rows, we multiply the last matrix from the right with the [1xregion.area] vector, which acts as a row-sum operator.\n",
    "    \n",
    "We move on to the Definition of the Hessian Matrix. To that end, we define:\n",
    "- nu, matrix of size [region.area x 1], as the element-wise multiplication of y^2 * (kappa - kappa^2).\n",
    "- eta, matrix of size [region.area x 6 X 6] (interpreted as a matrix of size [(region.area * 6) x 6] as matrix only accepts one- or two-dim arrays), each 6x6 matrix is the outer product of $\\nabla ^T s(x)$ and $\\nabla s(x)$ multiplied with the corresponding scalar $\\nu_x$ for $x$ two-dim coordinates of a pixel in region.\n",
    "- SumMatrix, a [(region.area*6) x 6] matrix, pasting the 6-Identitymatrix region.area-times under each other. When multiplied to the left of a eta, it acts as a sum operator for region.area many 6x6 matricies."
   ]
  },
  {
   "cell_type": "code",
   "execution_count": 3,
   "id": "8c86e546",
   "metadata": {},
   "outputs": [
    {
     "data": {
      "text/plain": [
       "\"\\ndef J_energy(Omega, image, regions):\\n\\n    #regions is a list of skimage.measure regions out of regionprops\\n    sub_img = np.zeros_like(Omega, dtype = bool)\\n    for reg in regions:\\n        sub_img += Omega == reg.label\\n    coords = [(x[0], x[1]) for x in np.ndindex(image.shape)]\\n    image[sub_img==0] = 0\\n\\n    #define tau\\n    tau = filters.threshold_otsu(image[sub_img])\\n    image -= tau\\n    #define y_x for every element in the region\\n    y = matrix(np.array(image,dtype=np.double),(len(coords),1))\\n    #define nable s(x) for each element\\n    delta_s = matrix(np.array([[x[0]**2, x[1]**2, 2*x[0]*x[1], x[0], x[1], 1] for x in coords]), (len(coords), 6))\\n    def F(theta = None, z = None):\\n        # choose starting point and as such define dimension of theta\\n        if theta is None: return 0, matrix(0.0, (6,1))\\n        # s contains region.area many rows, each row contains a scalar.\\n        s = delta_s * theta\\n        phi = log(1 + exp(-mul(y,s)))\\n        J = sum(phi)\\n        kappa = div(1, 1+exp(mul(y,s)))\\n        DJ = matrix(1, (1, len(coords))) * (-mul(mul(y, kappa) * matrix(1, (1, 6)), delta_s))\\n        if z is None: return J, DJ\\n        nu = mul(y**2, kappa - kappa**2)\\n        #define matrix to multiply from the right for summation\\n        SumMatrix = matrix(np.tile([[1,0,0,0,0,0], \\n                                    [0,1,0,0,0,0], \\n                                    [0,0,1,0,0,0], \\n                                    [0,0,0,1,0,0], \\n                                    [0,0,0,0,1,0], \\n                                    [0,0,0,0,0,1]], len(coords)))\\n        eta = matrix([delta_s[i,:].T * delta_s[i,:] * nu[i] for i in range(len(coords))])\\n        H = z[0]* SumMatrix * eta\\n        return J, DJ, H\\n    solv = solvers.cp(F)\\n    return solv['primal objective'], solv['x'].T\\n\""
      ]
     },
     "execution_count": 3,
     "metadata": {},
     "output_type": "execute_result"
    }
   ],
   "source": [
    "'''\n",
    "def J_energy(Omega, image, regions):\n",
    "\n",
    "    #regions is a list of skimage.measure regions out of regionprops\n",
    "    sub_img = np.zeros_like(Omega, dtype = bool)\n",
    "    for reg in regions:\n",
    "        sub_img += Omega == reg.label\n",
    "    coords = [(x[0], x[1]) for x in np.ndindex(image.shape)]\n",
    "    image[sub_img==0] = 0\n",
    "\n",
    "    #define tau\n",
    "    tau = filters.threshold_otsu(image[sub_img])\n",
    "    image -= tau\n",
    "    #define y_x for every element in the region\n",
    "    y = matrix(np.array(image,dtype=np.double),(len(coords),1))\n",
    "    #define nable s(x) for each element\n",
    "    delta_s = matrix(np.array([[x[0]**2, x[1]**2, 2*x[0]*x[1], x[0], x[1], 1] for x in coords]), (len(coords), 6))\n",
    "    def F(theta = None, z = None):\n",
    "        # choose starting point and as such define dimension of theta\n",
    "        if theta is None: return 0, matrix(0.0, (6,1))\n",
    "        # s contains region.area many rows, each row contains a scalar.\n",
    "        s = delta_s * theta\n",
    "        phi = log(1 + exp(-mul(y,s)))\n",
    "        J = sum(phi)\n",
    "        kappa = div(1, 1+exp(mul(y,s)))\n",
    "        DJ = matrix(1, (1, len(coords))) * (-mul(mul(y, kappa) * matrix(1, (1, 6)), delta_s))\n",
    "        if z is None: return J, DJ\n",
    "        nu = mul(y**2, kappa - kappa**2)\n",
    "        #define matrix to multiply from the right for summation\n",
    "        SumMatrix = matrix(np.tile([[1,0,0,0,0,0], \n",
    "                                    [0,1,0,0,0,0], \n",
    "                                    [0,0,1,0,0,0], \n",
    "                                    [0,0,0,1,0,0], \n",
    "                                    [0,0,0,0,1,0], \n",
    "                                    [0,0,0,0,0,1]], len(coords)))\n",
    "        eta = matrix([delta_s[i,:].T * delta_s[i,:] * nu[i] for i in range(len(coords))])\n",
    "        H = z[0]* SumMatrix * eta\n",
    "        return J, DJ, H\n",
    "    solv = solvers.cp(F)\n",
    "    return solv['primal objective'], solv['x'].T\n",
    "'''"
   ]
  },
  {
   "cell_type": "code",
   "execution_count": 3,
   "id": "c1b31603",
   "metadata": {},
   "outputs": [],
   "source": [
    "def J_energy(Omega, image, regions):\n",
    "    #regions is a list of skimage.measure regions out of regionprops\n",
    "    n = len(regions)\n",
    "    area = 0\n",
    "    sub_img = np.zeros_like(Omega, dtype = bool)\n",
    "    for reg in regions:\n",
    "        area += reg.area\n",
    "        sub_img += Omega == reg.label\n",
    "    coords = regions[0].coords\n",
    "    for i in range(1, n):\n",
    "        coords = np.append(coords, regions[i].coords, axis = 0)\n",
    "    \n",
    "    #define tau\n",
    "    tau = filters.threshold_otsu(image[sub_img])\n",
    "    #define y_x for every element in the region\n",
    "    y = matrix(np.array([image[x[0], x[1]] - tau for x in coords], dtype = np.double))\n",
    "    #define nable s(x) for each element\n",
    "    delta_s = matrix(np.array([[x[0]**2, x[1]**2, 2*x[0]*x[1], x[0], x[1], 1] for x in coords]), (area, 6))\n",
    "    def F(theta = None, z = None):\n",
    "        # choose starting point and as such define dimension of theta\n",
    "        if theta is None: return 0, matrix(0.0, (6,1))\n",
    "        # s contains region.area many rows, each row contains a scalar.\n",
    "        s = delta_s * theta\n",
    "        #print(max(s))\n",
    "        phi = log(1 + exp(-mul(y,s)))\n",
    "        #print(max(phi))\n",
    "        J = sum(phi)\n",
    "        kappa = div(1, 1+exp(mul(y,s)))\n",
    "        DJ = matrix(1, (1, area)) * (-mul(mul(y, kappa) * matrix(1, (1, 6)), delta_s))\n",
    "        if z is None: return J, DJ\n",
    "        nu = mul(y**2, kappa - kappa**2)\n",
    "        #define matrix to multiply from the right for summation\n",
    "        SumMatrix = matrix(np.tile([[1,0,0,0,0,0], \n",
    "                                    [0,1,0,0,0,0], \n",
    "                                    [0,0,1,0,0,0], \n",
    "                                    [0,0,0,1,0,0], \n",
    "                                    [0,0,0,0,1,0], \n",
    "                                    [0,0,0,0,0,1]], area))\n",
    "        eta = matrix([delta_s[i,:].T * delta_s[i,:] * nu[i] for i in range(area)])\n",
    "        H = z[0]* SumMatrix * eta\n",
    "        return J, DJ, H\n",
    "    solv = solvers.cp(F)\n",
    "    return solv['primal objective'], solv['x'].T"
   ]
  },
  {
   "cell_type": "code",
   "execution_count": 4,
   "id": "c4cb6f00",
   "metadata": {},
   "outputs": [],
   "source": [
    "def Solv(Omega, image, S):\n",
    "    solvers.options['show_progress'] = False\n",
    "    \n",
    "    Z = list(S)\n",
    "    f = np.zeros(len(Z))\n",
    "    theta = matrix(np.zeros((len(Z),6)),(len(Z),6))\n",
    "    #ListOfRegions = []\n",
    "    for k in tqdm(range(len(Z))):\n",
    "        regions = []\n",
    "        for i in Z[k]:\n",
    "            regions.append(regionprops(Omega)[i-1]) #beware: region labeling starts at 1!\n",
    "        try:\n",
    "            solvers.options['feastol'] = 1e-7\n",
    "            f[k],theta[k,:] = J_energy(Omega, image, regions)\n",
    "        except:\n",
    "            solvers.options['feastol'] = 1e-2\n",
    "            f[k],theta[k,:] = J_energy(Omega, image, regions)\n",
    "        #ListOfRegions.append(regions)\n",
    "    return(f, theta)"
   ]
  },
  {
   "cell_type": "code",
   "execution_count": 6,
   "id": "07288827",
   "metadata": {},
   "outputs": [
    {
     "data": {
      "text/plain": [
       "\"\\ndef main():\\n    pool = mp.Pool(mp.cpu_count()-1)\\n    result = tqdm(pool.map(J_energy, ListOfRegions))\\n    pool.close()\\n    pool.join()\\n    print(result)\\n    print('end')\\n    \\nif __name__ == '__main__':\\n    main()\\n\""
      ]
     },
     "execution_count": 6,
     "metadata": {},
     "output_type": "execute_result"
    }
   ],
   "source": [
    "'''\n",
    "def main():\n",
    "    pool = mp.Pool(mp.cpu_count()-1)\n",
    "    result = tqdm(pool.map(J_energy, ListOfRegions))\n",
    "    pool.close()\n",
    "    pool.join()\n",
    "    print(result)\n",
    "    print('end')\n",
    "    \n",
    "if __name__ == '__main__':\n",
    "    main()\n",
    "'''"
   ]
  },
  {
   "cell_type": "markdown",
   "id": "0a116f20",
   "metadata": {},
   "source": [
    "## Algorithm II"
   ]
  },
  {
   "cell_type": "code",
   "execution_count": 5,
   "id": "375b93b1",
   "metadata": {},
   "outputs": [],
   "source": [
    "def global_solution(f,alpha,Omega,S):\n",
    "    #Set Variables we dont need Z but f_used\n",
    "    n = len(S) \n",
    "    u = np.zeros(n)\n",
    "    V = set()\n",
    "    Z = set(S)\n",
    "    f_used = np.copy(f)\n",
    "    regions = regionprops(Omega)\n",
    "    #First Loop over copy of Omega\n",
    "    for Zk in S:\n",
    "        V = V.union(Zk)\n",
    "    while V != set():\n",
    "        c = np.zeros(n)\n",
    "        #Loop over number of Subgraphs in S\n",
    "        for k in range(n):\n",
    "            #Set intersection length\n",
    "            Zk_V_labels = V.intersection(set(S[k]))\n",
    "            Zk_V_area = 0\n",
    "            for label in Zk_V_labels:\n",
    "                Zk_V_area += regions[label-1].area\n",
    "            #Set c if intersection is non empty \n",
    "            if  Zk_V_area !=0:\n",
    "                c[k] = (f[k] + alpha) / Zk_V_area\n",
    "            #Else set it to nan to ignore it\n",
    "            else:\n",
    "                c[k] = np.nan\n",
    "        #Get the argmin of c\n",
    "        k_min = np.nanargmin(c)\n",
    "        #Set u of argmin to 1\n",
    "        u[k_min] = 1 \n",
    "        #Remove the nodes of Z_k\n",
    "        V -= S[k_min]\n",
    "    \n",
    "    #Second loop over not used elements of f\n",
    "    while Z != set():\n",
    "        #Set current element of interest k_prim\n",
    "        k_prim = np.nanargmin(f_used)\n",
    "        #check if u[_k_prim hasnt been used in first loop\n",
    "        if u[k_prim]==0:\n",
    "            #crate subvector v of u\n",
    "            v = np.copy(u)\n",
    "            #loop over all elements of u that are non zero\n",
    "            for ind in np.nonzero(u)[0]:\n",
    "                #check if Z_ind is subset of Z_kprim\n",
    "                if not S[ind].issubset(S[k_prim]):\n",
    "                    #if not set v to 0 to ignore it in the union\n",
    "                    v[ind] = 0\n",
    "            #check if union of all left subsets is equal to Z_kprim\n",
    "            union = set()\n",
    "            for k in np.nonzero(v)[0]:\n",
    "                for label in S[k]:\n",
    "                    union.add(label)\n",
    "            if set(S[k_prim]) == union:\n",
    "                #check smth...\n",
    "                if f[k_prim]+alpha < np.dot(v,f + (alpha*np.ones(n))):\n",
    "                    #Set u values of the used subsets to 0 and the union to 1\n",
    "                    u -= v\n",
    "                    u[k_prim] = 1\n",
    "        #make f equal to nan for the used region\n",
    "        f_used[k_prim] = np.nan\n",
    "        Z -= {S[k_prim]}\n",
    "    return u"
   ]
  },
  {
   "cell_type": "code",
   "execution_count": 6,
   "id": "15d95dff",
   "metadata": {},
   "outputs": [],
   "source": [
    "def segmented(Omega, image, f, theta, Z):\n",
    "    alpha = np.median(f)\n",
    "    u = global_solution(f, alpha, Omega, Z)\n",
    "    coords = [(x[0], x[1]) for x in np.ndindex(image.shape)]\n",
    "    delta_s = matrix(np.array([[x[0]**2, x[1]**2, 2*x[0]*x[1], x[0], x[1], 1] for x in coords]),(len(coords),6))\n",
    "    for k in range(len(u)):\n",
    "        if u[k]==1:\n",
    "            s_k = delta_s * theta[k,:].T\n",
    "            try:\n",
    "                s = np.maximum(s,s_k)\n",
    "            except:\n",
    "                s = s_k\n",
    "    s = np.reshape(s,image.shape)\n",
    "    s[s>0] = 1\n",
    "    s[s<0] = -1\n",
    "    return s"
   ]
  },
  {
   "cell_type": "code",
   "execution_count": 3,
   "id": "8437460a",
   "metadata": {
    "scrolled": true
   },
   "outputs": [
    {
     "ename": "FileNotFoundError",
     "evalue": "[Errno 2] No such file or directory: '../images/dna-images/gnf/dna-0.png'",
     "output_type": "error",
     "traceback": [
      "\u001b[1;31m---------------------------------------------------------------------------\u001b[0m",
      "\u001b[1;31mFileNotFoundError\u001b[0m                         Traceback (most recent call last)",
      "\u001b[1;32m<ipython-input-3-9a739b2e0636>\u001b[0m in \u001b[0;36m<module>\u001b[1;34m\u001b[0m\n\u001b[1;32m----> 1\u001b[1;33m \u001b[0mimage\u001b[0m \u001b[1;33m=\u001b[0m \u001b[0mplt\u001b[0m\u001b[1;33m.\u001b[0m\u001b[0mimread\u001b[0m\u001b[1;33m(\u001b[0m\u001b[1;34m'../images/dna-images/gnf/dna-0.png'\u001b[0m\u001b[1;33m)\u001b[0m\u001b[1;33m[\u001b[0m\u001b[1;36m200\u001b[0m\u001b[1;33m:\u001b[0m\u001b[1;36m500\u001b[0m\u001b[1;33m,\u001b[0m \u001b[1;36m200\u001b[0m\u001b[1;33m:\u001b[0m\u001b[1;36m500\u001b[0m\u001b[1;33m,\u001b[0m\u001b[1;36m0\u001b[0m\u001b[1;33m]\u001b[0m\u001b[1;33m\u001b[0m\u001b[1;33m\u001b[0m\u001b[0m\n\u001b[0m\u001b[0;32m      2\u001b[0m \u001b[0mOmega\u001b[0m\u001b[1;33m,\u001b[0m\u001b[0mS\u001b[0m \u001b[1;33m=\u001b[0m \u001b[0mgenerate_fragments\u001b[0m\u001b[1;33m(\u001b[0m\u001b[0mimage\u001b[0m\u001b[1;33m,\u001b[0m\u001b[1;36m16\u001b[0m\u001b[1;33m,\u001b[0m\u001b[1;36m0.01\u001b[0m\u001b[1;33m,\u001b[0m\u001b[1;36m20\u001b[0m\u001b[1;33m,\u001b[0m\u001b[1;36m2\u001b[0m\u001b[1;33m,\u001b[0m\u001b[1;36m100\u001b[0m\u001b[1;33m,\u001b[0m \u001b[0mbackground\u001b[0m \u001b[1;33m=\u001b[0m \u001b[1;36m60\u001b[0m\u001b[1;33m)\u001b[0m\u001b[1;33m\u001b[0m\u001b[1;33m\u001b[0m\u001b[0m\n\u001b[0;32m      3\u001b[0m \u001b[0mgauss_image\u001b[0m \u001b[1;33m=\u001b[0m \u001b[0mgaussian_filter\u001b[0m\u001b[1;33m(\u001b[0m\u001b[0mimage\u001b[0m\u001b[1;33m,\u001b[0m\u001b[1;36m16\u001b[0m\u001b[1;33m)\u001b[0m\u001b[1;33m\u001b[0m\u001b[1;33m\u001b[0m\u001b[0m\n\u001b[0;32m      4\u001b[0m \u001b[0mf\u001b[0m\u001b[1;33m,\u001b[0m \u001b[0mtheta\u001b[0m \u001b[1;33m=\u001b[0m \u001b[0mSolv\u001b[0m\u001b[1;33m(\u001b[0m\u001b[0mOmega\u001b[0m\u001b[1;33m,\u001b[0m \u001b[0mgauss_image\u001b[0m\u001b[1;33m,\u001b[0m \u001b[0mS\u001b[0m\u001b[1;33m)\u001b[0m\u001b[1;33m\u001b[0m\u001b[1;33m\u001b[0m\u001b[0m\n\u001b[0;32m      5\u001b[0m \u001b[0msegmentation\u001b[0m \u001b[1;33m=\u001b[0m \u001b[0msegmented\u001b[0m\u001b[1;33m(\u001b[0m\u001b[0mOmega\u001b[0m\u001b[1;33m,\u001b[0m \u001b[0mgauss_image\u001b[0m\u001b[1;33m,\u001b[0m \u001b[0mf\u001b[0m\u001b[1;33m,\u001b[0m \u001b[0mtheta\u001b[0m\u001b[1;33m,\u001b[0m \u001b[0mlist\u001b[0m\u001b[1;33m(\u001b[0m\u001b[0mS\u001b[0m\u001b[1;33m)\u001b[0m\u001b[1;33m)\u001b[0m\u001b[1;33m\u001b[0m\u001b[1;33m\u001b[0m\u001b[0m\n",
      "\u001b[1;32m~\\miniconda3\\envs\\impc\\lib\\site-packages\\matplotlib\\pyplot.py\u001b[0m in \u001b[0;36mimread\u001b[1;34m(fname, format)\u001b[0m\n\u001b[0;32m   2244\u001b[0m \u001b[1;33m@\u001b[0m\u001b[0m_copy_docstring_and_deprecators\u001b[0m\u001b[1;33m(\u001b[0m\u001b[0mmatplotlib\u001b[0m\u001b[1;33m.\u001b[0m\u001b[0mimage\u001b[0m\u001b[1;33m.\u001b[0m\u001b[0mimread\u001b[0m\u001b[1;33m)\u001b[0m\u001b[1;33m\u001b[0m\u001b[1;33m\u001b[0m\u001b[0m\n\u001b[0;32m   2245\u001b[0m \u001b[1;32mdef\u001b[0m \u001b[0mimread\u001b[0m\u001b[1;33m(\u001b[0m\u001b[0mfname\u001b[0m\u001b[1;33m,\u001b[0m \u001b[0mformat\u001b[0m\u001b[1;33m=\u001b[0m\u001b[1;32mNone\u001b[0m\u001b[1;33m)\u001b[0m\u001b[1;33m:\u001b[0m\u001b[1;33m\u001b[0m\u001b[1;33m\u001b[0m\u001b[0m\n\u001b[1;32m-> 2246\u001b[1;33m     \u001b[1;32mreturn\u001b[0m \u001b[0mmatplotlib\u001b[0m\u001b[1;33m.\u001b[0m\u001b[0mimage\u001b[0m\u001b[1;33m.\u001b[0m\u001b[0mimread\u001b[0m\u001b[1;33m(\u001b[0m\u001b[0mfname\u001b[0m\u001b[1;33m,\u001b[0m \u001b[0mformat\u001b[0m\u001b[1;33m)\u001b[0m\u001b[1;33m\u001b[0m\u001b[1;33m\u001b[0m\u001b[0m\n\u001b[0m\u001b[0;32m   2247\u001b[0m \u001b[1;33m\u001b[0m\u001b[0m\n\u001b[0;32m   2248\u001b[0m \u001b[1;33m\u001b[0m\u001b[0m\n",
      "\u001b[1;32m~\\miniconda3\\envs\\impc\\lib\\site-packages\\matplotlib\\image.py\u001b[0m in \u001b[0;36mimread\u001b[1;34m(fname, format)\u001b[0m\n\u001b[0;32m   1494\u001b[0m                     \u001b[0mresponse\u001b[0m \u001b[1;33m=\u001b[0m \u001b[0mio\u001b[0m\u001b[1;33m.\u001b[0m\u001b[0mBytesIO\u001b[0m\u001b[1;33m(\u001b[0m\u001b[0mresponse\u001b[0m\u001b[1;33m.\u001b[0m\u001b[0mread\u001b[0m\u001b[1;33m(\u001b[0m\u001b[1;33m)\u001b[0m\u001b[1;33m)\u001b[0m\u001b[1;33m\u001b[0m\u001b[1;33m\u001b[0m\u001b[0m\n\u001b[0;32m   1495\u001b[0m                 \u001b[1;32mreturn\u001b[0m \u001b[0mimread\u001b[0m\u001b[1;33m(\u001b[0m\u001b[0mresponse\u001b[0m\u001b[1;33m,\u001b[0m \u001b[0mformat\u001b[0m\u001b[1;33m=\u001b[0m\u001b[0mext\u001b[0m\u001b[1;33m)\u001b[0m\u001b[1;33m\u001b[0m\u001b[1;33m\u001b[0m\u001b[0m\n\u001b[1;32m-> 1496\u001b[1;33m     \u001b[1;32mwith\u001b[0m \u001b[0mimg_open\u001b[0m\u001b[1;33m(\u001b[0m\u001b[0mfname\u001b[0m\u001b[1;33m)\u001b[0m \u001b[1;32mas\u001b[0m \u001b[0mimage\u001b[0m\u001b[1;33m:\u001b[0m\u001b[1;33m\u001b[0m\u001b[1;33m\u001b[0m\u001b[0m\n\u001b[0m\u001b[0;32m   1497\u001b[0m         return (_pil_png_to_float_array(image)\n\u001b[0;32m   1498\u001b[0m                 \u001b[1;32mif\u001b[0m \u001b[0misinstance\u001b[0m\u001b[1;33m(\u001b[0m\u001b[0mimage\u001b[0m\u001b[1;33m,\u001b[0m \u001b[0mPIL\u001b[0m\u001b[1;33m.\u001b[0m\u001b[0mPngImagePlugin\u001b[0m\u001b[1;33m.\u001b[0m\u001b[0mPngImageFile\u001b[0m\u001b[1;33m)\u001b[0m \u001b[1;32melse\u001b[0m\u001b[1;33m\u001b[0m\u001b[1;33m\u001b[0m\u001b[0m\n",
      "\u001b[1;32m~\\miniconda3\\envs\\impc\\lib\\site-packages\\PIL\\ImageFile.py\u001b[0m in \u001b[0;36m__init__\u001b[1;34m(self, fp, filename)\u001b[0m\n\u001b[0;32m    107\u001b[0m         \u001b[1;32mif\u001b[0m \u001b[0misPath\u001b[0m\u001b[1;33m(\u001b[0m\u001b[0mfp\u001b[0m\u001b[1;33m)\u001b[0m\u001b[1;33m:\u001b[0m\u001b[1;33m\u001b[0m\u001b[1;33m\u001b[0m\u001b[0m\n\u001b[0;32m    108\u001b[0m             \u001b[1;31m# filename\u001b[0m\u001b[1;33m\u001b[0m\u001b[1;33m\u001b[0m\u001b[1;33m\u001b[0m\u001b[0m\n\u001b[1;32m--> 109\u001b[1;33m             \u001b[0mself\u001b[0m\u001b[1;33m.\u001b[0m\u001b[0mfp\u001b[0m \u001b[1;33m=\u001b[0m \u001b[0mopen\u001b[0m\u001b[1;33m(\u001b[0m\u001b[0mfp\u001b[0m\u001b[1;33m,\u001b[0m \u001b[1;34m\"rb\"\u001b[0m\u001b[1;33m)\u001b[0m\u001b[1;33m\u001b[0m\u001b[1;33m\u001b[0m\u001b[0m\n\u001b[0m\u001b[0;32m    110\u001b[0m             \u001b[0mself\u001b[0m\u001b[1;33m.\u001b[0m\u001b[0mfilename\u001b[0m \u001b[1;33m=\u001b[0m \u001b[0mfp\u001b[0m\u001b[1;33m\u001b[0m\u001b[1;33m\u001b[0m\u001b[0m\n\u001b[0;32m    111\u001b[0m             \u001b[0mself\u001b[0m\u001b[1;33m.\u001b[0m\u001b[0m_exclusive_fp\u001b[0m \u001b[1;33m=\u001b[0m \u001b[1;32mTrue\u001b[0m\u001b[1;33m\u001b[0m\u001b[1;33m\u001b[0m\u001b[0m\n",
      "\u001b[1;31mFileNotFoundError\u001b[0m: [Errno 2] No such file or directory: '../images/dna-images/gnf/dna-0.png'"
     ]
    }
   ],
   "source": [
    "image = plt.imread('../images/dna-images/gnf/dna-0.png')[200:500, 200:500,0]\n",
    "Omega,S = generate_fragments(image,16,0.01,20,2,100, background = 60)\n",
    "gauss_image = gaussian_filter(image,16)\n",
    "f, theta = Solv(Omega, gauss_image, S)\n",
    "segmentation = segmented(Omega, gauss_image, f, theta, list(S))\n",
    "plt.imshow(segmentation)\n",
    "plt.colorbar()"
   ]
  },
  {
   "cell_type": "code",
   "execution_count": 10,
   "id": "17acb32c",
   "metadata": {},
   "outputs": [
    {
     "name": "stderr",
     "output_type": "stream",
     "text": [
      "100%|██████████| 1/1 [00:05<00:00,  5.96s/it]\n"
     ]
    },
    {
     "data": {
      "text/plain": [
       "<matplotlib.colorbar.Colorbar at 0x7fc9b10ff9a0>"
      ]
     },
     "execution_count": 10,
     "metadata": {},
     "output_type": "execute_result"
    },
    {
     "data": {
      "image/png": "[encoded data removed]",
      "text/plain": [
       "<Figure size 432x288 with 2 Axes>"
      ]
     },
     "metadata": {
      "needs_background": "light"
     },
     "output_type": "display_data"
    }
   ],
   "source": [
    "image = plt.imread('dna-0.png')[...,0]\n",
    "S = {frozenset([1])}\n",
    "Omega = np.ones_like(image,dtype=int)\n",
    "f, theta = Solv(Omega,image,S)\n",
    "segmentation = segmented(Omega, image, f, theta, list(S))\n",
    "plt.imshow(segmentation)\n",
    "plt.colorbar()"
   ]
  },
  {
   "cell_type": "code",
   "execution_count": 14,
   "id": "0b298fe4",
   "metadata": {},
   "outputs": [
    {
     "data": {
      "text/plain": [
       "<matplotlib.image.AxesImage at 0x7fc9b10bb820>"
      ]
     },
     "execution_count": 14,
     "metadata": {},
     "output_type": "execute_result"
    },
    {
     "data": {
      "image/png": "[encoded data removed]",
      "text/plain": [
       "<Figure size 432x288 with 1 Axes>"
      ]
     },
     "metadata": {
      "needs_background": "light"
     },
     "output_type": "display_data"
    }
   ],
   "source": [
    "plt.imshow(image)"
   ]
  },
  {
   "cell_type": "code",
   "execution_count": 11,
   "id": "467df396",
   "metadata": {},
   "outputs": [
    {
     "data": {
      "text/plain": [
       "<matplotlib.colorbar.Colorbar at 0x2338d4afbe0>"
      ]
     },
     "execution_count": 11,
     "metadata": {},
     "output_type": "execute_result"
    },
    {
     "data": {
      "image/png": "[encoded data removed]",
      "text/plain": [
       "<Figure size 432x288 with 2 Axes>"
      ]
     },
     "metadata": {
      "needs_background": "light"
     },
     "output_type": "display_data"
    }
   ],
   "source": [
    "plt.imshow(Omega)\n",
    "plt.colorbar()"
   ]
  },
  {
   "cell_type": "code",
   "execution_count": null,
   "id": "ba0b4b6f",
   "metadata": {},
   "outputs": [],
   "source": [
    "def optimise_fragments(ListOfImages):\n",
    "    theta = []\n",
    "    f = []\n",
    "    r = Parallel(n_jobs = 1, verbose = 10)(delayed(Solv)(image) for image in ListOfImages)\n",
    "    theta, f = zip(*r)\n",
    "    return theta, f"
   ]
  },
  {
   "cell_type": "code",
   "execution_count": null,
   "id": "bb5eb3ae",
   "metadata": {},
   "outputs": [],
   "source": [
    "def optimise_fragments(ListOfImages):\n",
    "    theta = []\n",
    "    f = []\n",
    "    for image in ListOfImages:\n",
    "        theta.append(Solv(image)[0])\n",
    "        f.append(Solv(image)[1])\n",
    "    return theta, f"
   ]
  },
  {
   "cell_type": "code",
   "execution_count": null,
   "id": "c90a6e50",
   "metadata": {},
   "outputs": [],
   "source": [
    "def create_images(image, Omega, S):\n",
    "    ListOfImages = []\n",
    "    for k in range(len(S)):\n",
    "        ListOfRegions = [regionprops(Omega)[i-1] for i in list(S[k])]\n",
    "        sub_img = np.zeros_like(image)\n",
    "        bboxes = np.array([region.bbox for region in ListOfRegions])\n",
    "        bbox = (min(bboxes[:,0]), max(bboxes[:,2]), min(bboxes[:,1]),  max(bboxes[:,3]))\n",
    "        for reg in ListOfRegions:\n",
    "            sub_img[reg.slice] = image[reg.slice]   \n",
    "        ListOfImages.append(sub_img[bbox[0]:bbox[1], bbox[2]:bbox[3]])\n",
    "    return ListOfImages"
   ]
  },
  {
   "cell_type": "code",
   "execution_count": null,
   "id": "578e6068",
   "metadata": {},
   "outputs": [],
   "source": [
    "def create_images(image, Omega, S):\n",
    "    ListOfImages = []\n",
    "    for k in range(len(S)):\n",
    "        ListOfRegions = [regionprops(Omega)[i-1] for i in list(S[k])]\n",
    "        sub_img = np.zeros_like(image)\n",
    "        for reg in ListOfRegions:\n",
    "            for x in reg.coords:\n",
    "                sub_img[x[0]][x[1]] = image[x[0]][x[1]]\n",
    "        ListOfImages.append(sub_img)\n",
    "    return ListOfImages"
   ]
  }
 ],
 "metadata": {
  "interpreter": {
   "hash": "916dbcbb3f70747c44a77c7bcd40155683ae19c65e1c03b4aa3499c5328201f1"
  },
  "kernelspec": {
   "display_name": "Python 3",
   "language": "python",
   "name": "python3"
  },
  "language_info": {
   "codemirror_mode": {
    "name": "ipython",
    "version": 3
   },
   "file_extension": ".py",
   "mimetype": "text/x-python",
   "name": "python",
   "nbconvert_exporter": "python",
   "pygments_lexer": "ipython3",
   "version": "3.9.4"
  }
 },
 "nbformat": 4,
 "nbformat_minor": 5
}
