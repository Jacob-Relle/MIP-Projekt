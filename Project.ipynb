{
 "cells": [
  {
   "cell_type": "code",
   "execution_count": 60,
   "id": "ac97d413",
   "metadata": {},
   "outputs": [],
   "source": [
    "import numpy as np\n",
    "import matplotlib.pyplot as plt\n",
    "import itertools\n",
    "import networkx as nx \n",
    "from scipy.ndimage import gaussian_filter\n",
    "\n",
    "from skimage.segmentation import watershed\n",
    "from skimage.measure import label, regionprops, euler_number\n",
    "from skimage.future.graph import RAG\n",
    "from sknetwork.path import distance\n",
    "from skimage import util\n",
    "from skimage import filters\n",
    "\n",
    "from tqdm import tqdm\n",
    "import pylab\n",
    "\n",
    "# import sknetwork as skn\n",
    "# from scipy import sparse\n",
    "# from skimage.morphology import disk"
   ]
  },
  {
   "cell_type": "code",
   "execution_count": 3,
   "id": "c06d3fdd",
   "metadata": {},
   "outputs": [],
   "source": [
    "#get image and define the image space\n",
    "image = plt.imread('../images/dna-images/gnf/dna-0.png')[...,0]\n",
    "image_range = np.array([[i,j]for i in range(image.shape[0]) for j in range(image.shape[1])])"
   ]
  },
  {
   "cell_type": "code",
   "execution_count": null,
   "id": "6d6e39eb",
   "metadata": {},
   "outputs": [],
   "source": [
    "sub_img = np.zeros(img.shape, dtype=bool)\n",
    "                for label in Nodes:\n",
    "                    img_label = Omega == label\n",
    "                    sub_img += img_label\n",
    "                if euler_number(sub_img) == 1:"
   ]
  },
  {
   "cell_type": "markdown",
   "id": "af8c7b59",
   "metadata": {},
   "source": [
    "## Algorithm I"
   ]
  },
  {
   "cell_type": "code",
   "execution_count": 75,
   "id": "82f538d9",
   "metadata": {},
   "outputs": [],
   "source": [
    "def generate_fragments(img,std_dev,int_threshold,min_seed_dist,max_search_depth,max_frag_dist):\n",
    "    #smooth image with gausian filter\n",
    "    g = gaussian_filter(img,std_dev)\n",
    "    #create empty copy of g to fill watersheed markers\n",
    "    g_markers = np.zeros_like(g)\n",
    "    #create empty copy of g to check for localmax\n",
    "    g_checked = np.copy(g)\n",
    "    \n",
    "    #Fehlerabfangen\n",
    "    \n",
    "    if std_dev < 0:\n",
    "        raise ValueError(\"smoothing strength needs to be positive\")\n",
    "    if int_threshold > 1 or int_threshold < 0:\n",
    "        raise ValueError(\"relative intensity threshold needs to be between 0 and 1\")\n",
    "    if min_seed_dist < 1:\n",
    "        raise ValueError(\"min seed distance needs to be >= 1\")\n",
    "    if max_search_depth < 0:\n",
    "        raise ValueError(\"maximum search error needs to be positive\")\n",
    "    if max_frag_dist < 0:\n",
    "        raise ValueError(\"maximum fragments distance needs zo be positive\")\n",
    "        \n",
    "    #Create array of watershed seeds\n",
    "    PI = []\n",
    "    #Loop while there are still unchecked regions\n",
    "    while np.amax(g_checked) != 0:\n",
    "        #Get indicies of g where g is maximal\n",
    "        glob_max = np.argwhere(g_checked == g_checked.max())\n",
    "        #Loop over all maximum points\n",
    "        for p in glob_max:\n",
    "            #Set boundaries for the local ball B\n",
    "            upper_bound = [max(0,p[0]-min_seed_dist),max(0,p[1]-min_seed_dist)]\n",
    "            lower_bound = [min(p[0]+min_seed_dist+1,g.shape[0]),min(p[1]+min_seed_dist+1,g.shape[1])]\n",
    "            #Create set with local points around p\n",
    "            B = g[upper_bound[0]:lower_bound[0],upper_bound[1]:lower_bound[1]]\n",
    "            #Check if p is strong local maximum\n",
    "            if (g[tuple(p)] == np.amax(B) and (1-int_threshold)*g[tuple(p)] >= np.amin(B)): \n",
    "                #add p to the set of seeds\n",
    "                PI.append(p)\n",
    "                #Set label of the seed\n",
    "                g_markers[tuple(p)] = len(PI)\n",
    "            #Set the Area B = 0\n",
    "            g_checked[upper_bound[0]:lower_bound[0],upper_bound[1]:lower_bound[1]] = 0\n",
    "    \n",
    "    #Create Watershed regions\n",
    "    Omega = watershed(util.invert(g),markers=g_markers)\n",
    "\n",
    "    #create regions\n",
    "    regions = regionprops(Omega)\n",
    "    \n",
    "    #Create edges\n",
    "    edges = []\n",
    "    for ra, rb in tqdm(itertools.combinations(regions,2), total = int(0.5 * len(regions) * (len(regions)-1))):\n",
    "        img_a = Omega == ra.label\n",
    "        img_b = Omega == rb.label\n",
    "        img_ab = (img_a + img_b) > 0\n",
    "        if euler_number(img_ab) == 1 and np.linalg.norm(PI[ra.label -1] - PI[rb.label-1]) <= max_frag_dist:\n",
    "            edges.append((ra.label-1, rb.label-1))\n",
    "    G = nx.Graph(edges)\n",
    "    #nx.draw(G, with_labels = True)\n",
    "\n",
    "    SG = []\n",
    "\n",
    "    for r in tqdm(range(2,nx.number_of_nodes(G)+1)):\n",
    "        for H in (G.subgraph(s) for s in itertools.combinations(G,r)):\n",
    "            if (nx.is_connected(H)):\n",
    "                SG.append(H)\n",
    "    S = []\n",
    "    #iterate over all subgraphs\n",
    "    for H in tqdm(SG):\n",
    "        for v in nx.nodes(H):\n",
    "            if max(nx.single_source_shortest_path_length(H, v).values()) <= max_search_depth:\n",
    "                Nodes = tuple([w for w in nx.nodes(H)])\n",
    "                #the merging of the regions of the subgraphs need to be simply connected\n",
    "                sub_img = np.zeros(img.shape, dtype=bool)\n",
    "                for label in Nodes:\n",
    "                    img_label = Omega == label\n",
    "                    sub_img += img_label\n",
    "                if euler_number(sub_img) == 1:\n",
    "                    S.append(Nodes)\n",
    "                    break\n",
    "    S = [set(x) for x in S]\n",
    "    for i in range(len(regions)):\n",
    "        if regions[i].euler_number == 1:\n",
    "            S.append({i})\n",
    "    return Omega,S,G"
   ]
  },
  {
   "cell_type": "markdown",
   "id": "b26da0b6",
   "metadata": {},
   "source": [
    "###  Test: Algorithm I"
   ]
  },
  {
   "cell_type": "code",
   "execution_count": 84,
   "id": "d8f27465",
   "metadata": {},
   "outputs": [
    {
     "name": "stderr",
     "output_type": "stream",
     "text": [
      "100%|██████████████████████████████████████████████████████████████████████████████| 1953/1953 [01:31<00:00, 21.38it/s]\n",
      "100%|██████████████████████████████████████████████████████████████████████████████████| 20/20 [01:01<00:00,  3.08s/it]\n",
      "100%|████████████████████████████████████████████████████████████████████████████████| 16/16 [00:00<00:00, 1663.79it/s]\n"
     ]
    }
   ],
   "source": [
    "#testing Alg I\n",
    "Omega,S,G = generate_fragments(image,16,0.01,20,2,100)"
   ]
  },
  {
   "cell_type": "code",
   "execution_count": 85,
   "id": "c60b08bf",
   "metadata": {},
   "outputs": [
    {
     "data": {
      "text/plain": [
       "<matplotlib.colorbar.Colorbar at 0x2553a27d040>"
      ]
     },
     "execution_count": 85,
     "metadata": {},
     "output_type": "execute_result"
    },
    {
     "data": {
      "image/png": "[encoded data removed]",
      "text/plain": [
       "<Figure size 432x288 with 2 Axes>"
      ]
     },
     "metadata": {
      "needs_background": "light"
     },
     "output_type": "display_data"
    }
   ],
   "source": [
    "plt.imshow(Omega)\n",
    "plt.colorbar()"
   ]
  },
  {
   "cell_type": "code",
   "execution_count": 86,
   "id": "988d060c",
   "metadata": {},
   "outputs": [
    {
     "data": {
      "image/png": "[encoded data removed]",
      "text/plain": [
       "<Figure size 432x288 with 1 Axes>"
      ]
     },
     "metadata": {},
     "output_type": "display_data"
    }
   ],
   "source": [
    "nx.draw(G, with_labels = True)"
   ]
  },
  {
   "cell_type": "code",
   "execution_count": 99,
   "id": "490b0a50",
   "metadata": {},
   "outputs": [
    {
     "data": {
      "text/plain": [
       "1"
      ]
     },
     "execution_count": 99,
     "metadata": {},
     "output_type": "execute_result"
    },
    {
     "data": {
      "image/png": "[encoded data removed]",
      "text/plain": [
       "<Figure size 432x288 with 1 Axes>"
      ]
     },
     "metadata": {
      "needs_background": "light"
     },
     "output_type": "display_data"
    }
   ],
   "source": [
    "img_a = Omega == 60\n",
    "img_b = Omega == 61\n",
    "img_c = Omega == 62\n",
    "img_d = Omega == 63\n",
    "\n",
    "plt.imshow(img_a+img_b+img_c+img_d)\n",
    "\n",
    "euler_number(img_a + img_b + img_c + img_d)"
   ]
  },
  {
   "cell_type": "code",
   "execution_count": 97,
   "id": "c32334a6",
   "metadata": {},
   "outputs": [
    {
     "data": {
      "text/plain": [
       "1"
      ]
     },
     "execution_count": 97,
     "metadata": {},
     "output_type": "execute_result"
    }
   ],
   "source": [
    "regionprops(Omega)[0].label"
   ]
  },
  {
   "cell_type": "markdown",
   "id": "09fc8617",
   "metadata": {},
   "source": [
    "### Algorithm II"
   ]
  },
  {
   "cell_type": "code",
   "execution_count": 7,
   "id": "5368717f",
   "metadata": {},
   "outputs": [],
   "source": [
    "def global_solution(f,alpha,Omega,S):\n",
    "    #Set Variables we dont need Z but f_used\n",
    "    n = len(S) \n",
    "    u = np.zeros(n)\n",
    "    V = Omega\n",
    "    f_used = np.copy(f)\n",
    "    #First Loop over copy of Omega\n",
    "    while V != 0:\n",
    "        c = np.empty(n)\n",
    "        #Loop over number of Subgraphs in S\n",
    "        for k in range(n):\n",
    "            #Set intersection length\n",
    "            Zk_V = len(np.intersect1d(Omega,np.array(list(S[k]))))\n",
    "            #Set c if intersection is non empty \n",
    "            if  Zk_V !=0:\n",
    "                c[k] = (f[k] + alpha) / Zk_V\n",
    "            #Else set it to nan to ignore it\n",
    "            else:\n",
    "                c[k] = np.nan\n",
    "        #Get the argmin of c\n",
    "        k_min = np.nanargmin(c)\n",
    "        #Set u of argmin to 1\n",
    "        u[k_min] = 1 \n",
    "        #Loop over all areas in Z_k\n",
    "        for w in S[k]:\n",
    "            #Set V of those areas to 0 to indicate that they have been used already\n",
    "            V[V==w] = 0\n",
    "    \n",
    "    #Second loop over not used elements of f\n",
    "    while f_used != np.empty(n):\n",
    "        #Set current element of interest k_prim\n",
    "        k_prim = np.nanargmin(f_used)\n",
    "        #check if u[_k_prim hasn been used in first loop\n",
    "        if u[k_prim]==0:\n",
    "            #crate subvector v of u\n",
    "            v = np.copy(u)\n",
    "            #loop over all elements of u that are non zero\n",
    "            for ind in np.nonzero(u):\n",
    "                #check if Z_ind is subset of Z_kprim\n",
    "                if S[ind] not in S[k_prim]:\n",
    "                    #if not set v to 0 to ignore it in the union\n",
    "                    v[ind] = 0\n",
    "            #check if union of all left subsets is equal Z_kprim\n",
    "            if S[k_prim] == set().union(S[k] for k in np.nonzero(v)):\n",
    "                #check smth...\n",
    "                if f[k_prim]+alpha < np.dot(v,f + (alpha*np.ones(n))):\n",
    "                    #Set u values of the used subsets to 0 and the union to 1\n",
    "                    u = u-v\n",
    "                    u[k_prim] = 1\n",
    "        #make f equal to nan for the used region\n",
    "        f_used[k_prim]=np.nan\n",
    "    return u"
   ]
  },
  {
   "cell_type": "code",
   "execution_count": 8,
   "id": "940ea377",
   "metadata": {},
   "outputs": [],
   "source": [
    "#Computation of the intensity threshold\n",
    "def Otsu_thresholding(Z):\n",
    "    #Set Number of bins 256 for 8-bit\n",
    "    L = 256\n",
    "    #Set number of pixel in area Z\n",
    "    N = Z.size\n",
    "    #Get the grayvalue histogramm\n",
    "    hist, _ = np.histogram(Z,bins=L)\n",
    "    #normalize to get probability distribution\n",
    "    hist = hist/N\n",
    "    #function with all variables needed to compute sigma^2_B corresponding to the k-th bin\n",
    "    def get_sigma(k):\n",
    "        w = sum(hist[:k+1])\n",
    "        w_0 = w\n",
    "        w_1 = 1 - w\n",
    "        #ignore certain bins according to restricten\n",
    "        if w_0*w_1 > 0 or 0 < w_0 < 1:\n",
    "            my = lambda k: sum(i*hist[i] for i in range(k+1))\n",
    "            my_0 = my(k)/w\n",
    "            my_1 = (my(L-1)-my(k))/w_1\n",
    "            sigma_B = w_0*w_1*(my_1-my_0)**2\n",
    "            return sigma_B\n",
    "        else:\n",
    "            return 0\n",
    "    #compute sigma for all k\n",
    "    sigma_B_all = np.array([get_sigma(k) for k in range(L)])\n",
    "    #get the bin with wich maximizes sigma \n",
    "    k_max = np.argmax(sigma_B_all)\n",
    "    #rescale the bin number to the value range of the local area to optain intensity threshold\n",
    "    tau = k_max*np.max(Z)/(256)\n",
    "    return tau"
   ]
  },
  {
   "cell_type": "code",
   "execution_count": 106,
   "id": "aa9a8982",
   "metadata": {},
   "outputs": [
    {
     "data": {
      "image/png": "[encoded data removed]",
      "text/plain": [
       "<Figure size 432x288 with 1 Axes>"
      ]
     },
     "metadata": {
      "needs_background": "light"
     },
     "output_type": "display_data"
    }
   ],
   "source": [
    "#Test Otsu threshold\n",
    "#Set label vector\n",
    "labels = np.unique(Omega)\n",
    "#Set Vector of local intensity threshold tau coresponding to area with label \n",
    "tau = [Otsu_thresholding(image[Omega==label])for label in labels]\n",
    "#copy image to check threshold\n",
    "background = np.copy(image)\n",
    "#loop over all labeled regions and apply threshold\n",
    "for i in range(len(tau)):\n",
    "    background[np.multiply(Omega==i+1,background < tau[i])] = 0\n",
    "    background[np.multiply(Omega==i+1,background >= tau[i])] = 1\n",
    "plt.imshow(background)\n",
    "plt.show()\n",
    "\n",
    "#TODO Compute f --> get alpha as median of f"
   ]
  },
  {
   "cell_type": "markdown",
   "id": "55a2984a",
   "metadata": {},
   "source": [
    "## Computation of f"
   ]
  },
  {
   "cell_type": "markdown",
   "id": "8c39b601",
   "metadata": {},
   "source": [
    "we define $y$ as an array consisting of len(Omega) rows, each corresponding to a region. Each row consists of int values corresponding to y_x as defined in paper for $\\{x: x \\text{ pixel in region}\\}$."
   ]
  },
  {
   "cell_type": "code",
   "execution_count": 138,
   "id": "8bc40a6d",
   "metadata": {},
   "outputs": [],
   "source": [
    "y = [image[region.slice] - tau[region.label - 1] for region in regionprops(Omega)]\n",
    "\n",
    "#define R_k\n",
    "R = np.copy(S)\n",
    "\n",
    "for Z in R:\n",
    "    for region in regionprops(Omega):\n",
    "        #check if y_x < 0 for every x pixel in region\n",
    "        if (y[region.label - 1].max()) < 0:\n",
    "            Z.add(region.label)"
   ]
  },
  {
   "cell_type": "code",
   "execution_count": 139,
   "id": "772af9da",
   "metadata": {},
   "outputs": [
    {
     "name": "stdout",
     "output_type": "stream",
     "text": [
      "[{0, 2} {4, 5} {9, 10} {10, 12} {11, 12} {16, 15} {17, 15} {16, 17}\n",
      " {17, 18} {17, 19} {18, 19} {18, 20} {20, 21} {20, 22} {21, 22} {22, 23}\n",
      " {24, 25} {28, 29} {9, 10, 12} {10, 11, 12} {16, 17, 15} {17, 18, 15}\n",
      " {17, 19, 15} {16, 17, 18} {16, 17, 19} {17, 18, 19} {17, 18, 20}\n",
      " {18, 19, 20} {18, 20, 21} {18, 20, 22} {20, 21, 22} {20, 22, 23}\n",
      " {21, 22, 23} {9, 10, 11, 12} {16, 17, 18, 15} {16, 17, 19, 15}\n",
      " {17, 18, 19, 15} {17, 18, 20, 15} {16, 17, 18, 19} {16, 17, 18, 20}\n",
      " {17, 18, 19, 20} {17, 18, 20, 21} {17, 18, 20, 22} {18, 19, 20, 21}\n",
      " {18, 19, 20, 22} {18, 20, 21, 22} {18, 20, 22, 23} {20, 21, 22, 23}\n",
      " {15, 16, 17, 18, 19} {15, 16, 17, 18, 20} {15, 17, 18, 19, 20}\n",
      " {15, 17, 18, 20, 21} {15, 17, 18, 20, 22} {16, 17, 18, 19, 20}\n",
      " {16, 17, 18, 20, 21} {16, 17, 18, 20, 22} {17, 18, 19, 20, 21}\n",
      " {17, 18, 19, 20, 22} {17, 18, 20, 21, 22} {17, 18, 20, 22, 23}\n",
      " {18, 19, 20, 21, 22} {18, 19, 20, 22, 23} {18, 20, 21, 22, 23}\n",
      " {15, 16, 17, 18, 19, 20} {15, 16, 17, 18, 20, 21}\n",
      " {15, 16, 17, 18, 20, 22} {15, 17, 18, 19, 20, 21}\n",
      " {15, 17, 18, 19, 20, 22} {15, 17, 18, 20, 21, 22}\n",
      " {16, 17, 18, 19, 20, 21} {16, 17, 18, 19, 20, 22}\n",
      " {16, 17, 18, 20, 21, 22} {17, 18, 19, 20, 21, 22}\n",
      " {17, 18, 19, 20, 22, 23} {17, 18, 20, 21, 22, 23}\n",
      " {18, 19, 20, 21, 22, 23} {15, 16, 17, 18, 19, 20, 21}\n",
      " {15, 16, 17, 18, 19, 20, 22} {15, 16, 17, 18, 20, 21, 22}\n",
      " {15, 17, 18, 19, 20, 21, 22} {16, 17, 18, 19, 20, 21, 22}\n",
      " {17, 18, 19, 20, 21, 22, 23} {15, 16, 17, 18, 19, 20, 21, 22} {0} {1} {2}\n",
      " {3} {4} {5} {6} {7} {8} {9} {10} {11} {12} {13} {14} {15} {16} {17} {18}\n",
      " {19} {20} {21} {22} {23} {24} {25} {26} {27} {28} {29}]\n"
     ]
    }
   ],
   "source": [
    "print(R)"
   ]
  },
  {
   "cell_type": "markdown",
   "id": "ce79c06d",
   "metadata": {},
   "source": [
    "## Questions\n",
    "Do we know how to define A etc. to implement s to be tested?"
   ]
  },
  {
   "cell_type": "code",
   "execution_count": 119,
   "id": "9896f654",
   "metadata": {},
   "outputs": [
    {
     "ename": "TypeError",
     "evalue": "bad operand type for unary -: 'function'",
     "output_type": "error",
     "traceback": [
      "\u001b[1;31m---------------------------------------------------------------------------\u001b[0m",
      "\u001b[1;31mTypeError\u001b[0m                                 Traceback (most recent call last)",
      "\u001b[1;32m<ipython-input-119-b5253011ed90>\u001b[0m in \u001b[0;36m<module>\u001b[1;34m\u001b[0m\n\u001b[0;32m      1\u001b[0m \u001b[1;31m# define phi\u001b[0m\u001b[1;33m\u001b[0m\u001b[1;33m\u001b[0m\u001b[1;33m\u001b[0m\u001b[0m\n\u001b[1;32m----> 2\u001b[1;33m \u001b[0mphi\u001b[0m \u001b[1;33m=\u001b[0m \u001b[0mnp\u001b[0m\u001b[1;33m.\u001b[0m\u001b[0mlog\u001b[0m\u001b[1;33m(\u001b[0m\u001b[1;36m1\u001b[0m\u001b[1;33m+\u001b[0m\u001b[0mnp\u001b[0m\u001b[1;33m.\u001b[0m\u001b[0mexp\u001b[0m\u001b[1;33m(\u001b[0m\u001b[1;33m-\u001b[0m\u001b[0my\u001b[0m\u001b[1;33m*\u001b[0m\u001b[0ms\u001b[0m\u001b[1;33m)\u001b[0m\u001b[1;33m)\u001b[0m\u001b[1;33m\u001b[0m\u001b[1;33m\u001b[0m\u001b[0m\n\u001b[0m",
      "\u001b[1;31mTypeError\u001b[0m: bad operand type for unary -: 'function'"
     ]
    }
   ],
   "source": [
    "#need to define s\n",
    "\n",
    "# define phi\n",
    "phi = np.log(1+np.exp(-y*s))"
   ]
  }
 ],
 "metadata": {
  "interpreter": {
   "hash": "916dbcbb3f70747c44a77c7bcd40155683ae19c65e1c03b4aa3499c5328201f1"
  },
  "kernelspec": {
   "display_name": "Python 3",
   "language": "python",
   "name": "python3"
  },
  "language_info": {
   "codemirror_mode": {
    "name": "ipython",
    "version": 3
   },
   "file_extension": ".py",
   "mimetype": "text/x-python",
   "name": "python",
   "nbconvert_exporter": "python",
   "pygments_lexer": "ipython3",
   "version": "3.9.4"
  }
 },
 "nbformat": 4,
 "nbformat_minor": 5
}
