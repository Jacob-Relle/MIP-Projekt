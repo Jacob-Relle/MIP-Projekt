{
 "cells": [
  {
   "cell_type": "code",
   "execution_count": 6,
   "id": "1f277c37",
   "metadata": {},
   "outputs": [],
   "source": [
    "import numpy as np\n",
    "import matplotlib.pyplot as plt\n",
    "import itertools #used to generate subsets\n",
    "from scipy.ndimage import gaussian_filter\n",
    "from skimage.segmentation import watershed\n",
    "from sknetwork.path import distance\n",
    "\n",
    "# import sknetwork as skn\n",
    "# from scipy import sparse\n",
    "# import networkx as nx can be used if we need more advanced graphs data structure"
   ]
  },
  {
   "cell_type": "code",
   "execution_count": null,
   "id": "d2fa880d",
   "metadata": {},
   "outputs": [],
   "source": [
    "#get image and define the image space\n",
    "g = #image_here\n",
    "image_range = zip(range(image.shape[0]),range(image.shape[1]))"
   ]
  },
  {
   "cell_type": "code",
   "execution_count": 2,
   "id": "43977881",
   "metadata": {},
   "outputs": [],
   "source": [
    "def B_delta(p,delta): #rename suggestion: delta ball\n",
    "    B = set()\n",
    "    for q in image_range:\n",
    "        if np.linalg.norm(p-q)<= delta:\n",
    "            B.add(q)\n",
    "    return B"
   ]
  },
  {
   "cell_type": "markdown",
   "id": "e4f79299",
   "metadata": {},
   "source": [
    "### Algorithm I"
   ]
  },
  {
   "cell_type": "code",
   "execution_count": 4,
   "id": "430d7091",
   "metadata": {},
   "outputs": [],
   "source": [
    "def generate_subgraphs(adjacency):\n",
    "    #TODO Fehlerabfangen: adjacency symmetric etc.\n",
    "    dim = adjacency.shape[0]\n",
    "    vertices = range(dim)\n",
    "    S = {}\n",
    "    for length in range(2, dim+1):\n",
    "        for subs in list(itertools.combinations(vertices, length)):\n",
    "            sub_adj = np.zeros((dim, dim))\n",
    "            if all(adjacency[np.ix_(subs, subs)][k].any(0) > 0 for k in range(len(subs))):\n",
    "                S[subs] = adjacency[np.ix_(subs, subs)]\n",
    "               #ise this if we need adjacency matrix with original dim \n",
    "               # for nodes in subs:\n",
    "               #     for neighbours in subs:\n",
    "               #         sub_adj[nodes][neighbours] = adjacency[nodes][neighbours]\n",
    "               #         sub_adj[neighbours][nodes] = adjacency[nodes][neighbours]\n",
    "               # S[subs] = sub_adj\n",
    "    return S\n",
    "\n",
    "#TODO: einelementige Teilmengen"
   ]
  },
  {
   "cell_type": "code",
   "execution_count": null,
   "id": "ca726864",
   "metadata": {},
   "outputs": [],
   "source": [
    "#TODO\n",
    "def is_connected(adjacency):\n",
    "    #will do when we're sure what simply connected means"
   ]
  },
  {
   "cell_type": "code",
   "execution_count": 3,
   "id": "f38150a2",
   "metadata": {},
   "outputs": [],
   "source": [
    "# Work in Progress to generate all connected subgraphs via a DFS approach.\n",
    "# Current Problem: error that U.pop() wants to pop an empty list, but idk why it's empty\n",
    "\n",
    "def generate_connected_subgraphs(adjacency, node): #adjacency needs to be a numpy array\n",
    "    #TODO: Fehlerabfangen, dass adjacency gültige Form hat\n",
    "    dim = adjacency.shape[0]\n",
    "    if node > dim:\n",
    "        ValueError(\"Nodes are counted starting 0.\")\n",
    "    T = np.ones(dim)    \n",
    "    S = np.zeros(dim)\n",
    "    U = []\n",
    "    U.append(node)\n",
    "    T[node] = 0\n",
    "    \n",
    "    adj_graph = np.zeros((dim, dim))\n",
    "    Matrices = []\n",
    "    \n",
    "    while U != [] or T != np.zeros(dim):\n",
    "        if U != []:\n",
    "            v = U[-1]\n",
    "            for i in np.where(adjacency[v] == 1)[0]:\n",
    "                if T[i] == 1:\n",
    "                    U.append(i)\n",
    "                    T[i] = 0\n",
    "                    adj_graph[v][i] = 1\n",
    "                    adj_graph[i][v] = 1\n",
    "                    Matrices.append(adj_graph)\n",
    "                else:\n",
    "                    S[i] = 1\n",
    "                    U.pop()\n",
    "    return Matrices"
   ]
  },
  {
   "cell_type": "code",
   "execution_count": 14,
   "id": "8d52b394",
   "metadata": {},
   "outputs": [],
   "source": [
    "def generate_fragments(img,std_dev,int_treshold,min_seed_dist,max_search_depth,max_frag_dist):\n",
    "    g = gaussian_filter(img,std_dev)\n",
    "    g_copy = np.copy(g)\n",
    "    \n",
    "    #Fehlerabfangen\n",
    "    \n",
    "    if std_dev < 0:\n",
    "        raise ValueError(\"smoothing strength needs to be positive\")\n",
    "    if int_threshold > 1 or int_threshold < 0:\n",
    "        raise ValueError(\"relative intensity threshold needs to be between 0 and 1\")\n",
    "    if min_seed_dist < 1:\n",
    "        raise ValueError(\"min seed distance needs to be >= 1\")\n",
    "    if max_search_depth < 0:\n",
    "        raise ValueError(\"maximum search error needs to be positive\")\n",
    "    if max_frag_dist < 0:\n",
    "        raise ValueError(\"maximum fragments distance needs zo be positive\")\n",
    "        \n",
    "    \n",
    "    PI = []\n",
    "    for p in image_range:\n",
    "        B = B_delta(p,min_seed_dist)\n",
    "        if (g[p]== max(g[q] for q in B)) and (1-int_treshold)*g[p]>=min(g[q] for q in B): \n",
    "            PI.append(p) \n",
    "            g_copy[p] = len(PI) \n",
    "        else:\n",
    "            g_copy[p]=0   \n",
    "    \n",
    "    Omega = []\n",
    "    Labels = watershed(img,markers=g_copy)\n",
    "    for label in range(1,len(PI)+1):\n",
    "        w = np.argwhere(Labels==label) #Das sind nur die indizies der Region\n",
    "        Omega.append(w)\n",
    "        \n",
    "    Epsilon = np.zeros((len(Omega), len(Omega)))\n",
    "    for i,_ in enumerate(Omega[:-1]):\n",
    "        for j,_ in enumerate(Omega[i+1:], start = i+1):\n",
    "            #adjacency\n",
    "            #local intensity peaks r(w)??\n",
    "            if np.linalg.norm(PI[i] - PI[j]) <= max_frag_dist:\n",
    "                Epsilon[i][j] = 1\n",
    "                Epsilon[j][i] = 1\n",
    "                \n",
    "   # Epsilon = set()\n",
    "   # for i,w in enumerate(Omega[:-1]):\n",
    "   #     for j,v in enumerate(Omega[i+1:],start=i+1):\n",
    "   #         #What is adjacency?\n",
    "   #         if (x+(e,0) in v or x+(0,e) in v for x in w for e in (1,-1)) and np.linalg.norm(PI[i] - PI[j]) <= max_frag_dist:\n",
    "   #             Epsilon.add({w,v})\n",
    "            \n",
    "    S = set()\n",
    "    subgraphs_set = generate_subgraphs(Epsilon)\n",
    "    #TODO: add simply connected if-Abfrage\n",
    "    for i in range(Epsilon.shape[0]): #iterate over all graph vertices\n",
    "        for subs in subgraphs_set.keys(): \n",
    "            if i in range(len(subs)): #find all subgraphs that have i as a node\n",
    "                dist_matrix = distance(subgraphs_set[subs], method = 'D') #return distance matrix of graph subs\n",
    "                if dist_matrix[i].max(0) <= h:\n",
    "                    for k in subs:\n",
    "                        S.add(k)\n",
    "                    #del subgraphs_set[subs] #this changes size during itertaion, ungünstig\n",
    "                    #find a way to not iterate over subgraphs we've already worked with\n",
    "    return Omega, S\n",
    "\n",
    "#TODO: find index of i in subs: distance_matrix[subs == i]\n",
    "#      S.add(subs) anstatt s.add(k) "
   ]
  },
  {
   "cell_type": "markdown",
   "id": "5ba771e2",
   "metadata": {},
   "source": [
    "###  testing out graphs"
   ]
  },
  {
   "cell_type": "code",
   "execution_count": 7,
   "id": "34d9e5c1",
   "metadata": {},
   "outputs": [
    {
     "ename": "IndexError",
     "evalue": "index 2 is out of bounds for axis 0 with size 2",
     "output_type": "error",
     "traceback": [
      "\u001b[1;31m---------------------------------------------------------------------------\u001b[0m",
      "\u001b[1;31mIndexError\u001b[0m                                Traceback (most recent call last)",
      "\u001b[1;32m<ipython-input-7-2b93379def39>\u001b[0m in \u001b[0;36m<module>\u001b[1;34m\u001b[0m\n\u001b[0;32m      7\u001b[0m         \u001b[1;32mif\u001b[0m \u001b[0mi\u001b[0m \u001b[1;32min\u001b[0m \u001b[0msubs\u001b[0m\u001b[1;33m:\u001b[0m \u001b[1;31m#find all subgraphs that have i as a node\u001b[0m\u001b[1;33m\u001b[0m\u001b[1;33m\u001b[0m\u001b[0m\n\u001b[0;32m      8\u001b[0m             \u001b[0mdis_matrix\u001b[0m \u001b[1;33m=\u001b[0m \u001b[0mdistance\u001b[0m\u001b[1;33m(\u001b[0m\u001b[0msubgraphs_set\u001b[0m\u001b[1;33m[\u001b[0m\u001b[0msubs\u001b[0m\u001b[1;33m]\u001b[0m\u001b[1;33m,\u001b[0m \u001b[0mmethod\u001b[0m \u001b[1;33m=\u001b[0m \u001b[1;34m'D'\u001b[0m\u001b[1;33m)\u001b[0m \u001b[1;31m#return distance matrix of graph subs\u001b[0m\u001b[1;33m\u001b[0m\u001b[1;33m\u001b[0m\u001b[0m\n\u001b[1;32m----> 9\u001b[1;33m             \u001b[1;32mif\u001b[0m \u001b[0mdis_matrix\u001b[0m\u001b[1;33m[\u001b[0m\u001b[0mi\u001b[0m\u001b[1;33m]\u001b[0m\u001b[1;33m.\u001b[0m\u001b[0mmax\u001b[0m\u001b[1;33m(\u001b[0m\u001b[1;36m0\u001b[0m\u001b[1;33m)\u001b[0m \u001b[1;33m<=\u001b[0m \u001b[1;36m3\u001b[0m\u001b[1;33m:\u001b[0m\u001b[1;33m\u001b[0m\u001b[1;33m\u001b[0m\u001b[0m\n\u001b[0m\u001b[0;32m     10\u001b[0m                 \u001b[1;32mfor\u001b[0m \u001b[0mk\u001b[0m \u001b[1;32min\u001b[0m \u001b[0msubs\u001b[0m\u001b[1;33m:\u001b[0m\u001b[1;33m\u001b[0m\u001b[1;33m\u001b[0m\u001b[0m\n\u001b[0;32m     11\u001b[0m                     \u001b[0mS\u001b[0m\u001b[1;33m.\u001b[0m\u001b[0madd\u001b[0m\u001b[1;33m(\u001b[0m\u001b[0mk\u001b[0m\u001b[1;33m)\u001b[0m\u001b[1;33m\u001b[0m\u001b[1;33m\u001b[0m\u001b[0m\n",
      "\u001b[1;31mIndexError\u001b[0m: index 2 is out of bounds for axis 0 with size 2"
     ]
    }
   ],
   "source": [
    "adjacency = np.array([[0, 1, 1, 0], [1, 0, 1, 1], [1, 1, 0, 0], [0, 1, 0, 0]])\n",
    "#adjacency = sparse.csr_matrix(adjacency)\n",
    "S = set()\n",
    "subgraphs_set = generate_subgraphs(adjacency)\n",
    "for i in range(adjacency.shape[0]): #iterate over all graph vertices\n",
    "    for subs in subgraphs_set.keys(): \n",
    "        if i in subs: #find all subgraphs that have i as a node\n",
    "            dist_matrix = distance(subgraphs_set[subs], method = 'D') #return distance matrix of graph subs\n",
    "            if dist_matrix[i].max(0) <= 3:\n",
    "                for k in subs:\n",
    "                    S.add(k)\n",
    "                #del subgraphs_set[subs] #this changes size during itertaion, ungünstig\n",
    "                #find a way to not iterate over subgraphs we've already worked with\n",
    "S\n",
    "\n",
    "#TODO: find index of i in subs: distance_matrix[subs == i]\n",
    "#      S.add(subs) anstatt s.add(k) "
   ]
  },
  {
   "cell_type": "code",
   "execution_count": 110,
   "id": "36d5bfbf",
   "metadata": {},
   "outputs": [
    {
     "name": "stdout",
     "output_type": "stream",
     "text": [
      "(0, 1)\n",
      "(1, 2)\n",
      "(1, 3)\n",
      "(0, 1, 2)\n",
      "(0, 1, 3)\n",
      "(1, 2, 3)\n",
      "(0, 1, 2, 3)\n"
     ]
    }
   ],
   "source": [
    "for x in generate_subgraphs(adjacency).keys():\n",
    "    if 1 in x:\n",
    "        print(x)"
   ]
  },
  {
   "cell_type": "markdown",
   "id": "078fc1c1",
   "metadata": {},
   "source": [
    "### Algorithm II"
   ]
  },
  {
   "cell_type": "code",
   "execution_count": null,
   "id": "be323a72",
   "metadata": {},
   "outputs": [],
   "source": [
    "def global_solution(f,alpha,Omega,S):\n",
    "    n = len(S) #stimmt n?\n",
    "    u = np.zeros(n)\n",
    "    V = Omega\n",
    "    Z = S\n",
    "    while V != ():\n",
    "#work in progress\n",
    "        c = np.empty(n)\n",
    "        for k in range(len(S)):\n",
    "            c[k] = (f[k] + alpha) / #abs value?\n",
    "        k_min = argmin(c)\n",
    "        u[k_min],V = 1, #v\\{Z}?\n",
    "    \n",
    "    while Z!= set():\n",
    "        k_prim = "
   ]
  }
 ],
 "metadata": {
  "kernelspec": {
   "display_name": "Python 3",
   "language": "python",
   "name": "python3"
  },
  "language_info": {
   "codemirror_mode": {
    "name": "ipython",
    "version": 3
   },
   "file_extension": ".py",
   "mimetype": "text/x-python",
   "name": "python",
   "nbconvert_exporter": "python",
   "pygments_lexer": "ipython3",
   "version": "3.9.4"
  }
 },
 "nbformat": 4,
 "nbformat_minor": 5
}
