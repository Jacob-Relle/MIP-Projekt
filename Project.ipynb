{
 "cells": [
  {
   "cell_type": "code",
   "execution_count": 1,
   "id": "4085ffd8",
   "metadata": {},
   "outputs": [],
   "source": [
    "import numpy as np\n",
    "import matplotlib.pyplot as plt\n",
    "import itertools #used to generate subsets\n",
    "import networkx as nx #easy to check for connectivity\n",
    "from scipy.ndimage import gaussian_filter\n",
    "from skimage.segmentation import watershed\n",
    "from skimage.future.graph import RAG\n",
    "from sknetwork.path import distance\n",
    "from skimage import util\n",
    "\n",
    "# import sknetwork as skn\n",
    "# from scipy import sparse\n"
   ]
  },
  {
   "cell_type": "code",
   "execution_count": 2,
   "id": "c52d3d7f",
   "metadata": {},
   "outputs": [],
   "source": [
    "#get image and define the image space\n",
    "image = plt.imread('images/dna-images/gnf/dna-0.png')[...,0]\n",
    "image_range = np.array([[i,j]for i in range(image.shape[0]) for j in range(image.shape[1])])"
   ]
  },
  {
   "cell_type": "code",
   "execution_count": null,
   "id": "1545e07a",
   "metadata": {},
   "outputs": [],
   "source": [
    "#To be removed\n",
    "'''\n",
    "def B_delta(p,delta): #rename suggestion: delta ball\n",
    "    B = np.empty_like([p])\n",
    "    for q in image_range:\n",
    "        if sum(abs(p-q)) <= delta:\n",
    "            B = np.append(B,[q],axis=0)\n",
    "    return B\n",
    "'''"
   ]
  },
  {
   "cell_type": "markdown",
   "id": "bddc2cc7",
   "metadata": {},
   "source": [
    "## Algorithm I"
   ]
  },
  {
   "cell_type": "markdown",
   "id": "87769bed",
   "metadata": {},
   "source": [
    "### TODO"
   ]
  },
  {
   "cell_type": "markdown",
   "id": "f47e6292",
   "metadata": {},
   "source": [
    "- S doesn't always include correct amount of graphs containing one vertex! Why?\n",
    "- Alg I takes too long for graph > 10 nodes. Suggestions:\n",
    "    - remove all subgraphs that were already added to the list"
   ]
  },
  {
   "cell_type": "code",
   "execution_count": 3,
   "id": "a09fc07b",
   "metadata": {},
   "outputs": [],
   "source": [
    "def generate_connected_subgraphs(G):\n",
    "    dim = nx.number_of_nodes(G)\n",
    "    vertices = range(dim)\n",
    "    S = {}\n",
    "    for length in range(dim+1):\n",
    "        for subs in list(itertools.combinations(vertices, length)):\n",
    "            if len(subs) == 1:\n",
    "                S[subs] = H\n",
    "            H = nx.induced_subgraph(G, subs)\n",
    "            if nx.is_empty(H) == False and nx.is_connected(H):\n",
    "                S[subs] = H\n",
    "    return S"
   ]
  },
  {
   "cell_type": "code",
   "execution_count": 33,
   "id": "f0e44f2c",
   "metadata": {},
   "outputs": [],
   "source": [
    "def generate_fragments(img,std_dev,int_threshold,min_seed_dist,max_search_depth,max_frag_dist):\n",
    "    #smooth image with gausian filter\n",
    "    g = gaussian_filter(img,std_dev)\n",
    "    #create empty copy of g to fill watersheed markers\n",
    "    g_markers = np.zeros_like(g)\n",
    "    #create empty copy of g to check for localmax\n",
    "    g_checked = np.copy(g)\n",
    "    \n",
    "    #Fehlerabfangen\n",
    "    \n",
    "    if std_dev < 0:\n",
    "        raise ValueError(\"smoothing strength needs to be positive\")\n",
    "    if int_threshold > 1 or int_threshold < 0:\n",
    "        raise ValueError(\"relative intensity threshold needs to be between 0 and 1\")\n",
    "    if min_seed_dist < 1:\n",
    "        raise ValueError(\"min seed distance needs to be >= 1\")\n",
    "    if max_search_depth < 0:\n",
    "        raise ValueError(\"maximum search error needs to be positive\")\n",
    "    if max_frag_dist < 0:\n",
    "        raise ValueError(\"maximum fragments distance needs zo be positive\")\n",
    "        \n",
    "    #Create array of watershed seeds\n",
    "    PI = []\n",
    "    #Loop while there are still unchecked regions\n",
    "    while np.amax(g_checked) != 0:\n",
    "        #Get indicies of g where g is maximal\n",
    "        glob_max = np.argwhere(g_checked == g_checked.max())\n",
    "        #Loop over all maximum points\n",
    "        for p in glob_max:\n",
    "            #Set boundaries for the local ball B\n",
    "            upper_bound = [max(0,p[0]-min_seed_dist),max(0,p[1]-min_seed_dist)]\n",
    "            lower_bound = [min(p[0]+min_seed_dist+1,g.shape[0]),min(p[1]+min_seed_dist+1,g.shape[1])]\n",
    "            #Create set with local points around p\n",
    "            B = g[upper_bound[0]:lower_bound[0],upper_bound[1]:lower_bound[1]]\n",
    "            #Check if p is strong local maximum\n",
    "            if (g[tuple(p)] == np.amax(B) and (1-int_threshold)*g[tuple(p)] >= np.amin(B)): \n",
    "                #add p to the set of seeds\n",
    "                PI.append(p)\n",
    "                #Set label of the seed\n",
    "                g_markers[tuple(p)] = len(PI)\n",
    "            #Set the Area B = 0\n",
    "            g_checked[upper_bound[0]:lower_bound[0],upper_bound[1]:lower_bound[1]] = 0\n",
    "    \n",
    "    #Create array of watershed regions\n",
    "    Omega = []\n",
    "    #Create Watershed regions\n",
    "    Labels = watershed(util.invert(g),markers=g_markers)\n",
    "    #loop over all labels\n",
    "    for label in range(1,len(PI)+1):\n",
    "        #Create array of the indices of this label\n",
    "        w = np.argwhere(Labels==label) \n",
    "        #Add the array of indices to Omega\n",
    "        Omega.append(w)\n",
    "    \n",
    "    #Create connectivity matrix\n",
    "    Epsilon = RAG(Labels,connectivity=2)\n",
    "    \n",
    "    '''\n",
    "    #Loop over number of all regions except the last\n",
    "    for i in range(len(Omega)-1):\n",
    "        #Loop over number of not used regions\n",
    "        for j in range(i+1, len(Omega)):\n",
    "            #local intensity peaks r(w)??\n",
    "            if not sum(abs(PI[i] - PI[j])) <= max_frag_dist:\n",
    "                Epsilon[i,j] = 0\n",
    "                Epsilon[j,i] = 0   \n",
    "    '''\n",
    "    S = set()\n",
    "    subgraphs_set = generate_connected_subgraphs(Epsilon)\n",
    "    #iterate over all graph vertices\n",
    "    for v in nx.nodes(Epsilon):\n",
    "        for H in subgraphs_set.values():\n",
    "            #find all subgraphs that have i as a node\n",
    "            if v in nx.nodes(H):\n",
    "                if max(nx.single_source_shortest_path_length(H, v).values()) <= max_search_depth:\n",
    "                    Nodes = tuple([w for w in nx.nodes(H)])\n",
    "                    S.add(Nodes)\n",
    "    S = [set(x) for x in S]\n",
    "\n",
    "    return Omega,Labels,S"
   ]
  },
  {
   "cell_type": "markdown",
   "id": "3c2e07a4",
   "metadata": {},
   "source": [
    "###  testing out graphs"
   ]
  },
  {
   "cell_type": "code",
   "execution_count": null,
   "id": "8f832818",
   "metadata": {},
   "outputs": [],
   "source": [
    "adjacency = np.array([[0, 1, 1, 0], [1, 0, 1, 1], [1, 1, 0, 0], [0, 1, 0, 0]])\n",
    "G = nx.Graph(adjacency)\n",
    "nx.draw(G)"
   ]
  },
  {
   "cell_type": "code",
   "execution_count": null,
   "id": "47896945",
   "metadata": {},
   "outputs": [],
   "source": [
    "adjacency = np.array([[0, 1, 1, 0], [1, 0, 1, 1], [1, 1, 0, 0], [0, 1, 0, 0]])\n",
    "G = nx.Graph(adjacency)\n",
    "S = set()\n",
    "subgraphs_set = generate_connected_subgraphs(G)\n",
    "#iterate over all graph vertices\n",
    "for v in nx.nodes(G):\n",
    "    for H in subgraphs_set.values():\n",
    "        #find all subgraphs that have i as a node\n",
    "        if v in nx.nodes(H):\n",
    "            if max(nx.single_source_shortest_path_length(H, v).values()) <= 0:\n",
    "                Nodes = tuple([w for w in nx.nodes(H)])\n",
    "                S.add(Nodes)\n",
    "S = [set(x) for x in S]\n",
    "S\n",
    "\n",
    "#node 3 is missing, idk why"
   ]
  },
  {
   "cell_type": "code",
   "execution_count": 36,
   "id": "cefa1ab4",
   "metadata": {},
   "outputs": [
    {
     "data": {
      "image/png": "[encoded data removed]",
      "text/plain": [
       "<Figure size 432x288 with 1 Axes>"
      ]
     },
     "metadata": {
      "needs_background": "light"
     },
     "output_type": "display_data"
    },
    {
     "name": "stdout",
     "output_type": "stream",
     "text": [
      "[{2}, {8, 9, 2}, {8, 4, 6, 7}, {5}, {2, 6, 7, 8, 9}, {4, 6}, {8}, {8, 9}, {8, 6}, {4, 5, 6}, {4, 6, 7}, {8, 2, 4, 6}, {2, 4, 6, 8, 9}, {1, 9}, {8, 9, 2, 7}, {2, 4, 6}, {8, 9, 2, 4}, {1, 9, 7}, {8, 1, 9}, {2, 4, 7, 8, 9}, {2, 4, 6, 7, 8, 9}, {2, 3, 6}, {4}, {8, 9, 4}, {1}, {7}, {8, 9, 7}, {5, 6}, {8, 2}, {9, 7}, {8, 9, 6, 7}, {8, 5, 6}, {2, 5, 6}, {8, 9, 4, 7}, {8, 1, 9, 7}, {1, 4, 7}, {8, 2, 3, 6}, {2, 4, 5, 6}, {8, 2, 3}, {9, 4, 7}, {8, 2, 4}, {8, 2, 5, 6}, {8, 9, 2, 6}, {8, 2, 7}, {8, 4, 7}, {4, 6, 7, 8, 9}, {8, 6, 7}, {1, 4, 9, 7}, {8, 9, 6}, {4, 7}, {2, 4, 5, 6, 8}, {3}, {6}, {8, 4, 5, 6}, {1, 4, 7, 8, 9}, {8, 4}, {8, 9, 4, 6}, {8, 1, 4, 7}, {8, 7}, {2, 3}, {1, 7}, {2, 6}, {8, 2, 4, 7}, {8, 2, 6}, {2, 4, 6, 7, 8}, {8, 2, 6, 7}, {8, 4, 6}, {8, 1, 7}]\n"
     ]
    }
   ],
   "source": [
    "#testing watershed\n",
    "a,b,c = generate_fragments(image,1,0.1,200,1,1)\n",
    "plt.imshow(b)\n",
    "plt.show()\n",
    "\n",
    "#to use when c = Epsilon\n",
    "#nx.draw(c)\n",
    "#nx.number_of_nodes(c)\n",
    "print(c)"
   ]
  },
  {
   "cell_type": "markdown",
   "id": "2e1b954e",
   "metadata": {},
   "source": [
    "### Algorithm II"
   ]
  },
  {
   "cell_type": "code",
   "execution_count": null,
   "id": "ea6d770b",
   "metadata": {},
   "outputs": [],
   "source": [
    "def global_solution(f,alpha,Omega,S):\n",
    "    #Set Variables we dont need Z but f_used\n",
    "    n = len(S) \n",
    "    u = np.zeros(n)\n",
    "    V = Omega\n",
    "    f_used = np.copy(f)\n",
    "    #First Loop over copy of Omega\n",
    "    while V != 0:\n",
    "        c = np.empty(n)\n",
    "        #Loop over number of Subgraphs in S\n",
    "        for k in range(n):\n",
    "            #Set intersection length\n",
    "            Zk_V = len(np.intersect1d(Omega,np.array(list(S[k]))))\n",
    "            #Set c if intersection is non empty \n",
    "            if  Zk_V !=0:\n",
    "                c[k] = (f[k] + alpha) / Zk_V\n",
    "            #Else set it to nan to ignore it\n",
    "            else:\n",
    "                c[k] = np.nan\n",
    "        #Get the argmin of c\n",
    "        k_min = np.nanargmin(c)\n",
    "        #Set u of argmin to 1\n",
    "        u[k_min] = 1 \n",
    "        #Loop over all areas in Z_k\n",
    "        for w in S[k]:\n",
    "            #Set V of those areas to 0 to indicate that they have been used already\n",
    "            V[V==w] = 0\n",
    "    \n",
    "    #Second loop over not used elements of f\n",
    "    while f_used != np.empty(n):\n",
    "        #Set current element of interest k_prim\n",
    "        k_prim = np.nanargmin(f_used)\n",
    "        #check if u[_k_prim hasn been used in first loop\n",
    "        if u[k_prim]==0:\n",
    "            #crate subvector v of u\n",
    "            v = np.copy(u)\n",
    "            #loop over all elements of u that are non zero\n",
    "            for ind in np.nonzero(u):\n",
    "                #check if Z_ind is subset of Z_kprim\n",
    "                if S[ind] not in S[k_prim]:\n",
    "                    #if not set v to 0 to ignore it in the union\n",
    "                    v[ind] = 0\n",
    "            #check if union of all left subsets is equal Z_kprim\n",
    "            if S[k_prim] == set().union(S[k] for k in np.nonzero(v)):\n",
    "                #check smth...\n",
    "                if f[k_prim]+alpha < np.dot(v,f + (alpha*np.ones(n))):\n",
    "                    #Set u values of the used subsets to 0 and the union to 1\n",
    "                    u = u-v\n",
    "                    u[k_prim] = 1\n",
    "        #make f equal to nan for the used region\n",
    "        f_used[k_prim]=np.nan\n",
    "    return u"
   ]
  }
 ],
 "metadata": {
  "interpreter": {
   "hash": "916dbcbb3f70747c44a77c7bcd40155683ae19c65e1c03b4aa3499c5328201f1"
  },
  "kernelspec": {
   "display_name": "Python 3",
   "language": "python",
   "name": "python3"
  },
  "language_info": {
   "codemirror_mode": {
    "name": "ipython",
    "version": 3
   },
   "file_extension": ".py",
   "mimetype": "text/x-python",
   "name": "python",
   "nbconvert_exporter": "python",
   "pygments_lexer": "ipython3",
   "version": "3.9.4"
  }
 },
 "nbformat": 4,
 "nbformat_minor": 5
}
